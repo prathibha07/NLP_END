{
  "nbformat": 4,
  "nbformat_minor": 0,
  "metadata": {
    "colab": {
      "name": "Sentiment Analysis using LSTM RNN.ipynb",
      "provenance": [],
      "collapsed_sections": []
    },
    "kernelspec": {
      "name": "python3",
      "display_name": "Python 3"
    },
    "accelerator": "GPU"
  },
  "cells": [
    {
      "cell_type": "markdown",
      "metadata": {
        "id": "GYiRsFGD6iUC"
      },
      "source": [
        "# 0 TorchText"
      ]
    },
    {
      "cell_type": "markdown",
      "metadata": {
        "id": "tp5IzBGsPGHs"
      },
      "source": [
        "## Dataset Preview\n",
        "\n",
        "Your first step to deep learning in NLP. We will be mostly using PyTorch. Just like torchvision, PyTorch provides an official library, torchtext, for handling text-processing pipelines. \n",
        "\n",
        "We will be using previous session tweet dataset. Let's just preview the dataset."
      ]
    },
    {
      "cell_type": "code",
      "metadata": {
        "id": "o1-Yz-5RRFYc"
      },
      "source": [
        "# import pandas as pd\n",
        "# df = pd.read_csv('drive/MyDrive/END Course Files/Lecture 6/tweets.csv')\n",
        "# df.head()"
      ],
      "execution_count": null,
      "outputs": []
    },
    {
      "cell_type": "code",
      "metadata": {
        "id": "bCHn2CqB7Xh3"
      },
      "source": [
        "!wget -q https://github.com/prathibha07/NLP_END/tree/main/Session7/datasetSentences.txt
!wget -q https://github.com/prathibha07/NLP_END/tree/main/Session7/dictionary.txt
!wget -q https://github.com/prathibha07/NLP_END/tree/main/Session7/sentiment_labels.txt"
      ],
      "execution_count": null,
      "outputs": []
    },
    {
      "cell_type": "code",
      "metadata": {
        "id": "Hompbmzh97oc"
      },
      "source": [
        "import pandas as pd\r\n",
        "phrase_labels = pd.read_csv('sentiment_labels.txt', sep='|')\r\n",
        "phrases = pd.read_csv('dictionary.txt', sep='|')\r\n",
        "sentences = pd.read_csv('datasetSentences.txt', sep='\\t')"
      ],
      "execution_count": null,
      "outputs": []
    },
    {
      "cell_type": "code",
      "metadata": {
        "colab": {
          "base_uri": "https://localhost:8080/",
          "height": 195
        },
        "id": "3nK0ycEM-pDp",
        "outputId": "d7e4e7ca-61d8-4f2c-e753-5201d05bdf1b"
      },
      "source": [
        "ph_sen = sentences.merge(phrases, how='inner', right_on='phrase', left_on='sentence')\r\n",
        "ph_sen.head()"
      ],
      "execution_count": null,
      "outputs": [
        {
          "output_type": "execute_result",
          "data": {
            "text/html": [
              "<div>\n",
              "<style scoped>\n",
              "    .dataframe tbody tr th:only-of-type {\n",
              "        vertical-align: middle;\n",
              "    }\n",
              "\n",
              "    .dataframe tbody tr th {\n",
              "        vertical-align: top;\n",
              "    }\n",
              "\n",
              "    .dataframe thead th {\n",
              "        text-align: right;\n",
              "    }\n",
              "</style>\n",
              "<table border=\"1\" class=\"dataframe\">\n",
              "  <thead>\n",
              "    <tr style=\"text-align: right;\">\n",
              "      <th></th>\n",
              "      <th>sentence_index</th>\n",
              "      <th>sentence</th>\n",
              "      <th>phrase</th>\n",
              "      <th>phrase ids</th>\n",
              "    </tr>\n",
              "  </thead>\n",
              "  <tbody>\n",
              "    <tr>\n",
              "      <th>0</th>\n",
              "      <td>1</td>\n",
              "      <td>The Rock is destined to be the 21st Century 's...</td>\n",
              "      <td>The Rock is destined to be the 21st Century 's...</td>\n",
              "      <td>226166</td>\n",
              "    </tr>\n",
              "    <tr>\n",
              "      <th>1</th>\n",
              "      <td>2</td>\n",
              "      <td>The gorgeously elaborate continuation of `` Th...</td>\n",
              "      <td>The gorgeously elaborate continuation of `` Th...</td>\n",
              "      <td>226300</td>\n",
              "    </tr>\n",
              "    <tr>\n",
              "      <th>2</th>\n",
              "      <td>3</td>\n",
              "      <td>Effective but too-tepid biopic</td>\n",
              "      <td>Effective but too-tepid biopic</td>\n",
              "      <td>13995</td>\n",
              "    </tr>\n",
              "    <tr>\n",
              "      <th>3</th>\n",
              "      <td>4</td>\n",
              "      <td>If you sometimes like to go to the movies to h...</td>\n",
              "      <td>If you sometimes like to go to the movies to h...</td>\n",
              "      <td>14123</td>\n",
              "    </tr>\n",
              "    <tr>\n",
              "      <th>4</th>\n",
              "      <td>5</td>\n",
              "      <td>Emerges as something rare , an issue movie tha...</td>\n",
              "      <td>Emerges as something rare , an issue movie tha...</td>\n",
              "      <td>13999</td>\n",
              "    </tr>\n",
              "  </tbody>\n",
              "</table>\n",
              "</div>"
            ],
            "text/plain": [
              "   sentence_index  ... phrase ids\n",
              "0               1  ...     226166\n",
              "1               2  ...     226300\n",
              "2               3  ...      13995\n",
              "3               4  ...      14123\n",
              "4               5  ...      13999\n",
              "\n",
              "[5 rows x 4 columns]"
            ]
          },
          "metadata": {
            "tags": []
          },
          "execution_count": 188
        }
      ]
    },
    {
      "cell_type": "code",
      "metadata": {
        "id": "ERlnseeUD8ZM"
      },
      "source": [
        "# debugging, check later why all 11855 sentences didn't appear in the merge. Only 11286 appeared in the merge\r\n",
        "\r\n",
        "# merged = sentences.merge(phrases, how='left', right_on='phrase', left_on='sentence')\r\n",
        "\r\n",
        "# cnt = 0\r\n",
        "# for i, tf in enumerate(pd.isnull(merged)['phrase ids']):\r\n",
        "#     if tf == True:\r\n",
        "#         print(i)\r\n",
        "#         cnt += 1\r\n",
        "# print(cnt)\r\n",
        "\r\n",
        "# phrases.loc[phrases['phrase ids'] == 183611].phrase.iloc[0]  == sentences.loc[sentences['sentence_index'] == 10909].sentence.iloc[0]"
      ],
      "execution_count": null,
      "outputs": []
    },
    {
      "cell_type": "code",
      "metadata": {
        "colab": {
          "base_uri": "https://localhost:8080/",
          "height": 195
        },
        "id": "BtTKJvIuOKd4",
        "outputId": "416cac0c-7c68-4136-a530-b1a3717acda9"
      },
      "source": [
        "final_merge = phrase_labels.merge(ph_sen, how='inner', left_on='phrase ids', right_on='phrase ids')\r\n",
        "dataset = final_merge[['sentence', 'sentiment values']]\r\n",
        "dataset.head()"
      ],
      "execution_count": null,
      "outputs": [
        {
          "output_type": "execute_result",
          "data": {
            "text/html": [
              "<div>\n",
              "<style scoped>\n",
              "    .dataframe tbody tr th:only-of-type {\n",
              "        vertical-align: middle;\n",
              "    }\n",
              "\n",
              "    .dataframe tbody tr th {\n",
              "        vertical-align: top;\n",
              "    }\n",
              "\n",
              "    .dataframe thead th {\n",
              "        text-align: right;\n",
              "    }\n",
              "</style>\n",
              "<table border=\"1\" class=\"dataframe\">\n",
              "  <thead>\n",
              "    <tr style=\"text-align: right;\">\n",
              "      <th></th>\n",
              "      <th>sentence</th>\n",
              "      <th>sentiment values</th>\n",
              "    </tr>\n",
              "  </thead>\n",
              "  <tbody>\n",
              "    <tr>\n",
              "      <th>0</th>\n",
              "      <td>... a bland murder-on-campus yawner .</td>\n",
              "      <td>0.013889</td>\n",
              "    </tr>\n",
              "    <tr>\n",
              "      <th>1</th>\n",
              "      <td>... a hollow joke told by a cinematic gymnast ...</td>\n",
              "      <td>0.263890</td>\n",
              "    </tr>\n",
              "    <tr>\n",
              "      <th>2</th>\n",
              "      <td>... the picture 's cleverness is ironically mu...</td>\n",
              "      <td>0.472220</td>\n",
              "    </tr>\n",
              "    <tr>\n",
              "      <th>3</th>\n",
              "      <td>classic cinema served up with heart and humor</td>\n",
              "      <td>0.875000</td>\n",
              "    </tr>\n",
              "    <tr>\n",
              "      <th>4</th>\n",
              "      <td>entertaining enough , but nothing new</td>\n",
              "      <td>0.319440</td>\n",
              "    </tr>\n",
              "  </tbody>\n",
              "</table>\n",
              "</div>"
            ],
            "text/plain": [
              "                                            sentence  sentiment values\n",
              "0              ... a bland murder-on-campus yawner .          0.013889\n",
              "1  ... a hollow joke told by a cinematic gymnast ...          0.263890\n",
              "2  ... the picture 's cleverness is ironically mu...          0.472220\n",
              "3      classic cinema served up with heart and humor          0.875000\n",
              "4              entertaining enough , but nothing new          0.319440"
            ]
          },
          "metadata": {
            "tags": []
          },
          "execution_count": 190
        }
      ]
    },
    {
      "cell_type": "code",
      "metadata": {
        "id": "R7JdpCW-YbAG",
        "colab": {
          "base_uri": "https://localhost:8080/",
          "height": 296
        },
        "outputId": "57ac0e22-ef96-475c-97a9-342122aaec82"
      },
      "source": [
        "def bucket_sentiment(x):\r\n",
        "    assert x >= 0 and x <= 1, \"sentiment not in range [0-1]\"\r\n",
        "    toret = 4\r\n",
        "    if x >= 0 and x <= 0.2:\r\n",
        "        toret = 0\r\n",
        "    elif x > 0.2 and x <= 0.4:\r\n",
        "        toret = 1\r\n",
        "    elif x > 0.4 and x <= 0.6:\r\n",
        "        toret = 2\r\n",
        "    elif x > 0.6 and x <= 0.8:\r\n",
        "        toret = 3\r\n",
        "    return toret\r\n",
        "\r\n",
        "dataset['sentiment values'] = dataset['sentiment values'].map(bucket_sentiment)\r\n",
        "dataset.head()"
      ],
      "execution_count": null,
      "outputs": [
        {
          "output_type": "stream",
          "text": [
            "/usr/local/lib/python3.6/dist-packages/ipykernel_launcher.py:14: SettingWithCopyWarning: \n",
            "A value is trying to be set on a copy of a slice from a DataFrame.\n",
            "Try using .loc[row_indexer,col_indexer] = value instead\n",
            "\n",
            "See the caveats in the documentation: https://pandas.pydata.org/pandas-docs/stable/user_guide/indexing.html#returning-a-view-versus-a-copy\n",
            "  \n"
          ],
          "name": "stderr"
        },
        {
          "output_type": "execute_result",
          "data": {
            "text/html": [
              "<div>\n",
              "<style scoped>\n",
              "    .dataframe tbody tr th:only-of-type {\n",
              "        vertical-align: middle;\n",
              "    }\n",
              "\n",
              "    .dataframe tbody tr th {\n",
              "        vertical-align: top;\n",
              "    }\n",
              "\n",
              "    .dataframe thead th {\n",
              "        text-align: right;\n",
              "    }\n",
              "</style>\n",
              "<table border=\"1\" class=\"dataframe\">\n",
              "  <thead>\n",
              "    <tr style=\"text-align: right;\">\n",
              "      <th></th>\n",
              "      <th>sentence</th>\n",
              "      <th>sentiment values</th>\n",
              "    </tr>\n",
              "  </thead>\n",
              "  <tbody>\n",
              "    <tr>\n",
              "      <th>0</th>\n",
              "      <td>... a bland murder-on-campus yawner .</td>\n",
              "      <td>0</td>\n",
              "    </tr>\n",
              "    <tr>\n",
              "      <th>1</th>\n",
              "      <td>... a hollow joke told by a cinematic gymnast ...</td>\n",
              "      <td>1</td>\n",
              "    </tr>\n",
              "    <tr>\n",
              "      <th>2</th>\n",
              "      <td>... the picture 's cleverness is ironically mu...</td>\n",
              "      <td>2</td>\n",
              "    </tr>\n",
              "    <tr>\n",
              "      <th>3</th>\n",
              "      <td>classic cinema served up with heart and humor</td>\n",
              "      <td>4</td>\n",
              "    </tr>\n",
              "    <tr>\n",
              "      <th>4</th>\n",
              "      <td>entertaining enough , but nothing new</td>\n",
              "      <td>1</td>\n",
              "    </tr>\n",
              "  </tbody>\n",
              "</table>\n",
              "</div>"
            ],
            "text/plain": [
              "                                            sentence  sentiment values\n",
              "0              ... a bland murder-on-campus yawner .                 0\n",
              "1  ... a hollow joke told by a cinematic gymnast ...                 1\n",
              "2  ... the picture 's cleverness is ironically mu...                 2\n",
              "3      classic cinema served up with heart and humor                 4\n",
              "4              entertaining enough , but nothing new                 1"
            ]
          },
          "metadata": {
            "tags": []
          },
          "execution_count": 191
        }
      ]
    },
    {
      "cell_type": "markdown",
      "metadata": {
        "id": "EM_QEDuzR-f4"
      },
      "source": [
        "Class split"
      ]
    },
    {
      "cell_type": "code",
      "metadata": {
        "id": "zqRsoF6xYdgl",
        "colab": {
          "base_uri": "https://localhost:8080/"
        },
        "outputId": "118927b5-4f49-4760-b42e-96cf988ddddf"
      },
      "source": [
        "dataset['sentiment values'].value_counts()"
      ],
      "execution_count": null,
      "outputs": [
        {
          "output_type": "execute_result",
          "data": {
            "text/plain": [
              "1    2971\n",
              "3    2966\n",
              "2    2144\n",
              "4    1773\n",
              "0    1432\n",
              "Name: sentiment values, dtype: int64"
            ]
          },
          "metadata": {
            "tags": []
          },
          "execution_count": 192
        }
      ]
    },
    {
      "cell_type": "markdown",
      "metadata": {
        "id": "MOxMIxDjwsOG"
      },
      "source": [
        "Augmentation below"
      ]
    },
    {
      "cell_type": "code",
      "metadata": {
        "id": "nnAhzcyAymLq"
      },
      "source": [
        "import spacy\r\n",
        "import random\r\n",
        "nlp = spacy.load('en')"
      ],
      "execution_count": null,
      "outputs": []
    },
    {
      "cell_type": "code",
      "metadata": {
        "id": "_oqoOd-AxFok"
      },
      "source": [
        "def random_deletion(words, p=0.5): \r\n",
        "    if len(words) == 1: # return if single word\r\n",
        "        return words\r\n",
        "    remaining = list(filter(lambda x: random.uniform(0,1) > p, words)) \r\n",
        "    if len(remaining) == 0: # if not left, sample a random word\r\n",
        "        return [random.choice(words)] \r\n",
        "    else:\r\n",
        "        return remaining"
      ],
      "execution_count": null,
      "outputs": []
    },
    {
      "cell_type": "code",
      "metadata": {
        "id": "R6aF-UDp52WC"
      },
      "source": [
        "def random_swap(sentence, n=5): \r\n",
        "    length = range(len(sentence)) \r\n",
        "    for _ in range(n):\r\n",
        "        idx1, idx2 = random.sample(length, 2)\r\n",
        "        sentence[idx1], sentence[idx2] = sentence[idx2], sentence[idx1] \r\n",
        "    return sentence"
      ],
      "execution_count": null,
      "outputs": []
    },
    {
      "cell_type": "code",
      "metadata": {
        "id": "slNzz8wJxWx8"
      },
      "source": [
        "def augment(augment_fn, df, p=0.3):\r\n",
        "    \"\"\"\r\n",
        "    each row in `df` has probability `p` of being augmented with `augment_fn`\r\n",
        "    returns a dataframe after applying `augment_fn`\r\n",
        "    \"\"\"\r\n",
        "    from pdb import set_trace as bp\r\n",
        "    \r\n",
        "    sentences_to_augment = list(filter(lambda x: random.uniform(0,1) > p, zip(df['sentence'], df['sentiment values']) ))\r\n",
        "\r\n",
        "    tokenized_s_to_a = []\r\n",
        "    for sen in sentences_to_augment:\r\n",
        "        tokenized_s_to_a.append([tok.text for tok in nlp.tokenizer(sen[0])])\r\n",
        "\r\n",
        "    sentences_after_augment = [' '.join(augment_fn(sen)) for sen in tokenized_s_to_a]\r\n",
        "\r\n",
        "    sentiments = [x[1] for x in sentences_to_augment]\r\n",
        "\r\n",
        "    return pd.DataFrame(list(zip(sentences_after_augment, sentiments)), columns = ['sentence', 'sentiment values'])\r\n"
      ],
      "execution_count": null,
      "outputs": []
    },
    {
      "cell_type": "code",
      "metadata": {
        "id": "OdsrUm7EwraB"
      },
      "source": [
        "random_del_dataset = augment(random_deletion, dataset)\r\n",
        "random_swap_dataset = augment(random_swap, dataset)"
      ],
      "execution_count": null,
      "outputs": []
    },
    {
      "cell_type": "code",
      "metadata": {
        "colab": {
          "base_uri": "https://localhost:8080/"
        },
        "id": "hnlJ74tI7R5c",
        "outputId": "cf4748d8-4465-4403-cc18-d8a075c4d962"
      },
      "source": [
        "print(dataset.shape, random_del_dataset.shape, random_swap_dataset.shape)"
      ],
      "execution_count": null,
      "outputs": [
        {
          "output_type": "stream",
          "text": [
            "(11286, 2) (7963, 2) (7981, 2)\n"
          ],
          "name": "stdout"
        }
      ]
    },
    {
      "cell_type": "code",
      "metadata": {
        "colab": {
          "base_uri": "https://localhost:8080/"
        },
        "id": "LmCFqtkD7cdF",
        "outputId": "bfd3f1de-a1fe-4804-bdcb-4e18d09ff128"
      },
      "source": [
        "dataset = dataset.append(random_del_dataset, ignore_index=True)\r\n",
        "dataset = dataset.append(random_swap_dataset, ignore_index=True)\r\n",
        "print(\"Final dataset shape: \", dataset.shape)"
      ],
      "execution_count": null,
      "outputs": [
        {
          "output_type": "stream",
          "text": [
            "Final dataset shape:  (27230, 2)\n"
          ],
          "name": "stdout"
        }
      ]
    },
    {
      "cell_type": "code",
      "metadata": {
        "colab": {
          "base_uri": "https://localhost:8080/",
          "height": 195
        },
        "id": "Ri8kuKb68TQs",
        "outputId": "8d34da8c-0634-41d9-d821-334b8bb51492"
      },
      "source": [
        "dataset.head()"
      ],
      "execution_count": null,
      "outputs": [
        {
          "output_type": "execute_result",
          "data": {
            "text/html": [
              "<div>\n",
              "<style scoped>\n",
              "    .dataframe tbody tr th:only-of-type {\n",
              "        vertical-align: middle;\n",
              "    }\n",
              "\n",
              "    .dataframe tbody tr th {\n",
              "        vertical-align: top;\n",
              "    }\n",
              "\n",
              "    .dataframe thead th {\n",
              "        text-align: right;\n",
              "    }\n",
              "</style>\n",
              "<table border=\"1\" class=\"dataframe\">\n",
              "  <thead>\n",
              "    <tr style=\"text-align: right;\">\n",
              "      <th></th>\n",
              "      <th>sentence</th>\n",
              "      <th>sentiment values</th>\n",
              "    </tr>\n",
              "  </thead>\n",
              "  <tbody>\n",
              "    <tr>\n",
              "      <th>0</th>\n",
              "      <td>... a bland murder-on-campus yawner .</td>\n",
              "      <td>0</td>\n",
              "    </tr>\n",
              "    <tr>\n",
              "      <th>1</th>\n",
              "      <td>... a hollow joke told by a cinematic gymnast ...</td>\n",
              "      <td>1</td>\n",
              "    </tr>\n",
              "    <tr>\n",
              "      <th>2</th>\n",
              "      <td>... the picture 's cleverness is ironically mu...</td>\n",
              "      <td>2</td>\n",
              "    </tr>\n",
              "    <tr>\n",
              "      <th>3</th>\n",
              "      <td>classic cinema served up with heart and humor</td>\n",
              "      <td>4</td>\n",
              "    </tr>\n",
              "    <tr>\n",
              "      <th>4</th>\n",
              "      <td>entertaining enough , but nothing new</td>\n",
              "      <td>1</td>\n",
              "    </tr>\n",
              "  </tbody>\n",
              "</table>\n",
              "</div>"
            ],
            "text/plain": [
              "                                            sentence  sentiment values\n",
              "0              ... a bland murder-on-campus yawner .                 0\n",
              "1  ... a hollow joke told by a cinematic gymnast ...                 1\n",
              "2  ... the picture 's cleverness is ironically mu...                 2\n",
              "3      classic cinema served up with heart and humor                 4\n",
              "4              entertaining enough , but nothing new                 1"
            ]
          },
          "metadata": {
            "tags": []
          },
          "execution_count": 200
        }
      ]
    },
    {
      "cell_type": "markdown",
      "metadata": {
        "id": "XJ6o_79ISSVb"
      },
      "source": [
        "## Defining Fields"
      ]
    },
    {
      "cell_type": "markdown",
      "metadata": {
        "id": "e63g08ijOrf7"
      },
      "source": [
        "Now we shall be defining LABEL as a LabelField, which is a subclass of Field that sets sequen tial to False (as it’s our numerical category class). TWEET is a standard Field object, where we have decided to use the spaCy tokenizer and convert all the text to lower‐ case."
      ]
    },
    {
      "cell_type": "code",
      "metadata": {
        "id": "qk8IP4SK1Lrp",
        "colab": {
          "base_uri": "https://localhost:8080/"
        },
        "outputId": "04d2f8d9-0f38-4840-a31c-e79282b31ede"
      },
      "source": [
        "# Import Library\n",
        "import random\n",
        "import torch, torchtext\n",
        "from torchtext import data \n",
        "\n",
        "# Manual Seed\n",
        "SEED = 43\n",
        "torch.manual_seed(SEED)"
      ],
      "execution_count": null,
      "outputs": [
        {
          "output_type": "execute_result",
          "data": {
            "text/plain": [
              "<torch._C.Generator at 0x7f5a66981ac8>"
            ]
          },
          "metadata": {
            "tags": []
          },
          "execution_count": 201
        }
      ]
    },
    {
      "cell_type": "code",
      "metadata": {
        "id": "u6bKQax2Mf_U"
      },
      "source": [
        "Tweet = data.Field(sequential = True, tokenize = 'spacy', batch_first =True, include_lengths=True)\n",
        "Label = data.LabelField(tokenize ='spacy', is_target=True, batch_first =True, sequential =False)"
      ],
      "execution_count": null,
      "outputs": []
    },
    {
      "cell_type": "markdown",
      "metadata": {
        "id": "mX-lYIe_O7Vy"
      },
      "source": [
        "Having defined those fields, we now need to produce a list that maps them onto the list of rows that are in the CSV:"
      ]
    },
    {
      "cell_type": "code",
      "metadata": {
        "id": "VawdWq36O6td"
      },
      "source": [
        "fields = [('tweets', Tweet),('labels',Label)]"
      ],
      "execution_count": null,
      "outputs": []
    },
    {
      "cell_type": "markdown",
      "metadata": {
        "id": "ZbtZ-Ph2P1xL"
      },
      "source": [
        "Armed with our declared fields, lets convert from pandas to list to torchtext. We could also use TabularDataset to apply that definition to the CSV directly but showing an alternative approach too."
      ]
    },
    {
      "cell_type": "code",
      "metadata": {
        "id": "L3OLcJ5B7rHz"
      },
      "source": [
        "example = [data.Example.fromlist([dataset['sentence'][i],dataset['sentiment values'][i]], fields) for i in range(dataset.shape[0])] "
      ],
      "execution_count": null,
      "outputs": []
    },
    {
      "cell_type": "code",
      "metadata": {
        "id": "nT-flpH-P1cd"
      },
      "source": [
        "# Creating dataset\n",
        "#twitterDataset = data.TabularDataset(path=\"tweets.csv\", format=\"CSV\", fields=fields, skip_header=True)\n",
        "\n",
        "twitterDataset = data.Dataset(example, fields)"
      ],
      "execution_count": null,
      "outputs": []
    },
    {
      "cell_type": "markdown",
      "metadata": {
        "id": "g6ZnyCPaR08F"
      },
      "source": [
        "Finally, we can split into training, testing, and validation sets by using the split() method:"
      ]
    },
    {
      "cell_type": "code",
      "metadata": {
        "id": "uPYXyuKhRpBk"
      },
      "source": [
        "(train, valid) = twitterDataset.split(split_ratio=[0.85, 0.15], random_state=random.seed(SEED))"
      ],
      "execution_count": null,
      "outputs": []
    },
    {
      "cell_type": "code",
      "metadata": {
        "id": "ykvsCGQMR6UD",
        "colab": {
          "base_uri": "https://localhost:8080/"
        },
        "outputId": "9df4a1ac-7c94-461b-dcb9-f2be8e166380"
      },
      "source": [
        "(len(train), len(valid))"
      ],
      "execution_count": null,
      "outputs": [
        {
          "output_type": "execute_result",
          "data": {
            "text/plain": [
              "(23146, 4084)"
            ]
          },
          "metadata": {
            "tags": []
          },
          "execution_count": 207
        }
      ]
    },
    {
      "cell_type": "markdown",
      "metadata": {
        "id": "kix8P2IKSBaV"
      },
      "source": [
        "An example from the dataset:"
      ]
    },
    {
      "cell_type": "code",
      "metadata": {
        "id": "dUpEOQruR9JL",
        "colab": {
          "base_uri": "https://localhost:8080/"
        },
        "outputId": "1c848547-5764-474f-db01-59c4f88581fc"
      },
      "source": [
        "vars(train.examples[10])"
      ],
      "execution_count": null,
      "outputs": [
        {
          "output_type": "execute_result",
          "data": {
            "text/plain": [
              "{'labels': 2,\n",
              " 'tweets': ['The',\n",
              "  'film',\n",
              "  \"'s\",\n",
              "  'only',\n",
              "  'missteps',\n",
              "  'come',\n",
              "  'from',\n",
              "  'the',\n",
              "  'script',\n",
              "  \"'s\",\n",
              "  'insistence',\n",
              "  'on',\n",
              "  'providing',\n",
              "  'deep',\n",
              "  'emotional',\n",
              "  'motivation',\n",
              "  'for',\n",
              "  'each',\n",
              "  'and',\n",
              "  'every',\n",
              "  'one',\n",
              "  'of',\n",
              "  'Abagnale',\n",
              "  \"'s\",\n",
              "  'antics',\n",
              "  '.']}"
            ]
          },
          "metadata": {
            "tags": []
          },
          "execution_count": 208
        }
      ]
    },
    {
      "cell_type": "markdown",
      "metadata": {
        "id": "AKdllP3FST4N"
      },
      "source": [
        "## Building Vocabulary"
      ]
    },
    {
      "cell_type": "markdown",
      "metadata": {
        "id": "SuvWQ-SpSmSz"
      },
      "source": [
        "At this point we would have built a one-hot encoding of each word that is present in the dataset—a rather tedious process. Thankfully, torchtext will do this for us, and will also allow a max_size parameter to be passed in to limit the vocabu‐ lary to the most common words. This is normally done to prevent the construction of a huge, memory-hungry model. We don’t want our GPUs too overwhelmed, after all. \n",
        "\n",
        "Let’s limit the vocabulary to a maximum of 5000 words in our training set:\n"
      ]
    },
    {
      "cell_type": "code",
      "metadata": {
        "id": "mx955u93SGeY"
      },
      "source": [
        "Tweet.build_vocab(train)\n",
        "Label.build_vocab(train)"
      ],
      "execution_count": null,
      "outputs": []
    },
    {
      "cell_type": "markdown",
      "metadata": {
        "id": "xvyEeEjXTGhX"
      },
      "source": [
        "By default, torchtext will add two more special tokens, <unk> for unknown words and <pad>, a padding token that will be used to pad all our text to roughly the same size to help with efficient batching on the GPU."
      ]
    },
    {
      "cell_type": "code",
      "metadata": {
        "id": "rA3tIESdcJdN",
        "colab": {
          "base_uri": "https://localhost:8080/"
        },
        "outputId": "163c2fec-f202-4205-90a3-8738ba9de38b"
      },
      "source": [
        "print('Size of input vocab : ', len(Tweet.vocab))\n",
        "print('Size of label vocab : ', len(Label.vocab))\n",
        "print('Top 10 words appreared repeatedly :', list(Tweet.vocab.freqs.most_common(10)))\n",
        "print('Labels : ', Label.vocab.stoi)"
      ],
      "execution_count": null,
      "outputs": [
        {
          "output_type": "stream",
          "text": [
            "Size of input vocab :  19053\n",
            "Size of label vocab :  5\n",
            "Top 10 words appreared repeatedly : [('.', 18658), (',', 16374), ('the', 13901), ('and', 10147), ('of', 10056), ('a', 10039), ('to', 7055), ('-', 6281), ('is', 5811), (\"'s\", 5804)]\n",
            "Labels :  defaultdict(<function _default_unk_index at 0x7f5a65e27e18>, {1: 0, 3: 1, 2: 2, 4: 3, 0: 4})\n"
          ],
          "name": "stdout"
        }
      ]
    },
    {
      "cell_type": "markdown",
      "metadata": {
        "id": "rwjD2-ebTeUX"
      },
      "source": [
        "**Lots of stopwords!!**"
      ]
    },
    {
      "cell_type": "markdown",
      "metadata": {
        "id": "sLWW221gTpNs"
      },
      "source": [
        "Now we need to create a data loader to feed into our training loop. Torchtext provides the BucketIterator method that will produce what it calls a Batch, which is almost, but not quite, like the data loader we used on images."
      ]
    },
    {
      "cell_type": "markdown",
      "metadata": {
        "id": "EQqMhMoDUDmn"
      },
      "source": [
        "But at first declare the device we are using."
      ]
    },
    {
      "cell_type": "code",
      "metadata": {
        "id": "Zfo2QhGJUK4l"
      },
      "source": [
        "device = torch.device(\"cuda\" if torch.cuda.is_available() else \"cpu\")"
      ],
      "execution_count": null,
      "outputs": []
    },
    {
      "cell_type": "code",
      "metadata": {
        "id": "zK2ORoqdTNsM"
      },
      "source": [
        "train_iterator, valid_iterator = data.BucketIterator.splits((train, valid), batch_size = 32, \n",
        "                                                            sort_key = lambda x: len(x.tweets),\n",
        "                                                            sort_within_batch=True, device = device)"
      ],
      "execution_count": null,
      "outputs": []
    },
    {
      "cell_type": "markdown",
      "metadata": {
        "id": "Gg7gTFQO4fby"
      },
      "source": [
        "Save the vocabulary for later use"
      ]
    },
    {
      "cell_type": "code",
      "metadata": {
        "id": "niE9Cc6-2bD_"
      },
      "source": [
        "import os, pickle\n",
        "with open('tokenizer.pkl', 'wb') as tokens: \n",
        "    pickle.dump(Tweet.vocab.stoi, tokens)"
      ],
      "execution_count": null,
      "outputs": []
    },
    {
      "cell_type": "markdown",
      "metadata": {
        "id": "1AbsQwqkVyAy"
      },
      "source": [
        "## Defining Our Model"
      ]
    },
    {
      "cell_type": "markdown",
      "metadata": {
        "id": "E4PED4HJWH4t"
      },
      "source": [
        "We use the Embedding and LSTM modules in PyTorch to build a simple model for classifying tweets.\n",
        "\n",
        "In this model we create three layers. \n",
        "1. First, the words in our tweets are pushed into an Embedding layer, which we have established as a 300-dimensional vector embedding. \n",
        "2. That’s then fed into a 2 stacked-LSTMs with 100 hidden features (again, we’re compressing down from the 300-dimensional input like we did with images). We are using 2 LSTMs for using the dropout.\n",
        "3. Finally, the output of the LSTM (the final hidden state after processing the incoming tweet) is pushed through a standard fully connected layer with three outputs to correspond to our three possible classes (negative, positive, or neutral)."
      ]
    },
    {
      "cell_type": "code",
      "metadata": {
        "id": "43pVRccMT0bT"
      },
      "source": [
        "import torch.nn as nn\n",
        "import torch.nn.functional as F\n",
        "\n",
        "class classifier(nn.Module):\n",
        "    \n",
        "    # Define all the layers used in model\n",
        "    def __init__(self, vocab_size, embedding_dim, hidden_dim, output_dim, n_layers, dropout):\n",
        "        \n",
        "        super().__init__()          \n",
        "        \n",
        "        # Embedding layer\n",
        "        self.embedding = nn.Embedding(vocab_size, embedding_dim)\n",
        "        \n",
        "        # LSTM layer\n",
        "        self.encoder = nn.LSTM(embedding_dim, \n",
        "                           hidden_dim, \n",
        "                           num_layers=n_layers, \n",
        "                           dropout=dropout,\n",
        "                           batch_first=True)\n",
        "        # try using nn.GRU or nn.RNN here and compare their performances\n",
        "        # try bidirectional and compare their performances\n",
        "        \n",
        "        # Dense layer\n",
        "        self.fc = nn.Linear(hidden_dim, output_dim)\n",
        "        \n",
        "    def forward(self, text, text_lengths):\n",
        "        \n",
        "        # text = [batch size, sent_length]\n",
        "        embedded = self.embedding(text)\n",
        "        # embedded = [batch size, sent_len, emb dim]\n",
        "      \n",
        "        # packed sequence\n",
        "        packed_embedded = nn.utils.rnn.pack_padded_sequence(embedded, text_lengths.cpu(), batch_first=True)\n",
        "        \n",
        "        packed_output, (hidden, cell) = self.encoder(packed_embedded)\n",
        "        #hidden = [batch size, num layers * num directions,hid dim]\n",
        "        #cell = [batch size, num layers * num directions,hid dim]\n",
        "    \n",
        "        # Hidden = [batch size, hid dim * num directions]\n",
        "        dense_outputs = self.fc(hidden)   \n",
        "        \n",
        "        # Final activation function softmax\n",
        "        output = F.softmax(dense_outputs[0], dim=1)\n",
        "            \n",
        "        return output"
      ],
      "execution_count": null,
      "outputs": []
    },
    {
      "cell_type": "code",
      "metadata": {
        "id": "rwBoGE_X_Fl8"
      },
      "source": [
        "# Define hyperparameters\n",
        "size_of_vocab = len(Tweet.vocab)\n",
        "embedding_dim = 300\n",
        "num_hidden_nodes = 100\n",
        "num_output_nodes = 5\n",
        "num_layers = 2\n",
        "dropout = 0.2\n",
        "\n",
        "# Instantiate the model\n",
        "model = classifier(size_of_vocab, embedding_dim, num_hidden_nodes, num_output_nodes, num_layers, dropout = dropout)"
      ],
      "execution_count": null,
      "outputs": []
    },
    {
      "cell_type": "code",
      "metadata": {
        "id": "O-pOMqzJ3eTv",
        "colab": {
          "base_uri": "https://localhost:8080/"
        },
        "outputId": "088ac709-31d3-4554-b7fc-2b8b94d27d4f"
      },
      "source": [
        "print(model)\n",
        "\n",
        "#No. of trianable parameters\n",
        "def count_parameters(model):\n",
        "    return sum(p.numel() for p in model.parameters() if p.requires_grad)\n",
        "    \n",
        "print(f'The model has {count_parameters(model):,} trainable parameters')"
      ],
      "execution_count": null,
      "outputs": [
        {
          "output_type": "stream",
          "text": [
            "classifier(\n",
            "  (embedding): Embedding(19053, 300)\n",
            "  (encoder): LSTM(300, 100, num_layers=2, batch_first=True, dropout=0.2)\n",
            "  (fc): Linear(in_features=100, out_features=5, bias=True)\n",
            ")\n",
            "The model has 5,958,005 trainable parameters\n"
          ],
          "name": "stdout"
        }
      ]
    },
    {
      "cell_type": "markdown",
      "metadata": {
        "id": "eXajorf5Xz7t"
      },
      "source": [
        "## Model Training and Evaluation"
      ]
    },
    {
      "cell_type": "markdown",
      "metadata": {
        "id": "PrE9RpMtZ1Vs"
      },
      "source": [
        "First define the optimizer and loss functions"
      ]
    },
    {
      "cell_type": "code",
      "metadata": {
        "id": "-u86JWdlXvu5"
      },
      "source": [
        "import torch.optim as optim\n",
        "\n",
        "# define optimizer and loss\n",
        "optimizer = optim.Adam(model.parameters(), lr=2e-4)\n",
        "criterion = nn.CrossEntropyLoss()\n",
        "\n",
        "# define metric\n",
        "def binary_accuracy(preds, y):\n",
        "    #round predictions to the closest integer\n",
        "    _, predictions = torch.max(preds, 1)\n",
        "    \n",
        "    correct = (predictions == y).float() \n",
        "    acc = correct.sum() / len(correct)\n",
        "    return acc\n",
        "    \n",
        "# push to cuda if available\n",
        "model = model.to(device)\n",
        "criterion = criterion.to(device)"
      ],
      "execution_count": null,
      "outputs": []
    },
    {
      "cell_type": "markdown",
      "metadata": {
        "id": "3VCJtNb3Zt8w"
      },
      "source": [
        "The main thing to be aware of in this new training loop is that we have to reference `batch.tweets` and `batch.labels` to get the particular fields we’re interested in; they don’t fall out quite as nicely from the enumerator as they do in torchvision."
      ]
    },
    {
      "cell_type": "markdown",
      "metadata": {
        "id": "2WjEPLKsAiS_"
      },
      "source": [
        "**Training Loop**"
      ]
    },
    {
      "cell_type": "code",
      "metadata": {
        "id": "HDWNnGK3Y5oJ"
      },
      "source": [
        "def train(model, iterator, optimizer, criterion):\n",
        "    # from pdb import set_trace as bp\n",
        "    # bp()\n",
        "    # initialize every epoch \n",
        "    epoch_loss = 0\n",
        "    epoch_acc = 0\n",
        "    \n",
        "    # set the model in training phase\n",
        "    model.train()  \n",
        "    \n",
        "    for batch in iterator:\n",
        "        \n",
        "        # resets the gradients after every batch\n",
        "        optimizer.zero_grad()   \n",
        "        \n",
        "        # retrieve text and no. of words\n",
        "        tweet, tweet_lengths = batch.tweets   \n",
        "        \n",
        "        # convert to 1D tensor\n",
        "        predictions = model(tweet, tweet_lengths).squeeze()  \n",
        "        \n",
        "        # compute the loss\n",
        "        loss = criterion(predictions, batch.labels)        \n",
        "        \n",
        "        # compute the binary accuracy\n",
        "        acc = binary_accuracy(predictions, batch.labels)   \n",
        "        \n",
        "        # backpropage the loss and compute the gradients\n",
        "        loss.backward()       \n",
        "        \n",
        "        # update the weights\n",
        "        optimizer.step()      \n",
        "        \n",
        "        # loss and accuracy\n",
        "        epoch_loss += loss.item()  \n",
        "        epoch_acc += acc.item()    \n",
        "        \n",
        "    return epoch_loss / len(iterator), epoch_acc / len(iterator)"
      ],
      "execution_count": null,
      "outputs": []
    },
    {
      "cell_type": "markdown",
      "metadata": {
        "id": "CZcHhkkvAsCt"
      },
      "source": [
        "**Evaluation Loop**"
      ]
    },
    {
      "cell_type": "code",
      "metadata": {
        "id": "zHEe-zSVAriL"
      },
      "source": [
        "def evaluate(model, iterator, criterion):\n",
        "    \n",
        "    # initialize every epoch\n",
        "    epoch_loss = 0\n",
        "    epoch_acc = 0\n",
        "\n",
        "    # deactivating dropout layers\n",
        "    model.eval()\n",
        "    \n",
        "    # deactivates autograd\n",
        "    with torch.no_grad():\n",
        "    \n",
        "        for batch in iterator:\n",
        "        \n",
        "            # retrieve text and no. of words\n",
        "            tweet, tweet_lengths = batch.tweets\n",
        "            \n",
        "            # convert to 1d tensor\n",
        "            predictions = model(tweet, tweet_lengths).squeeze()\n",
        "            \n",
        "            # compute loss and accuracy\n",
        "            loss = criterion(predictions, batch.labels)\n",
        "            acc = binary_accuracy(predictions, batch.labels)\n",
        "            \n",
        "            # keep track of loss and accuracy\n",
        "            epoch_loss += loss.item()\n",
        "            epoch_acc += acc.item()\n",
        "        \n",
        "    return epoch_loss / len(iterator), epoch_acc / len(iterator)"
      ],
      "execution_count": null,
      "outputs": []
    },
    {
      "cell_type": "markdown",
      "metadata": {
        "id": "L6LJFW7HaJoV"
      },
      "source": [
        "**Let's Train and Evaluate**"
      ]
    },
    {
      "cell_type": "code",
      "metadata": {
        "id": "tq330XlnaEU9",
        "colab": {
          "base_uri": "https://localhost:8080/"
        },
        "outputId": "a726dc2d-d297-4fb1-ddc6-7fc8a7b1eeb5"
      },
      "source": [
        "N_EPOCHS = 70\n",
        "best_valid_loss = float('inf')\n",
        "\n",
        "for epoch in range(N_EPOCHS):\n",
        "     \n",
        "    # train the model\n",
        "    train_loss, train_acc = train(model, train_iterator, optimizer, criterion)\n",
        "    \n",
        "    # evaluate the model\n",
        "    valid_loss, valid_acc = evaluate(model, valid_iterator, criterion)\n",
        "    \n",
        "    # save the best model\n",
        "    if valid_loss < best_valid_loss:\n",
        "        best_valid_loss = valid_loss\n",
        "        torch.save(model.state_dict(), 'saved_weights.pt')\n",
        "    \n",
        "    print(f'\\tTrain Loss: {train_loss:.3f} | Train Acc: {train_acc*100:.2f}%')\n",
        "    print(f'\\t Val. Loss: {valid_loss:.3f} |  Val. Acc: {valid_acc*100:.2f}% \\n')"
      ],
      "execution_count": null,
      "outputs": [
        {
          "output_type": "stream",
          "text": [
            "\tTrain Loss: 1.578 | Train Acc: 28.87%\n",
            "\t Val. Loss: 1.562 |  Val. Acc: 31.63% \n",
            "\n",
            "\tTrain Loss: 1.523 | Train Acc: 37.32%\n",
            "\t Val. Loss: 1.526 |  Val. Acc: 36.15% \n",
            "\n",
            "\tTrain Loss: 1.467 | Train Acc: 43.45%\n",
            "\t Val. Loss: 1.499 |  Val. Acc: 39.08% \n",
            "\n",
            "\tTrain Loss: 1.420 | Train Acc: 48.40%\n",
            "\t Val. Loss: 1.481 |  Val. Acc: 40.69% \n",
            "\n",
            "\tTrain Loss: 1.373 | Train Acc: 53.85%\n",
            "\t Val. Loss: 1.460 |  Val. Acc: 42.64% \n",
            "\n",
            "\tTrain Loss: 1.331 | Train Acc: 58.70%\n",
            "\t Val. Loss: 1.444 |  Val. Acc: 44.95% \n",
            "\n",
            "\tTrain Loss: 1.291 | Train Acc: 62.87%\n",
            "\t Val. Loss: 1.426 |  Val. Acc: 47.19% \n",
            "\n",
            "\tTrain Loss: 1.255 | Train Acc: 66.44%\n",
            "\t Val. Loss: 1.412 |  Val. Acc: 48.16% \n",
            "\n",
            "\tTrain Loss: 1.225 | Train Acc: 69.54%\n",
            "\t Val. Loss: 1.398 |  Val. Acc: 49.66% \n",
            "\n",
            "\tTrain Loss: 1.201 | Train Acc: 71.92%\n",
            "\t Val. Loss: 1.394 |  Val. Acc: 50.37% \n",
            "\n",
            "\tTrain Loss: 1.180 | Train Acc: 73.60%\n",
            "\t Val. Loss: 1.378 |  Val. Acc: 51.99% \n",
            "\n",
            "\tTrain Loss: 1.163 | Train Acc: 75.11%\n",
            "\t Val. Loss: 1.375 |  Val. Acc: 51.89% \n",
            "\n",
            "\tTrain Loss: 1.148 | Train Acc: 76.59%\n",
            "\t Val. Loss: 1.365 |  Val. Acc: 53.19% \n",
            "\n",
            "\tTrain Loss: 1.136 | Train Acc: 77.78%\n",
            "\t Val. Loss: 1.355 |  Val. Acc: 54.43% \n",
            "\n",
            "\tTrain Loss: 1.118 | Train Acc: 79.69%\n",
            "\t Val. Loss: 1.349 |  Val. Acc: 54.92% \n",
            "\n",
            "\tTrain Loss: 1.101 | Train Acc: 81.50%\n",
            "\t Val. Loss: 1.339 |  Val. Acc: 56.03% \n",
            "\n",
            "\tTrain Loss: 1.088 | Train Acc: 82.93%\n",
            "\t Val. Loss: 1.333 |  Val. Acc: 56.38% \n",
            "\n",
            "\tTrain Loss: 1.074 | Train Acc: 84.15%\n",
            "\t Val. Loss: 1.329 |  Val. Acc: 57.12% \n",
            "\n",
            "\tTrain Loss: 1.060 | Train Acc: 85.71%\n",
            "\t Val. Loss: 1.334 |  Val. Acc: 56.32% \n",
            "\n",
            "\tTrain Loss: 1.051 | Train Acc: 86.49%\n",
            "\t Val. Loss: 1.326 |  Val. Acc: 57.26% \n",
            "\n",
            "\tTrain Loss: 1.038 | Train Acc: 87.73%\n",
            "\t Val. Loss: 1.321 |  Val. Acc: 58.01% \n",
            "\n",
            "\tTrain Loss: 1.029 | Train Acc: 88.52%\n",
            "\t Val. Loss: 1.315 |  Val. Acc: 58.59% \n",
            "\n",
            "\tTrain Loss: 1.023 | Train Acc: 89.03%\n",
            "\t Val. Loss: 1.314 |  Val. Acc: 58.14% \n",
            "\n",
            "\tTrain Loss: 1.018 | Train Acc: 89.51%\n",
            "\t Val. Loss: 1.316 |  Val. Acc: 58.30% \n",
            "\n",
            "\tTrain Loss: 1.011 | Train Acc: 90.13%\n",
            "\t Val. Loss: 1.315 |  Val. Acc: 58.15% \n",
            "\n",
            "\tTrain Loss: 1.006 | Train Acc: 90.54%\n",
            "\t Val. Loss: 1.306 |  Val. Acc: 59.07% \n",
            "\n",
            "\tTrain Loss: 1.004 | Train Acc: 90.68%\n",
            "\t Val. Loss: 1.300 |  Val. Acc: 59.41% \n",
            "\n",
            "\tTrain Loss: 0.996 | Train Acc: 91.30%\n",
            "\t Val. Loss: 1.300 |  Val. Acc: 60.12% \n",
            "\n",
            "\tTrain Loss: 0.995 | Train Acc: 91.39%\n",
            "\t Val. Loss: 1.294 |  Val. Acc: 60.55% \n",
            "\n",
            "\tTrain Loss: 0.992 | Train Acc: 91.69%\n",
            "\t Val. Loss: 1.295 |  Val. Acc: 60.26% \n",
            "\n",
            "\tTrain Loss: 0.990 | Train Acc: 91.82%\n",
            "\t Val. Loss: 1.295 |  Val. Acc: 60.22% \n",
            "\n",
            "\tTrain Loss: 0.986 | Train Acc: 92.26%\n",
            "\t Val. Loss: 1.284 |  Val. Acc: 61.58% \n",
            "\n",
            "\tTrain Loss: 0.983 | Train Acc: 92.45%\n",
            "\t Val. Loss: 1.287 |  Val. Acc: 61.52% \n",
            "\n",
            "\tTrain Loss: 0.982 | Train Acc: 92.54%\n",
            "\t Val. Loss: 1.283 |  Val. Acc: 61.43% \n",
            "\n",
            "\tTrain Loss: 0.981 | Train Acc: 92.57%\n",
            "\t Val. Loss: 1.283 |  Val. Acc: 61.78% \n",
            "\n",
            "\tTrain Loss: 0.979 | Train Acc: 92.74%\n",
            "\t Val. Loss: 1.281 |  Val. Acc: 61.90% \n",
            "\n",
            "\tTrain Loss: 0.977 | Train Acc: 93.09%\n",
            "\t Val. Loss: 1.286 |  Val. Acc: 61.71% \n",
            "\n",
            "\tTrain Loss: 0.974 | Train Acc: 93.24%\n",
            "\t Val. Loss: 1.271 |  Val. Acc: 62.87% \n",
            "\n",
            "\tTrain Loss: 0.975 | Train Acc: 93.11%\n",
            "\t Val. Loss: 1.273 |  Val. Acc: 62.84% \n",
            "\n",
            "\tTrain Loss: 0.973 | Train Acc: 93.35%\n",
            "\t Val. Loss: 1.276 |  Val. Acc: 62.49% \n",
            "\n",
            "\tTrain Loss: 0.973 | Train Acc: 93.38%\n",
            "\t Val. Loss: 1.267 |  Val. Acc: 63.50% \n",
            "\n",
            "\tTrain Loss: 0.972 | Train Acc: 93.46%\n",
            "\t Val. Loss: 1.267 |  Val. Acc: 63.44% \n",
            "\n",
            "\tTrain Loss: 0.971 | Train Acc: 93.49%\n",
            "\t Val. Loss: 1.266 |  Val. Acc: 63.46% \n",
            "\n",
            "\tTrain Loss: 0.968 | Train Acc: 93.79%\n",
            "\t Val. Loss: 1.259 |  Val. Acc: 64.14% \n",
            "\n",
            "\tTrain Loss: 0.967 | Train Acc: 93.84%\n",
            "\t Val. Loss: 1.259 |  Val. Acc: 63.95% \n",
            "\n",
            "\tTrain Loss: 0.966 | Train Acc: 93.96%\n",
            "\t Val. Loss: 1.261 |  Val. Acc: 63.93% \n",
            "\n",
            "\tTrain Loss: 0.965 | Train Acc: 94.09%\n",
            "\t Val. Loss: 1.260 |  Val. Acc: 63.71% \n",
            "\n",
            "\tTrain Loss: 0.966 | Train Acc: 93.91%\n",
            "\t Val. Loss: 1.257 |  Val. Acc: 64.36% \n",
            "\n",
            "\tTrain Loss: 0.964 | Train Acc: 94.15%\n",
            "\t Val. Loss: 1.268 |  Val. Acc: 63.15% \n",
            "\n",
            "\tTrain Loss: 0.964 | Train Acc: 94.16%\n",
            "\t Val. Loss: 1.253 |  Val. Acc: 64.55% \n",
            "\n",
            "\tTrain Loss: 0.963 | Train Acc: 94.21%\n",
            "\t Val. Loss: 1.252 |  Val. Acc: 64.99% \n",
            "\n",
            "\tTrain Loss: 0.961 | Train Acc: 94.42%\n",
            "\t Val. Loss: 1.251 |  Val. Acc: 64.99% \n",
            "\n",
            "\tTrain Loss: 0.960 | Train Acc: 94.52%\n",
            "\t Val. Loss: 1.276 |  Val. Acc: 62.28% \n",
            "\n",
            "\tTrain Loss: 0.963 | Train Acc: 94.24%\n",
            "\t Val. Loss: 1.255 |  Val. Acc: 64.47% \n",
            "\n",
            "\tTrain Loss: 0.962 | Train Acc: 94.37%\n",
            "\t Val. Loss: 1.252 |  Val. Acc: 64.61% \n",
            "\n",
            "\tTrain Loss: 0.960 | Train Acc: 94.52%\n",
            "\t Val. Loss: 1.253 |  Val. Acc: 64.38% \n",
            "\n",
            "\tTrain Loss: 0.958 | Train Acc: 94.70%\n",
            "\t Val. Loss: 1.249 |  Val. Acc: 65.09% \n",
            "\n",
            "\tTrain Loss: 0.958 | Train Acc: 94.68%\n",
            "\t Val. Loss: 1.253 |  Val. Acc: 64.26% \n",
            "\n",
            "\tTrain Loss: 0.957 | Train Acc: 94.80%\n",
            "\t Val. Loss: 1.255 |  Val. Acc: 64.13% \n",
            "\n",
            "\tTrain Loss: 0.956 | Train Acc: 94.88%\n",
            "\t Val. Loss: 1.259 |  Val. Acc: 63.72% \n",
            "\n",
            "\tTrain Loss: 0.958 | Train Acc: 94.79%\n",
            "\t Val. Loss: 1.251 |  Val. Acc: 64.88% \n",
            "\n",
            "\tTrain Loss: 0.956 | Train Acc: 94.88%\n",
            "\t Val. Loss: 1.252 |  Val. Acc: 64.75% \n",
            "\n",
            "\tTrain Loss: 0.956 | Train Acc: 94.91%\n",
            "\t Val. Loss: 1.246 |  Val. Acc: 65.51% \n",
            "\n",
            "\tTrain Loss: 0.955 | Train Acc: 94.96%\n",
            "\t Val. Loss: 1.249 |  Val. Acc: 65.12% \n",
            "\n",
            "\tTrain Loss: 0.955 | Train Acc: 94.97%\n",
            "\t Val. Loss: 1.243 |  Val. Acc: 65.62% \n",
            "\n",
            "\tTrain Loss: 0.954 | Train Acc: 95.12%\n",
            "\t Val. Loss: 1.243 |  Val. Acc: 65.69% \n",
            "\n",
            "\tTrain Loss: 0.953 | Train Acc: 95.17%\n",
            "\t Val. Loss: 1.244 |  Val. Acc: 65.53% \n",
            "\n",
            "\tTrain Loss: 0.954 | Train Acc: 95.07%\n",
            "\t Val. Loss: 1.247 |  Val. Acc: 65.23% \n",
            "\n",
            "\tTrain Loss: 0.953 | Train Acc: 95.18%\n",
            "\t Val. Loss: 1.241 |  Val. Acc: 65.73% \n",
            "\n",
            "\tTrain Loss: 0.952 | Train Acc: 95.31%\n",
            "\t Val. Loss: 1.236 |  Val. Acc: 66.38% \n",
            "\n"
          ],
          "name": "stdout"
        }
      ]
    },
    {
      "cell_type": "markdown",
      "metadata": {
        "id": "LZgzB0ZkHVTI"
      },
      "source": [
        "## Model Testing"
      ]
    },
    {
      "cell_type": "code",
      "metadata": {
        "id": "aZZfnWo0abRx"
      },
      "source": [
        "#load weights and tokenizer\n",
        "\n",
        "path='./saved_weights.pt'\n",
        "model.load_state_dict(torch.load(path));\n",
        "model.eval();\n",
        "tokenizer_file = open('./tokenizer.pkl', 'rb')\n",
        "tokenizer = pickle.load(tokenizer_file)\n",
        "\n",
        "#inference \n",
        "\n",
        "import spacy\n",
        "nlp = spacy.load('en')\n",
        "\n",
        "def classify_tweet(tweet):\n",
        "\n",
        "    # categories = {0: \"Negative\", 1:\"Positive\", 2:\"Neutral\"}\n",
        "    categories = {0: \"very negative\", 1: \"negative\", 2: \"neutral\", 3: \"positive\", 4: \"very positive\"}\n",
        "    # tokenize the tweet \n",
        "    tokenized = [tok.text for tok in nlp.tokenizer(tweet)] \n",
        "    # convert to integer sequence using predefined tokenizer dictionary\n",
        "    indexed = [tokenizer[t] for t in tokenized]        \n",
        "    # compute no. of words        \n",
        "    length = [len(indexed)]\n",
        "    # convert to tensor                                    \n",
        "    tensor = torch.LongTensor(indexed).to(device)   \n",
        "    # reshape in form of batch, no. of words           \n",
        "    tensor = tensor.unsqueeze(1).T  \n",
        "    # convert to tensor                          \n",
        "    length_tensor = torch.LongTensor(length)\n",
        "    # Get the model prediction                  \n",
        "    prediction = model(tensor, length_tensor)\n",
        "    _, pred = torch.max(prediction, 1) \n",
        "    \n",
        "    return categories[pred.item()]"
      ],
      "execution_count": null,
      "outputs": []
    },
    {
      "cell_type": "code",
      "metadata": {
        "id": "yTkHLEipIlM9",
        "colab": {
          "base_uri": "https://localhost:8080/",
          "height": 35
        },
        "outputId": "68281a87-3d41-4fa7-d305-2788f206ed77"
      },
      "source": [
        "classify_tweet(\"A valid explanation for why Trump won't let women on the golf course.\")"
      ],
      "execution_count": null,
      "outputs": [
        {
          "output_type": "execute_result",
          "data": {
            "application/vnd.google.colaboratory.intrinsic+json": {
              "type": "string"
            },
            "text/plain": [
              "'neutral'"
            ]
          },
          "metadata": {
            "tags": []
          },
          "execution_count": 224
        }
      ]
    },
    {
      "cell_type": "markdown",
      "metadata": {
        "id": "WVjCuKK_LVEF"
      },
      "source": [
        "## Discussion on Data Augmentation Techniques \n",
        "\n",
        "You might wonder exactly how you can augment text data. After all, you can’t really flip it horizontally as you can an image! :D \n",
        "\n",
        "In contrast to data augmentation in images, augmentation techniques on data is very specific to final product you are building. As its general usage on any type of textual data doesn't provides a significant performance boost, that's why unlike torchvision, torchtext doesn’t offer a augmentation pipeline. Due to powerful models as transformers, augmentation tecnhiques are not so preferred now-a-days. But its better to know about some techniques with text that will provide your model with a little more information for training. \n",
        "\n",
        "### Synonym Replacement\n",
        "\n",
        "First, you could replace words in the sentence with synonyms, like so:\n",
        "\n",
        "    The dog slept on the mat\n",
        "\n",
        "could become\n",
        "\n",
        "    The dog slept on the rug\n",
        "\n",
        "Aside from the dog's insistence that a rug is much softer than a mat, the meaning of the sentence hasn’t changed. But mat and rug will be mapped to different indices in the vocabulary, so the model will learn that the two sentences map to the same label, and hopefully that there’s a connection between those two words, as everything else in the sentences is the same."
      ]
    },
    {
      "cell_type": "markdown",
      "metadata": {
        "id": "T_uEfWJpL6Nq"
      },
      "source": [
        "### Random Insertion\n",
        "A random insertion technique looks at a sentence and then randomly inserts synonyms of existing non-stopwords into the sentence n times. Assuming you have a way of getting a synonym of a word and a way of eliminating stopwords (common words such as and, it, the, etc.), shown, but not implemented, in this function via get_synonyms() and get_stopwords(), an implementation of this would be as follows:\n"
      ]
    },
    {
      "cell_type": "code",
      "metadata": {
        "id": "7Alm5D7WIvAC"
      },
      "source": [
        "def random_insertion(sentence, n): \n",
        "    words = remove_stopwords(sentence) \n",
        "    for _ in range(n):\n",
        "        new_synonym = get_synonyms(random.choice(words))\n",
        "        sentence.insert(randrange(len(sentence)+1), new_synonym) \n",
        "    return sentence"
      ],
      "execution_count": null,
      "outputs": []
    },
    {
      "cell_type": "markdown",
      "metadata": {
        "id": "gqLWzwJ3Mm8h"
      },
      "source": [
        "## Random Deletion\n",
        "As the name suggests, random deletion deletes words from a sentence. Given a probability parameter p, it will go through the sentence and decide whether to delete a word or not based on that random probability. Consider of it as pixel dropouts while treating images."
      ]
    },
    {
      "cell_type": "code",
      "metadata": {
        "id": "-7Dz7JJfMqyC"
      },
      "source": [
        "def random_deletion(words, p=0.5): \n",
        "    if len(words) == 1: # return if single word\n",
        "        return words\n",
        "    remaining = list(filter(lambda x: random.uniform(0,1) > p,words)) \n",
        "    if len(remaining) == 0: # if not left, sample a random word\n",
        "        return [random.choice(words)] \n",
        "    else:\n",
        "        return remaining"
      ],
      "execution_count": null,
      "outputs": []
    },
    {
      "cell_type": "markdown",
      "metadata": {
        "id": "zOIbi5WzO5OU"
      },
      "source": [
        "### Random Swap\n",
        "The random swap augmentation takes a sentence and then swaps words within it n times, with each iteration working on the previously swapped sentence. Here we sample two random numbers based on the length of the sentence, and then just keep swapping until we hit n."
      ]
    },
    {
      "cell_type": "code",
      "metadata": {
        "id": "LnkbG15HO3Yj"
      },
      "source": [
        "def random_swap(sentence, n=5): \n",
        "    length = range(len(sentence)) \n",
        "    for _ in range(n):\n",
        "        idx1, idx2 = random.sample(length, 2)\n",
        "        sentence[idx1], sentence[idx2] = sentence[idx2], sentence[idx1] \n",
        "    return sentence"
      ],
      "execution_count": null,
      "outputs": []
    },
    {
      "cell_type": "markdown",
      "metadata": {
        "id": "599NpwfMR5Vm"
      },
      "source": [
        "For more on this please go through this [paper](https://arxiv.org/pdf/1901.11196.pdf)."
      ]
    },
    {
      "cell_type": "markdown",
      "metadata": {
        "id": "a5aeKuNCRGip"
      },
      "source": [
        "### Back Translation\n",
        "\n",
        "Another popular approach for augmenting text datasets is back translation. This involves translating a sentence from our target language into one or more other languages and then translating all of them back to the original language. We can use the Python library googletrans for this purpose. "
      ]
    },
    {
      "cell_type": "code",
      "metadata": {
        "id": "pHhNBbYrRXNy"
      },
      "source": [
        "import random\n",
        "import googletrans\n",
        "import googletrans.Translator\n",
        "\n",
        "translator = Translator()\n",
        "sentence = ['The dog slept on the rug']\n",
        "\n",
        "available_langs = list(googletrans.LANGUAGES.keys()) \n",
        "trans_lang = random.choice(available_langs) \n",
        "print(f\"Translating to {googletrans.LANGUAGES[trans_lang]}\")\n",
        "\n",
        "translations = translator.translate(sentence, dest=trans_lang) \n",
        "t_text = [t.text for t in translations]\n",
        "print(t_text)\n",
        "\n",
        "translations_en_random = translator.translate(t_text, src=trans_lang, dest='en') \n",
        "en_text = [t.text for t in translations_en_random]\n",
        "print(en_text)"
      ],
      "execution_count": null,
      "outputs": []
    }
  ]
}