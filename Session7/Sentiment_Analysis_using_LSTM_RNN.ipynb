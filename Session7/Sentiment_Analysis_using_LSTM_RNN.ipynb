{
  "nbformat": 4,
  "nbformat_minor": 0,
  "metadata": {
    "colab": {
      "name": "Sentiment Analysis using LSTM RNN.ipynb",
      "provenance": [],
      "collapsed_sections": []
    },
    "kernelspec": {
      "name": "python3",
      "display_name": "Python 3"
    },
    "accelerator": "GPU"
  },
  "cells": [
    {
      "cell_type": "markdown",
      "metadata": {
        "id": "GYiRsFGD6iUC"
      },
      "source": [
        "# 0 TorchText"
      ]
    },
    {
      "cell_type": "markdown",
      "metadata": {
        "id": "tp5IzBGsPGHs"
      },
      "source": [
        "## Dataset Preview\n",
        "\n",
        "Your first step to deep learning in NLP. We will be mostly using PyTorch. Just like torchvision, PyTorch provides an official library, torchtext, for handling text-processing pipelines. \n",
        "\n",
        "We will be using previous session tweet dataset. Let's just preview the dataset."
      ]
    },
    {
      "cell_type": "code",
      "metadata": {
        "id": "bCHn2CqB7Xh3"
      },
      "source": [
        "\r\n",
        "!wget -q https://raw.githubusercontent.com/ronva-h/END/master/Session%207/stanfordSentimentTreebank/datasetSentences.txt\r\n",
        "!wget -q https://raw.githubusercontent.com/ronva-h/END/master/Session%207/stanfordSentimentTreebank/dictionary.txt\r\n",
        "!wget -q https://raw.githubusercontent.com/ronva-h/END/master/Session%207/stanfordSentimentTreebank/sentiment_labels.txt\r\n"
      ],
      "execution_count": null,
      "outputs": []
    },
    {
      "cell_type": "code",
      "metadata": {
        "id": "Hompbmzh97oc"
      },
      "source": [
        "import pandas as pd\r\n",
        "SEED = 43\r\n",
        "phrase_labels = pd.read_csv('sentiment_labels.txt', sep='|')\r\n",
        "phrases = pd.read_csv('dictionary.txt', sep='|')\r\n",
        "sentences = pd.read_csv('datasetSentences.txt', sep='\\t')"
      ],
      "execution_count": null,
      "outputs": []
    },
    {
      "cell_type": "code",
      "metadata": {
        "colab": {
          "base_uri": "https://localhost:8080/",
          "height": 195
        },
        "id": "3nK0ycEM-pDp",
        "outputId": "c5f21171-6858-49ba-e2eb-17fd5f5a34c2"
      },
      "source": [
        "ph_sen = sentences.merge(phrases, how='inner', right_on='phrase', left_on='sentence')\r\n",
        "ph_sen.head()"
      ],
      "execution_count": null,
      "outputs": [
        {
          "output_type": "execute_result",
          "data": {
            "text/html": [
              "<div>\n",
              "<style scoped>\n",
              "    .dataframe tbody tr th:only-of-type {\n",
              "        vertical-align: middle;\n",
              "    }\n",
              "\n",
              "    .dataframe tbody tr th {\n",
              "        vertical-align: top;\n",
              "    }\n",
              "\n",
              "    .dataframe thead th {\n",
              "        text-align: right;\n",
              "    }\n",
              "</style>\n",
              "<table border=\"1\" class=\"dataframe\">\n",
              "  <thead>\n",
              "    <tr style=\"text-align: right;\">\n",
              "      <th></th>\n",
              "      <th>sentence_index</th>\n",
              "      <th>sentence</th>\n",
              "      <th>phrase</th>\n",
              "      <th>phrase ids</th>\n",
              "    </tr>\n",
              "  </thead>\n",
              "  <tbody>\n",
              "    <tr>\n",
              "      <th>0</th>\n",
              "      <td>1</td>\n",
              "      <td>The Rock is destined to be the 21st Century 's...</td>\n",
              "      <td>The Rock is destined to be the 21st Century 's...</td>\n",
              "      <td>226166</td>\n",
              "    </tr>\n",
              "    <tr>\n",
              "      <th>1</th>\n",
              "      <td>2</td>\n",
              "      <td>The gorgeously elaborate continuation of `` Th...</td>\n",
              "      <td>The gorgeously elaborate continuation of `` Th...</td>\n",
              "      <td>226300</td>\n",
              "    </tr>\n",
              "    <tr>\n",
              "      <th>2</th>\n",
              "      <td>3</td>\n",
              "      <td>Effective but too-tepid biopic</td>\n",
              "      <td>Effective but too-tepid biopic</td>\n",
              "      <td>13995</td>\n",
              "    </tr>\n",
              "    <tr>\n",
              "      <th>3</th>\n",
              "      <td>4</td>\n",
              "      <td>If you sometimes like to go to the movies to h...</td>\n",
              "      <td>If you sometimes like to go to the movies to h...</td>\n",
              "      <td>14123</td>\n",
              "    </tr>\n",
              "    <tr>\n",
              "      <th>4</th>\n",
              "      <td>5</td>\n",
              "      <td>Emerges as something rare , an issue movie tha...</td>\n",
              "      <td>Emerges as something rare , an issue movie tha...</td>\n",
              "      <td>13999</td>\n",
              "    </tr>\n",
              "  </tbody>\n",
              "</table>\n",
              "</div>"
            ],
            "text/plain": [
              "   sentence_index  ... phrase ids\n",
              "0               1  ...     226166\n",
              "1               2  ...     226300\n",
              "2               3  ...      13995\n",
              "3               4  ...      14123\n",
              "4               5  ...      13999\n",
              "\n",
              "[5 rows x 4 columns]"
            ]
          },
          "metadata": {
            "tags": []
          },
          "execution_count": 108
        }
      ]
    },
    {
      "cell_type": "code",
      "metadata": {
        "id": "ERlnseeUD8ZM"
      },
      "source": [
        "# debugging, check later why all 11855 sentences didn't appear in the merge. Only 11286 appeared in the merge\r\n",
        "\r\n",
        "# merged = sentences.merge(phrases, how='left', right_on='phrase', left_on='sentence')\r\n",
        "\r\n",
        "# cnt = 0\r\n",
        "# for i, tf in enumerate(pd.isnull(merged)['phrase ids']):\r\n",
        "#     if tf == True:\r\n",
        "#         print(i)\r\n",
        "#         cnt += 1\r\n",
        "# print(cnt)\r\n",
        "\r\n",
        "# phrases.loc[phrases['phrase ids'] == 183611].phrase.iloc[0]  == sentences.loc[sentences['sentence_index'] == 10909].sentence.iloc[0]"
      ],
      "execution_count": null,
      "outputs": []
    },
    {
      "cell_type": "code",
      "metadata": {
        "colab": {
          "base_uri": "https://localhost:8080/",
          "height": 195
        },
        "id": "BtTKJvIuOKd4",
        "outputId": "94485dd9-b807-4d9a-b3ca-721ac20b75d8"
      },
      "source": [
        "final_merge = phrase_labels.merge(ph_sen, how='inner', left_on='phrase ids', right_on='phrase ids')\r\n",
        "dataset = final_merge[['sentence', 'sentiment values']]\r\n",
        "dataset.head()"
      ],
      "execution_count": null,
      "outputs": [
        {
          "output_type": "execute_result",
          "data": {
            "text/html": [
              "<div>\n",
              "<style scoped>\n",
              "    .dataframe tbody tr th:only-of-type {\n",
              "        vertical-align: middle;\n",
              "    }\n",
              "\n",
              "    .dataframe tbody tr th {\n",
              "        vertical-align: top;\n",
              "    }\n",
              "\n",
              "    .dataframe thead th {\n",
              "        text-align: right;\n",
              "    }\n",
              "</style>\n",
              "<table border=\"1\" class=\"dataframe\">\n",
              "  <thead>\n",
              "    <tr style=\"text-align: right;\">\n",
              "      <th></th>\n",
              "      <th>sentence</th>\n",
              "      <th>sentiment values</th>\n",
              "    </tr>\n",
              "  </thead>\n",
              "  <tbody>\n",
              "    <tr>\n",
              "      <th>0</th>\n",
              "      <td>... a bland murder-on-campus yawner .</td>\n",
              "      <td>0.013889</td>\n",
              "    </tr>\n",
              "    <tr>\n",
              "      <th>1</th>\n",
              "      <td>... a hollow joke told by a cinematic gymnast ...</td>\n",
              "      <td>0.263890</td>\n",
              "    </tr>\n",
              "    <tr>\n",
              "      <th>2</th>\n",
              "      <td>... the picture 's cleverness is ironically mu...</td>\n",
              "      <td>0.472220</td>\n",
              "    </tr>\n",
              "    <tr>\n",
              "      <th>3</th>\n",
              "      <td>classic cinema served up with heart and humor</td>\n",
              "      <td>0.875000</td>\n",
              "    </tr>\n",
              "    <tr>\n",
              "      <th>4</th>\n",
              "      <td>entertaining enough , but nothing new</td>\n",
              "      <td>0.319440</td>\n",
              "    </tr>\n",
              "  </tbody>\n",
              "</table>\n",
              "</div>"
            ],
            "text/plain": [
              "                                            sentence  sentiment values\n",
              "0              ... a bland murder-on-campus yawner .          0.013889\n",
              "1  ... a hollow joke told by a cinematic gymnast ...          0.263890\n",
              "2  ... the picture 's cleverness is ironically mu...          0.472220\n",
              "3      classic cinema served up with heart and humor          0.875000\n",
              "4              entertaining enough , but nothing new          0.319440"
            ]
          },
          "metadata": {
            "tags": []
          },
          "execution_count": 110
        }
      ]
    },
    {
      "cell_type": "code",
      "metadata": {
        "id": "R7JdpCW-YbAG",
        "colab": {
          "base_uri": "https://localhost:8080/",
          "height": 296
        },
        "outputId": "7593eefc-56f0-4f1a-ee56-1f41c92af956"
      },
      "source": [
        "def bucket_sentiment(x):\r\n",
        "    assert x >= 0 and x <= 1, \"sentiment not in range [0-1]\"\r\n",
        "    toret = 4\r\n",
        "    if x >= 0 and x <= 0.2:\r\n",
        "        toret = 0\r\n",
        "    elif x > 0.2 and x <= 0.4:\r\n",
        "        toret = 1\r\n",
        "    elif x > 0.4 and x <= 0.6:\r\n",
        "        toret = 2\r\n",
        "    elif x > 0.6 and x <= 0.8:\r\n",
        "        toret = 3\r\n",
        "    return toret\r\n",
        "\r\n",
        "dataset['sentiment values'] = dataset['sentiment values'].map(bucket_sentiment)\r\n",
        "dataset.head()"
      ],
      "execution_count": null,
      "outputs": [
        {
          "output_type": "stream",
          "text": [
            "/usr/local/lib/python3.6/dist-packages/ipykernel_launcher.py:14: SettingWithCopyWarning: \n",
            "A value is trying to be set on a copy of a slice from a DataFrame.\n",
            "Try using .loc[row_indexer,col_indexer] = value instead\n",
            "\n",
            "See the caveats in the documentation: https://pandas.pydata.org/pandas-docs/stable/user_guide/indexing.html#returning-a-view-versus-a-copy\n",
            "  \n"
          ],
          "name": "stderr"
        },
        {
          "output_type": "execute_result",
          "data": {
            "text/html": [
              "<div>\n",
              "<style scoped>\n",
              "    .dataframe tbody tr th:only-of-type {\n",
              "        vertical-align: middle;\n",
              "    }\n",
              "\n",
              "    .dataframe tbody tr th {\n",
              "        vertical-align: top;\n",
              "    }\n",
              "\n",
              "    .dataframe thead th {\n",
              "        text-align: right;\n",
              "    }\n",
              "</style>\n",
              "<table border=\"1\" class=\"dataframe\">\n",
              "  <thead>\n",
              "    <tr style=\"text-align: right;\">\n",
              "      <th></th>\n",
              "      <th>sentence</th>\n",
              "      <th>sentiment values</th>\n",
              "    </tr>\n",
              "  </thead>\n",
              "  <tbody>\n",
              "    <tr>\n",
              "      <th>0</th>\n",
              "      <td>... a bland murder-on-campus yawner .</td>\n",
              "      <td>0</td>\n",
              "    </tr>\n",
              "    <tr>\n",
              "      <th>1</th>\n",
              "      <td>... a hollow joke told by a cinematic gymnast ...</td>\n",
              "      <td>1</td>\n",
              "    </tr>\n",
              "    <tr>\n",
              "      <th>2</th>\n",
              "      <td>... the picture 's cleverness is ironically mu...</td>\n",
              "      <td>2</td>\n",
              "    </tr>\n",
              "    <tr>\n",
              "      <th>3</th>\n",
              "      <td>classic cinema served up with heart and humor</td>\n",
              "      <td>4</td>\n",
              "    </tr>\n",
              "    <tr>\n",
              "      <th>4</th>\n",
              "      <td>entertaining enough , but nothing new</td>\n",
              "      <td>1</td>\n",
              "    </tr>\n",
              "  </tbody>\n",
              "</table>\n",
              "</div>"
            ],
            "text/plain": [
              "                                            sentence  sentiment values\n",
              "0              ... a bland murder-on-campus yawner .                 0\n",
              "1  ... a hollow joke told by a cinematic gymnast ...                 1\n",
              "2  ... the picture 's cleverness is ironically mu...                 2\n",
              "3      classic cinema served up with heart and humor                 4\n",
              "4              entertaining enough , but nothing new                 1"
            ]
          },
          "metadata": {
            "tags": []
          },
          "execution_count": 111
        }
      ]
    },
    {
      "cell_type": "markdown",
      "metadata": {
        "id": "EM_QEDuzR-f4"
      },
      "source": [
        "Class split"
      ]
    },
    {
      "cell_type": "code",
      "metadata": {
        "id": "zqRsoF6xYdgl",
        "colab": {
          "base_uri": "https://localhost:8080/"
        },
        "outputId": "00f144af-46e0-4fec-ce1d-acc4c0c7aceb"
      },
      "source": [
        "print(\"Full dataset class splitup\")\r\n",
        "dataset['sentiment values'].value_counts()"
      ],
      "execution_count": null,
      "outputs": [
        {
          "output_type": "stream",
          "text": [
            "Full dataset class splitup\n"
          ],
          "name": "stdout"
        },
        {
          "output_type": "execute_result",
          "data": {
            "text/plain": [
              "1    2971\n",
              "3    2966\n",
              "2    2144\n",
              "4    1773\n",
              "0    1432\n",
              "Name: sentiment values, dtype: int64"
            ]
          },
          "metadata": {
            "tags": []
          },
          "execution_count": 112
        }
      ]
    },
    {
      "cell_type": "code",
      "metadata": {
        "id": "MEMcePR48cxo"
      },
      "source": [
        "from sklearn.model_selection import train_test_split\r\n",
        "\r\n",
        "train_df, valid_df = train_test_split(dataset, test_size=0.15, random_state=SEED, stratify=dataset['sentiment values'])\r\n",
        "valid_df.reset_index(inplace=True)"
      ],
      "execution_count": null,
      "outputs": []
    },
    {
      "cell_type": "code",
      "metadata": {
        "colab": {
          "base_uri": "https://localhost:8080/"
        },
        "id": "5Uw2f59o-I1q",
        "outputId": "fc3985ed-370b-4af2-a419-745194837814"
      },
      "source": [
        "print(\"Train set class splitup before augmentation\")\r\n",
        "print(train_df['sentiment values'].value_counts())\r\n",
        "print(\"\\nTest set class splitup\")\r\n",
        "print(valid_df['sentiment values'].value_counts())"
      ],
      "execution_count": null,
      "outputs": [
        {
          "output_type": "stream",
          "text": [
            "Train set class splitup before augmentation\n",
            "1    2525\n",
            "3    2521\n",
            "2    1823\n",
            "4    1507\n",
            "0    1217\n",
            "Name: sentiment values, dtype: int64\n",
            "\n",
            "Test set class splitup\n",
            "1    446\n",
            "3    445\n",
            "2    321\n",
            "4    266\n",
            "0    215\n",
            "Name: sentiment values, dtype: int64\n"
          ],
          "name": "stdout"
        }
      ]
    },
    {
      "cell_type": "markdown",
      "metadata": {
        "id": "MOxMIxDjwsOG"
      },
      "source": [
        "Augmentation below"
      ]
    },
    {
      "cell_type": "code",
      "metadata": {
        "id": "nnAhzcyAymLq"
      },
      "source": [
        "import spacy\r\n",
        "import random\r\n",
        "nlp = spacy.load('en')"
      ],
      "execution_count": null,
      "outputs": []
    },
    {
      "cell_type": "code",
      "metadata": {
        "id": "_oqoOd-AxFok"
      },
      "source": [
        "def random_deletion(words, p=0.5): \r\n",
        "    if len(words) == 1: # return if single word\r\n",
        "        return words\r\n",
        "    remaining = list(filter(lambda x: random.uniform(0,1) > p, words)) \r\n",
        "    if len(remaining) == 0: # if not left, sample a random word\r\n",
        "        return [random.choice(words)] \r\n",
        "    else:\r\n",
        "        return remaining"
      ],
      "execution_count": null,
      "outputs": []
    },
    {
      "cell_type": "code",
      "metadata": {
        "id": "R6aF-UDp52WC"
      },
      "source": [
        "def random_swap(sentence, n=5): \r\n",
        "    length = range(len(sentence)) \r\n",
        "    for _ in range(n):\r\n",
        "        idx1, idx2 = random.sample(length, 2)\r\n",
        "        sentence[idx1], sentence[idx2] = sentence[idx2], sentence[idx1] \r\n",
        "    return sentence"
      ],
      "execution_count": null,
      "outputs": []
    },
    {
      "cell_type": "code",
      "metadata": {
        "id": "slNzz8wJxWx8"
      },
      "source": [
        "def augment(augment_fn, df, p=0.3):\r\n",
        "    \"\"\"\r\n",
        "    each row in `df` has probability `p` of being augmented with `augment_fn`\r\n",
        "    returns a dataframe after applying `augment_fn`\r\n",
        "    \"\"\"\r\n",
        "    from pdb import set_trace as bp\r\n",
        "    \r\n",
        "    sentences_to_augment = list(filter(lambda x: random.uniform(0,1) > p, zip(df['sentence'], df['sentiment values']) ))\r\n",
        "\r\n",
        "    tokenized_s_to_a = []\r\n",
        "    for sen in sentences_to_augment:\r\n",
        "        tokenized_s_to_a.append([tok.text for tok in nlp.tokenizer(sen[0])])\r\n",
        "\r\n",
        "    sentences_after_augment = [' '.join(augment_fn(sen)) for sen in tokenized_s_to_a]\r\n",
        "\r\n",
        "    sentiments = [x[1] for x in sentences_to_augment]\r\n",
        "\r\n",
        "    return pd.DataFrame(list(zip(sentences_after_augment, sentiments)), columns = ['sentence', 'sentiment values'])\r\n"
      ],
      "execution_count": null,
      "outputs": []
    },
    {
      "cell_type": "code",
      "metadata": {
        "id": "OdsrUm7EwraB"
      },
      "source": [
        "random_del_dataset = augment(random_deletion, train_df)\r\n",
        "random_swap_dataset = augment(random_swap, train_df)"
      ],
      "execution_count": null,
      "outputs": []
    },
    {
      "cell_type": "code",
      "metadata": {
        "colab": {
          "base_uri": "https://localhost:8080/"
        },
        "id": "hnlJ74tI7R5c",
        "outputId": "813bcc38-0554-4da8-e8b7-0b41681dd8b9"
      },
      "source": [
        "print(train_df.shape, random_del_dataset.shape, random_swap_dataset.shape)"
      ],
      "execution_count": null,
      "outputs": [
        {
          "output_type": "stream",
          "text": [
            "(9593, 2) (6742, 2) (6757, 2)\n"
          ],
          "name": "stdout"
        }
      ]
    },
    {
      "cell_type": "code",
      "metadata": {
        "colab": {
          "base_uri": "https://localhost:8080/"
        },
        "id": "LmCFqtkD7cdF",
        "outputId": "44380f52-5c94-4c1d-a1ff-75aa02a081d7"
      },
      "source": [
        "train_df = train_df.append(random_del_dataset, ignore_index=True)\r\n",
        "train_df = train_df.append(random_swap_dataset, ignore_index=True)\r\n",
        "print(\"Final train dataset shape, after augmentation: \", train_df.shape)"
      ],
      "execution_count": null,
      "outputs": [
        {
          "output_type": "stream",
          "text": [
            "Final train dataset shape, after augmentation:  (23092, 2)\n"
          ],
          "name": "stdout"
        }
      ]
    },
    {
      "cell_type": "code",
      "metadata": {
        "colab": {
          "base_uri": "https://localhost:8080/",
          "height": 195
        },
        "id": "Ri8kuKb68TQs",
        "outputId": "1bd65444-9003-4736-e909-a45a9535c410"
      },
      "source": [
        "train_df.head()"
      ],
      "execution_count": null,
      "outputs": [
        {
          "output_type": "execute_result",
          "data": {
            "text/html": [
              "<div>\n",
              "<style scoped>\n",
              "    .dataframe tbody tr th:only-of-type {\n",
              "        vertical-align: middle;\n",
              "    }\n",
              "\n",
              "    .dataframe tbody tr th {\n",
              "        vertical-align: top;\n",
              "    }\n",
              "\n",
              "    .dataframe thead th {\n",
              "        text-align: right;\n",
              "    }\n",
              "</style>\n",
              "<table border=\"1\" class=\"dataframe\">\n",
              "  <thead>\n",
              "    <tr style=\"text-align: right;\">\n",
              "      <th></th>\n",
              "      <th>sentence</th>\n",
              "      <th>sentiment values</th>\n",
              "    </tr>\n",
              "  </thead>\n",
              "  <tbody>\n",
              "    <tr>\n",
              "      <th>0</th>\n",
              "      <td>Hollywood Ending is the most disappointing Woo...</td>\n",
              "      <td>0</td>\n",
              "    </tr>\n",
              "    <tr>\n",
              "      <th>1</th>\n",
              "      <td>Unfortunately , One Hour Photo lives down to i...</td>\n",
              "      <td>0</td>\n",
              "    </tr>\n",
              "    <tr>\n",
              "      <th>2</th>\n",
              "      <td>One of the best inside-show-biz yarns ever .</td>\n",
              "      <td>4</td>\n",
              "    </tr>\n",
              "    <tr>\n",
              "      <th>3</th>\n",
              "      <td>Nicholson 's understated performance is wonder...</td>\n",
              "      <td>4</td>\n",
              "    </tr>\n",
              "    <tr>\n",
              "      <th>4</th>\n",
              "      <td>There 's no denying that Burns is a filmmaker ...</td>\n",
              "      <td>4</td>\n",
              "    </tr>\n",
              "  </tbody>\n",
              "</table>\n",
              "</div>"
            ],
            "text/plain": [
              "                                            sentence  sentiment values\n",
              "0  Hollywood Ending is the most disappointing Woo...                 0\n",
              "1  Unfortunately , One Hour Photo lives down to i...                 0\n",
              "2       One of the best inside-show-biz yarns ever .                 4\n",
              "3  Nicholson 's understated performance is wonder...                 4\n",
              "4  There 's no denying that Burns is a filmmaker ...                 4"
            ]
          },
          "metadata": {
            "tags": []
          },
          "execution_count": 122
        }
      ]
    },
    {
      "cell_type": "code",
      "metadata": {
        "colab": {
          "base_uri": "https://localhost:8080/"
        },
        "id": "T0Or1z7U-3BJ",
        "outputId": "c959cb64-c5db-4982-f2b4-38024633378e"
      },
      "source": [
        "print(\"Train set class splitup after augmentation\")\r\n",
        "train_df['sentiment values'].value_counts()"
      ],
      "execution_count": null,
      "outputs": [
        {
          "output_type": "stream",
          "text": [
            "Train set class splitup after augmentation\n"
          ],
          "name": "stdout"
        },
        {
          "output_type": "execute_result",
          "data": {
            "text/plain": [
              "1    6112\n",
              "3    6051\n",
              "2    4398\n",
              "4    3604\n",
              "0    2927\n",
              "Name: sentiment values, dtype: int64"
            ]
          },
          "metadata": {
            "tags": []
          },
          "execution_count": 123
        }
      ]
    },
    {
      "cell_type": "markdown",
      "metadata": {
        "id": "XJ6o_79ISSVb"
      },
      "source": [
        "## Defining Fields"
      ]
    },
    {
      "cell_type": "markdown",
      "metadata": {
        "id": "e63g08ijOrf7"
      },
      "source": [
        "Now we shall be defining LABEL as a LabelField, which is a subclass of Field that sets sequen tial to False (as it’s our numerical category class). TWEET is a standard Field object, where we have decided to use the spaCy tokenizer and convert all the text to lower‐ case."
      ]
    },
    {
      "cell_type": "code",
      "metadata": {
        "id": "qk8IP4SK1Lrp",
        "colab": {
          "base_uri": "https://localhost:8080/"
        },
        "outputId": "f7486629-31fe-457a-a8d1-ae4e517db270"
      },
      "source": [
        "# Import Library\n",
        "import random\n",
        "import torch, torchtext\n",
        "from torchtext import data \n",
        "\n",
        "# Manual Seed\n",
        "torch.manual_seed(SEED)"
      ],
      "execution_count": null,
      "outputs": [
        {
          "output_type": "execute_result",
          "data": {
            "text/plain": [
              "<torch._C.Generator at 0x7f95aa713630>"
            ]
          },
          "metadata": {
            "tags": []
          },
          "execution_count": 124
        }
      ]
    },
    {
      "cell_type": "code",
      "metadata": {
        "id": "u6bKQax2Mf_U"
      },
      "source": [
        "Tweet = data.Field(sequential = True, tokenize = 'spacy', batch_first =True, include_lengths=True)\n",
        "Label = data.LabelField(tokenize ='spacy', is_target=True, batch_first =True, sequential =False)"
      ],
      "execution_count": null,
      "outputs": []
    },
    {
      "cell_type": "markdown",
      "metadata": {
        "id": "mX-lYIe_O7Vy"
      },
      "source": [
        "Having defined those fields, we now need to produce a list that maps them onto the list of rows that are in the CSV:"
      ]
    },
    {
      "cell_type": "code",
      "metadata": {
        "id": "VawdWq36O6td"
      },
      "source": [
        "fields = [('tweets', Tweet),('labels',Label)]"
      ],
      "execution_count": null,
      "outputs": []
    },
    {
      "cell_type": "markdown",
      "metadata": {
        "id": "ZbtZ-Ph2P1xL"
      },
      "source": [
        "Armed with our declared fields, lets convert from pandas to list to torchtext. We could also use TabularDataset to apply that definition to the CSV directly but showing an alternative approach too."
      ]
    },
    {
      "cell_type": "code",
      "metadata": {
        "id": "L3OLcJ5B7rHz"
      },
      "source": [
        "train_example = [data.Example.fromlist([train_df['sentence'][i], train_df['sentiment values'][i]], fields) for i in range(train_df.shape[0])] \r\n",
        "val_example = [data.Example.fromlist([valid_df['sentence'][i], valid_df['sentiment values'][i]], fields) for i in range(valid_df.shape[0])]"
      ],
      "execution_count": null,
      "outputs": []
    },
    {
      "cell_type": "code",
      "metadata": {
        "id": "nT-flpH-P1cd"
      },
      "source": [
        "# Creating dataset\n",
        "#twitterDataset = data.TabularDataset(path=\"tweets.csv\", format=\"CSV\", fields=fields, skip_header=True)\n",
        "\n",
        "trainDataset = data.Dataset(train_example, fields)\n",
        "valDataset = data.Dataset(val_example, fields)"
      ],
      "execution_count": null,
      "outputs": []
    },
    {
      "cell_type": "code",
      "metadata": {
        "id": "uPYXyuKhRpBk"
      },
      "source": [
        "# (train, valid) = trainDataset.split(split_ratio=[0.85, 0.15], random_state=random.seed(SEED))"
      ],
      "execution_count": null,
      "outputs": []
    },
    {
      "cell_type": "markdown",
      "metadata": {
        "id": "kix8P2IKSBaV"
      },
      "source": [
        "An example from the dataset:"
      ]
    },
    {
      "cell_type": "code",
      "metadata": {
        "id": "dUpEOQruR9JL",
        "colab": {
          "base_uri": "https://localhost:8080/"
        },
        "outputId": "46d18d64-3ca5-4d43-9822-a9dd2bfb6b38"
      },
      "source": [
        "vars(train.examples[10])"
      ],
      "execution_count": null,
      "outputs": [
        {
          "output_type": "execute_result",
          "data": {
            "text/plain": [
              "{'labels': 2,\n",
              " 'tweets': ['The',\n",
              "  'film',\n",
              "  \"'s\",\n",
              "  'only',\n",
              "  'missteps',\n",
              "  'come',\n",
              "  'from',\n",
              "  'the',\n",
              "  'script',\n",
              "  \"'s\",\n",
              "  'insistence',\n",
              "  'on',\n",
              "  'providing',\n",
              "  'deep',\n",
              "  'emotional',\n",
              "  'motivation',\n",
              "  'for',\n",
              "  'each',\n",
              "  'and',\n",
              "  'every',\n",
              "  'one',\n",
              "  'of',\n",
              "  'Abagnale',\n",
              "  \"'s\",\n",
              "  'antics',\n",
              "  '.']}"
            ]
          },
          "metadata": {
            "tags": []
          },
          "execution_count": 130
        }
      ]
    },
    {
      "cell_type": "markdown",
      "metadata": {
        "id": "AKdllP3FST4N"
      },
      "source": [
        "## Building Vocabulary"
      ]
    },
    {
      "cell_type": "markdown",
      "metadata": {
        "id": "SuvWQ-SpSmSz"
      },
      "source": [
        "At this point we would have built a one-hot encoding of each word that is present in the dataset—a rather tedious process. Thankfully, torchtext will do this for us, and will also allow a max_size parameter to be passed in to limit the vocabu‐ lary to the most common words. This is normally done to prevent the construction of a huge, memory-hungry model. We don’t want our GPUs too overwhelmed, after all. \n",
        "\n",
        "Let’s limit the vocabulary to a maximum of 5000 words in our training set:\n"
      ]
    },
    {
      "cell_type": "code",
      "metadata": {
        "id": "mx955u93SGeY"
      },
      "source": [
        "Tweet.build_vocab(trainDataset)\n",
        "Label.build_vocab(trainDataset)"
      ],
      "execution_count": null,
      "outputs": []
    },
    {
      "cell_type": "markdown",
      "metadata": {
        "id": "xvyEeEjXTGhX"
      },
      "source": [
        "By default, torchtext will add two more special tokens, <unk> for unknown words and <pad>, a padding token that will be used to pad all our text to roughly the same size to help with efficient batching on the GPU."
      ]
    },
    {
      "cell_type": "code",
      "metadata": {
        "id": "rA3tIESdcJdN",
        "colab": {
          "base_uri": "https://localhost:8080/"
        },
        "outputId": "6229fa47-157f-4532-9913-e51ca06602c0"
      },
      "source": [
        "print('Size of input vocab : ', len(Tweet.vocab))\n",
        "print('Size of label vocab : ', len(Label.vocab))\n",
        "print('Top 10 words appreared repeatedly :', list(Tweet.vocab.freqs.most_common(10)))\n",
        "print('Labels : ', Label.vocab.stoi)"
      ],
      "execution_count": null,
      "outputs": [
        {
          "output_type": "stream",
          "text": [
            "Size of input vocab :  17965\n",
            "Size of label vocab :  5\n",
            "Top 10 words appreared repeatedly : [('.', 18602), (',', 16407), ('the', 14006), ('and', 10160), ('of', 10062), ('a', 10038), ('to', 7019), ('-', 6297), ('is', 5850), (\"'s\", 5741)]\n",
            "Labels :  defaultdict(<function _default_unk_index at 0x7f95aa3b0378>, {1: 0, 3: 1, 2: 2, 4: 3, 0: 4})\n"
          ],
          "name": "stdout"
        }
      ]
    },
    {
      "cell_type": "markdown",
      "metadata": {
        "id": "rwjD2-ebTeUX"
      },
      "source": [
        "**Lots of stopwords!!**"
      ]
    },
    {
      "cell_type": "markdown",
      "metadata": {
        "id": "sLWW221gTpNs"
      },
      "source": [
        "Now we need to create a data loader to feed into our training loop. Torchtext provides the BucketIterator method that will produce what it calls a Batch, which is almost, but not quite, like the data loader we used on images."
      ]
    },
    {
      "cell_type": "markdown",
      "metadata": {
        "id": "EQqMhMoDUDmn"
      },
      "source": [
        "But at first declare the device we are using."
      ]
    },
    {
      "cell_type": "code",
      "metadata": {
        "id": "Zfo2QhGJUK4l"
      },
      "source": [
        "device = torch.device(\"cuda\" if torch.cuda.is_available() else \"cpu\")"
      ],
      "execution_count": null,
      "outputs": []
    },
    {
      "cell_type": "code",
      "metadata": {
        "id": "zK2ORoqdTNsM"
      },
      "source": [
        "train_iterator, valid_iterator = data.BucketIterator.splits((trainDataset, valDataset), batch_size = 32, \n",
        "                                                            sort_key = lambda x: len(x.tweets),\n",
        "                                                            sort_within_batch=True, device = device)"
      ],
      "execution_count": null,
      "outputs": []
    },
    {
      "cell_type": "markdown",
      "metadata": {
        "id": "Gg7gTFQO4fby"
      },
      "source": [
        "Save the vocabulary for later use"
      ]
    },
    {
      "cell_type": "code",
      "metadata": {
        "id": "niE9Cc6-2bD_"
      },
      "source": [
        "import os, pickle\n",
        "with open('tokenizer.pkl', 'wb') as tokens: \n",
        "    pickle.dump(Tweet.vocab.stoi, tokens)"
      ],
      "execution_count": null,
      "outputs": []
    },
    {
      "cell_type": "markdown",
      "metadata": {
        "id": "1AbsQwqkVyAy"
      },
      "source": [
        "## Defining Our Model"
      ]
    },
    {
      "cell_type": "markdown",
      "metadata": {
        "id": "E4PED4HJWH4t"
      },
      "source": [
        "We use the Embedding and LSTM modules in PyTorch to build a simple model for classifying tweets.\n",
        "\n",
        "In this model we create three layers. \n",
        "1. First, the words in our tweets are pushed into an Embedding layer, which we have established as a 300-dimensional vector embedding. \n",
        "2. That’s then fed into a 2 stacked-LSTMs with 100 hidden features (again, we’re compressing down from the 300-dimensional input like we did with images). We are using 2 LSTMs for using the dropout.\n",
        "3. Finally, the output of the LSTM (the final hidden state after processing the incoming tweet) is pushed through a standard fully connected layer with three outputs to correspond to our three possible classes (negative, positive, or neutral)."
      ]
    },
    {
      "cell_type": "code",
      "metadata": {
        "id": "43pVRccMT0bT"
      },
      "source": [
        "import torch.nn as nn\n",
        "import torch.nn.functional as F\n",
        "\n",
        "class classifier(nn.Module):\n",
        "    \n",
        "    # Define all the layers used in model\n",
        "    def __init__(self, vocab_size, embedding_dim, hidden_dim, output_dim, n_layers, dropout):\n",
        "        \n",
        "        super().__init__()          \n",
        "        \n",
        "        # Embedding layer\n",
        "        self.embedding = nn.Embedding(vocab_size, embedding_dim)\n",
        "        \n",
        "        # LSTM layer\n",
        "        self.encoder = nn.LSTM(embedding_dim, \n",
        "                           hidden_dim, \n",
        "                           num_layers=n_layers, \n",
        "                           dropout=dropout,\n",
        "                           batch_first=True)\n",
        "        # try using nn.GRU or nn.RNN here and compare their performances\n",
        "        # try bidirectional and compare their performances\n",
        "        \n",
        "        # Dense layer\n",
        "        self.fc = nn.Linear(hidden_dim, output_dim)\n",
        "        \n",
        "    def forward(self, text, text_lengths):\n",
        "        \n",
        "        # text = [batch size, sent_length]\n",
        "        embedded = self.embedding(text)\n",
        "        # embedded = [batch size, sent_len, emb dim]\n",
        "      \n",
        "        # packed sequence\n",
        "        packed_embedded = nn.utils.rnn.pack_padded_sequence(embedded, text_lengths.cpu(), batch_first=True)\n",
        "        \n",
        "        packed_output, (hidden, cell) = self.encoder(packed_embedded)\n",
        "        #hidden = [batch size, num layers * num directions,hid dim]\n",
        "        #cell = [batch size, num layers * num directions,hid dim]\n",
        "    \n",
        "        # Hidden = [batch size, hid dim * num directions]\n",
        "        dense_outputs = self.fc(hidden)   \n",
        "        \n",
        "        # Final activation function softmax\n",
        "        output = F.softmax(dense_outputs[0], dim=1)\n",
        "            \n",
        "        return output"
      ],
      "execution_count": null,
      "outputs": []
    },
    {
      "cell_type": "code",
      "metadata": {
        "id": "rwBoGE_X_Fl8"
      },
      "source": [
        "# Define hyperparameters\n",
        "size_of_vocab = len(Tweet.vocab)\n",
        "embedding_dim = 300\n",
        "num_hidden_nodes = 100\n",
        "num_output_nodes = 5\n",
        "num_layers = 2\n",
        "dropout = 0.2\n",
        "\n",
        "# Instantiate the model\n",
        "model = classifier(size_of_vocab, embedding_dim, num_hidden_nodes, num_output_nodes, num_layers, dropout = dropout)"
      ],
      "execution_count": null,
      "outputs": []
    },
    {
      "cell_type": "code",
      "metadata": {
        "id": "O-pOMqzJ3eTv",
        "colab": {
          "base_uri": "https://localhost:8080/"
        },
        "outputId": "2954f163-e6ba-4eea-e21a-4e5c861748ea"
      },
      "source": [
        "print(model)\n",
        "\n",
        "#No. of trianable parameters\n",
        "def count_parameters(model):\n",
        "    return sum(p.numel() for p in model.parameters() if p.requires_grad)\n",
        "    \n",
        "print(f'The model has {count_parameters(model):,} trainable parameters')"
      ],
      "execution_count": null,
      "outputs": [
        {
          "output_type": "stream",
          "text": [
            "classifier(\n",
            "  (embedding): Embedding(17965, 300)\n",
            "  (encoder): LSTM(300, 100, num_layers=2, batch_first=True, dropout=0.2)\n",
            "  (fc): Linear(in_features=100, out_features=5, bias=True)\n",
            ")\n",
            "The model has 5,631,605 trainable parameters\n"
          ],
          "name": "stdout"
        }
      ]
    },
    {
      "cell_type": "markdown",
      "metadata": {
        "id": "eXajorf5Xz7t"
      },
      "source": [
        "## Model Training and Evaluation"
      ]
    },
    {
      "cell_type": "markdown",
      "metadata": {
        "id": "PrE9RpMtZ1Vs"
      },
      "source": [
        "First define the optimizer and loss functions"
      ]
    },
    {
      "cell_type": "code",
      "metadata": {
        "id": "-u86JWdlXvu5"
      },
      "source": [
        "import torch.optim as optim\n",
        "\n",
        "# define optimizer and loss\n",
        "optimizer = optim.Adam(model.parameters(), lr=2e-4)\n",
        "criterion = nn.CrossEntropyLoss()\n",
        "\n",
        "# define metric\n",
        "def binary_accuracy(preds, y):\n",
        "    #round predictions to the closest integer\n",
        "    _, predictions = torch.max(preds, 1)\n",
        "    \n",
        "    correct = (predictions == y).float() \n",
        "    acc = correct.sum() / len(correct)\n",
        "    return acc\n",
        "    \n",
        "# push to cuda if available\n",
        "model = model.to(device)\n",
        "criterion = criterion.to(device)"
      ],
      "execution_count": null,
      "outputs": []
    },
    {
      "cell_type": "markdown",
      "metadata": {
        "id": "3VCJtNb3Zt8w"
      },
      "source": [
        "The main thing to be aware of in this new training loop is that we have to reference `batch.tweets` and `batch.labels` to get the particular fields we’re interested in; they don’t fall out quite as nicely from the enumerator as they do in torchvision."
      ]
    },
    {
      "cell_type": "markdown",
      "metadata": {
        "id": "2WjEPLKsAiS_"
      },
      "source": [
        "**Training Loop**"
      ]
    },
    {
      "cell_type": "code",
      "metadata": {
        "id": "HDWNnGK3Y5oJ"
      },
      "source": [
        "def train(model, iterator, optimizer, criterion):\n",
        "    # from pdb import set_trace as bp\n",
        "    # bp()\n",
        "    # initialize every epoch \n",
        "    epoch_loss = 0\n",
        "    epoch_acc = 0\n",
        "    \n",
        "    # set the model in training phase\n",
        "    model.train()  \n",
        "    \n",
        "    for batch in iterator:\n",
        "        \n",
        "        # resets the gradients after every batch\n",
        "        optimizer.zero_grad()   \n",
        "        \n",
        "        # retrieve text and no. of words\n",
        "        tweet, tweet_lengths = batch.tweets   \n",
        "        \n",
        "        # convert to 1D tensor\n",
        "        predictions = model(tweet, tweet_lengths).squeeze()  \n",
        "        \n",
        "        # compute the loss\n",
        "        loss = criterion(predictions, batch.labels)        \n",
        "        \n",
        "        # compute the binary accuracy\n",
        "        acc = binary_accuracy(predictions, batch.labels)   \n",
        "        \n",
        "        # backpropage the loss and compute the gradients\n",
        "        loss.backward()       \n",
        "        \n",
        "        # update the weights\n",
        "        optimizer.step()      \n",
        "        \n",
        "        # loss and accuracy\n",
        "        epoch_loss += loss.item()  \n",
        "        epoch_acc += acc.item()    \n",
        "        \n",
        "    return epoch_loss / len(iterator), epoch_acc / len(iterator)"
      ],
      "execution_count": null,
      "outputs": []
    },
    {
      "cell_type": "markdown",
      "metadata": {
        "id": "CZcHhkkvAsCt"
      },
      "source": [
        "**Evaluation Loop**"
      ]
    },
    {
      "cell_type": "code",
      "metadata": {
        "id": "zHEe-zSVAriL"
      },
      "source": [
        "def evaluate(model, iterator, criterion):\n",
        "    \n",
        "    # initialize every epoch\n",
        "    epoch_loss = 0\n",
        "    epoch_acc = 0\n",
        "\n",
        "    # deactivating dropout layers\n",
        "    model.eval()\n",
        "    \n",
        "    # deactivates autograd\n",
        "    with torch.no_grad():\n",
        "    \n",
        "        for batch in iterator:\n",
        "        \n",
        "            # retrieve text and no. of words\n",
        "            tweet, tweet_lengths = batch.tweets\n",
        "            \n",
        "            # convert to 1d tensor\n",
        "            predictions = model(tweet, tweet_lengths).squeeze()\n",
        "            \n",
        "            # compute loss and accuracy\n",
        "            loss = criterion(predictions, batch.labels)\n",
        "            acc = binary_accuracy(predictions, batch.labels)\n",
        "            \n",
        "            # keep track of loss and accuracy\n",
        "            epoch_loss += loss.item()\n",
        "            epoch_acc += acc.item()\n",
        "        \n",
        "    return epoch_loss / len(iterator), epoch_acc / len(iterator)"
      ],
      "execution_count": null,
      "outputs": []
    },
    {
      "cell_type": "markdown",
      "metadata": {
        "id": "L6LJFW7HaJoV"
      },
      "source": [
        "**Let's Train and Evaluate**"
      ]
    },
    {
      "cell_type": "code",
      "metadata": {
        "id": "tq330XlnaEU9",
        "colab": {
          "base_uri": "https://localhost:8080/"
        },
        "outputId": "5268b25b-9bf9-4658-f997-ce2f0b3310b9"
      },
      "source": [
        "N_EPOCHS = 70\n",
        "best_valid_loss = float('inf')\n",
        "\n",
        "for epoch in range(N_EPOCHS):\n",
        "     \n",
        "    # train the model\n",
        "    train_loss, train_acc = train(model, train_iterator, optimizer, criterion)\n",
        "    \n",
        "    # evaluate the model\n",
        "    valid_loss, valid_acc = evaluate(model, valid_iterator, criterion)\n",
        "    \n",
        "    # save the best model\n",
        "    if valid_loss < best_valid_loss:\n",
        "        best_valid_loss = valid_loss\n",
        "        torch.save(model.state_dict(), 'saved_weights.pt')\n",
        "    \n",
        "    print(f'\\tTrain Loss: {train_loss:.3f} | Train Acc: {train_acc*100:.2f}%')\n",
        "    print(f'\\t Val. Loss: {valid_loss:.3f} |  Val. Acc: {valid_acc*100:.2f}% \\n')"
      ],
      "execution_count": null,
      "outputs": [
        {
          "output_type": "stream",
          "text": [
            "\tTrain Loss: 1.578 | Train Acc: 28.31%\n",
            "\t Val. Loss: 1.561 |  Val. Acc: 30.85% \n",
            "\n",
            "\tTrain Loss: 1.520 | Train Acc: 37.39%\n",
            "\t Val. Loss: 1.537 |  Val. Acc: 34.91% \n",
            "\n",
            "\tTrain Loss: 1.462 | Train Acc: 43.69%\n",
            "\t Val. Loss: 1.533 |  Val. Acc: 35.40% \n",
            "\n",
            "\tTrain Loss: 1.414 | Train Acc: 49.27%\n",
            "\t Val. Loss: 1.534 |  Val. Acc: 35.50% \n",
            "\n",
            "\tTrain Loss: 1.371 | Train Acc: 54.04%\n",
            "\t Val. Loss: 1.533 |  Val. Acc: 34.91% \n",
            "\n",
            "\tTrain Loss: 1.330 | Train Acc: 58.59%\n",
            "\t Val. Loss: 1.540 |  Val. Acc: 33.91% \n",
            "\n",
            "\tTrain Loss: 1.290 | Train Acc: 63.00%\n",
            "\t Val. Loss: 1.530 |  Val. Acc: 35.45% \n",
            "\n",
            "\tTrain Loss: 1.255 | Train Acc: 66.38%\n",
            "\t Val. Loss: 1.533 |  Val. Acc: 35.34% \n",
            "\n",
            "\tTrain Loss: 1.222 | Train Acc: 69.88%\n",
            "\t Val. Loss: 1.551 |  Val. Acc: 33.37% \n",
            "\n",
            "\tTrain Loss: 1.197 | Train Acc: 72.18%\n",
            "\t Val. Loss: 1.552 |  Val. Acc: 34.02% \n",
            "\n",
            "\tTrain Loss: 1.175 | Train Acc: 74.20%\n",
            "\t Val. Loss: 1.563 |  Val. Acc: 31.95% \n",
            "\n",
            "\tTrain Loss: 1.157 | Train Acc: 75.84%\n",
            "\t Val. Loss: 1.551 |  Val. Acc: 33.49% \n",
            "\n",
            "\tTrain Loss: 1.145 | Train Acc: 76.84%\n",
            "\t Val. Loss: 1.562 |  Val. Acc: 32.43% \n",
            "\n",
            "\tTrain Loss: 1.134 | Train Acc: 77.87%\n",
            "\t Val. Loss: 1.567 |  Val. Acc: 32.02% \n",
            "\n",
            "\tTrain Loss: 1.122 | Train Acc: 79.15%\n",
            "\t Val. Loss: 1.557 |  Val. Acc: 33.37% \n",
            "\n",
            "\tTrain Loss: 1.104 | Train Acc: 81.19%\n",
            "\t Val. Loss: 1.556 |  Val. Acc: 33.37% \n",
            "\n",
            "\tTrain Loss: 1.087 | Train Acc: 83.01%\n",
            "\t Val. Loss: 1.563 |  Val. Acc: 32.19% \n",
            "\n",
            "\tTrain Loss: 1.070 | Train Acc: 84.73%\n",
            "\t Val. Loss: 1.565 |  Val. Acc: 31.53% \n",
            "\n",
            "\tTrain Loss: 1.055 | Train Acc: 86.44%\n",
            "\t Val. Loss: 1.556 |  Val. Acc: 33.47% \n",
            "\n",
            "\tTrain Loss: 1.046 | Train Acc: 87.12%\n",
            "\t Val. Loss: 1.567 |  Val. Acc: 32.07% \n",
            "\n",
            "\tTrain Loss: 1.031 | Train Acc: 88.70%\n",
            "\t Val. Loss: 1.574 |  Val. Acc: 31.69% \n",
            "\n",
            "\tTrain Loss: 1.021 | Train Acc: 89.54%\n",
            "\t Val. Loss: 1.560 |  Val. Acc: 33.43% \n",
            "\n",
            "\tTrain Loss: 1.012 | Train Acc: 90.30%\n",
            "\t Val. Loss: 1.568 |  Val. Acc: 32.60% \n",
            "\n",
            "\tTrain Loss: 1.006 | Train Acc: 90.74%\n",
            "\t Val. Loss: 1.567 |  Val. Acc: 32.35% \n",
            "\n",
            "\tTrain Loss: 1.000 | Train Acc: 91.21%\n",
            "\t Val. Loss: 1.562 |  Val. Acc: 33.25% \n",
            "\n",
            "\tTrain Loss: 0.999 | Train Acc: 91.27%\n",
            "\t Val. Loss: 1.573 |  Val. Acc: 31.83% \n",
            "\n",
            "\tTrain Loss: 0.992 | Train Acc: 91.84%\n",
            "\t Val. Loss: 1.565 |  Val. Acc: 32.83% \n",
            "\n",
            "\tTrain Loss: 0.992 | Train Acc: 91.91%\n",
            "\t Val. Loss: 1.573 |  Val. Acc: 31.88% \n",
            "\n",
            "\tTrain Loss: 0.986 | Train Acc: 92.31%\n",
            "\t Val. Loss: 1.578 |  Val. Acc: 31.04% \n",
            "\n",
            "\tTrain Loss: 0.985 | Train Acc: 92.46%\n",
            "\t Val. Loss: 1.571 |  Val. Acc: 32.18% \n",
            "\n",
            "\tTrain Loss: 0.982 | Train Acc: 92.67%\n",
            "\t Val. Loss: 1.571 |  Val. Acc: 32.11% \n",
            "\n",
            "\tTrain Loss: 0.980 | Train Acc: 92.82%\n",
            "\t Val. Loss: 1.563 |  Val. Acc: 33.01% \n",
            "\n",
            "\tTrain Loss: 0.977 | Train Acc: 93.10%\n",
            "\t Val. Loss: 1.563 |  Val. Acc: 33.06% \n",
            "\n",
            "\tTrain Loss: 0.975 | Train Acc: 93.29%\n",
            "\t Val. Loss: 1.568 |  Val. Acc: 32.11% \n",
            "\n",
            "\tTrain Loss: 0.972 | Train Acc: 93.52%\n",
            "\t Val. Loss: 1.564 |  Val. Acc: 32.77% \n",
            "\n",
            "\tTrain Loss: 0.971 | Train Acc: 93.60%\n",
            "\t Val. Loss: 1.576 |  Val. Acc: 31.82% \n",
            "\n",
            "\tTrain Loss: 0.972 | Train Acc: 93.52%\n",
            "\t Val. Loss: 1.566 |  Val. Acc: 32.89% \n",
            "\n",
            "\tTrain Loss: 0.969 | Train Acc: 93.78%\n",
            "\t Val. Loss: 1.562 |  Val. Acc: 33.59% \n",
            "\n",
            "\tTrain Loss: 0.967 | Train Acc: 93.97%\n",
            "\t Val. Loss: 1.564 |  Val. Acc: 32.54% \n",
            "\n",
            "\tTrain Loss: 0.967 | Train Acc: 93.91%\n",
            "\t Val. Loss: 1.566 |  Val. Acc: 32.83% \n",
            "\n",
            "\tTrain Loss: 0.964 | Train Acc: 94.18%\n",
            "\t Val. Loss: 1.568 |  Val. Acc: 33.34% \n",
            "\n",
            "\tTrain Loss: 0.965 | Train Acc: 94.08%\n",
            "\t Val. Loss: 1.568 |  Val. Acc: 32.87% \n",
            "\n",
            "\tTrain Loss: 0.962 | Train Acc: 94.42%\n",
            "\t Val. Loss: 1.575 |  Val. Acc: 31.62% \n",
            "\n",
            "\tTrain Loss: 0.961 | Train Acc: 94.50%\n",
            "\t Val. Loss: 1.575 |  Val. Acc: 31.75% \n",
            "\n",
            "\tTrain Loss: 0.960 | Train Acc: 94.57%\n",
            "\t Val. Loss: 1.577 |  Val. Acc: 31.63% \n",
            "\n",
            "\tTrain Loss: 0.961 | Train Acc: 94.51%\n",
            "\t Val. Loss: 1.570 |  Val. Acc: 32.59% \n",
            "\n",
            "\tTrain Loss: 0.963 | Train Acc: 94.33%\n",
            "\t Val. Loss: 1.561 |  Val. Acc: 33.46% \n",
            "\n",
            "\tTrain Loss: 0.960 | Train Acc: 94.62%\n",
            "\t Val. Loss: 1.574 |  Val. Acc: 31.81% \n",
            "\n",
            "\tTrain Loss: 0.958 | Train Acc: 94.75%\n",
            "\t Val. Loss: 1.575 |  Val. Acc: 31.69% \n",
            "\n",
            "\tTrain Loss: 0.959 | Train Acc: 94.73%\n",
            "\t Val. Loss: 1.577 |  Val. Acc: 31.58% \n",
            "\n",
            "\tTrain Loss: 0.957 | Train Acc: 94.86%\n",
            "\t Val. Loss: 1.579 |  Val. Acc: 31.05% \n",
            "\n",
            "\tTrain Loss: 0.956 | Train Acc: 94.93%\n",
            "\t Val. Loss: 1.565 |  Val. Acc: 32.94% \n",
            "\n",
            "\tTrain Loss: 0.956 | Train Acc: 94.91%\n",
            "\t Val. Loss: 1.566 |  Val. Acc: 32.87% \n",
            "\n",
            "\tTrain Loss: 0.955 | Train Acc: 95.05%\n",
            "\t Val. Loss: 1.565 |  Val. Acc: 33.00% \n",
            "\n",
            "\tTrain Loss: 0.954 | Train Acc: 95.10%\n",
            "\t Val. Loss: 1.571 |  Val. Acc: 32.28% \n",
            "\n",
            "\tTrain Loss: 0.954 | Train Acc: 95.12%\n",
            "\t Val. Loss: 1.577 |  Val. Acc: 31.34% \n",
            "\n",
            "\tTrain Loss: 0.956 | Train Acc: 94.94%\n",
            "\t Val. Loss: 1.558 |  Val. Acc: 33.67% \n",
            "\n",
            "\tTrain Loss: 0.953 | Train Acc: 95.20%\n",
            "\t Val. Loss: 1.559 |  Val. Acc: 33.48% \n",
            "\n",
            "\tTrain Loss: 0.952 | Train Acc: 95.29%\n",
            "\t Val. Loss: 1.554 |  Val. Acc: 34.36% \n",
            "\n",
            "\tTrain Loss: 0.953 | Train Acc: 95.24%\n",
            "\t Val. Loss: 1.562 |  Val. Acc: 33.16% \n",
            "\n",
            "\tTrain Loss: 0.951 | Train Acc: 95.39%\n",
            "\t Val. Loss: 1.563 |  Val. Acc: 33.40% \n",
            "\n",
            "\tTrain Loss: 0.951 | Train Acc: 95.42%\n",
            "\t Val. Loss: 1.560 |  Val. Acc: 33.63% \n",
            "\n",
            "\tTrain Loss: 0.953 | Train Acc: 95.23%\n",
            "\t Val. Loss: 1.549 |  Val. Acc: 34.47% \n",
            "\n",
            "\tTrain Loss: 0.951 | Train Acc: 95.43%\n",
            "\t Val. Loss: 1.552 |  Val. Acc: 34.59% \n",
            "\n",
            "\tTrain Loss: 0.951 | Train Acc: 95.44%\n",
            "\t Val. Loss: 1.567 |  Val. Acc: 32.88% \n",
            "\n",
            "\tTrain Loss: 0.950 | Train Acc: 95.54%\n",
            "\t Val. Loss: 1.556 |  Val. Acc: 33.87% \n",
            "\n",
            "\tTrain Loss: 0.948 | Train Acc: 95.64%\n",
            "\t Val. Loss: 1.556 |  Val. Acc: 33.94% \n",
            "\n",
            "\tTrain Loss: 0.950 | Train Acc: 95.50%\n",
            "\t Val. Loss: 1.570 |  Val. Acc: 32.35% \n",
            "\n",
            "\tTrain Loss: 0.951 | Train Acc: 95.44%\n",
            "\t Val. Loss: 1.555 |  Val. Acc: 33.81% \n",
            "\n",
            "\tTrain Loss: 0.949 | Train Acc: 95.63%\n",
            "\t Val. Loss: 1.559 |  Val. Acc: 34.06% \n",
            "\n"
          ],
          "name": "stdout"
        }
      ]
    },
    {
      "cell_type": "markdown",
      "metadata": {
        "id": "LZgzB0ZkHVTI"
      },
      "source": [
        "## Model Testing"
      ]
    },
    {
      "cell_type": "code",
      "metadata": {
        "id": "aZZfnWo0abRx"
      },
      "source": [
        "#load weights and tokenizer\n",
        "\n",
        "path='./saved_weights.pt'\n",
        "model.load_state_dict(torch.load(path));\n",
        "model.eval();\n",
        "tokenizer_file = open('./tokenizer.pkl', 'rb')\n",
        "tokenizer = pickle.load(tokenizer_file)\n",
        "\n",
        "#inference \n",
        "\n",
        "import spacy\n",
        "nlp = spacy.load('en')\n",
        "\n",
        "def classify_tweet(tweet):\n",
        "\n",
        "    # categories = {0: \"Negative\", 1:\"Positive\", 2:\"Neutral\"}\n",
        "    categories = {0: \"very negative\", 1: \"negative\", 2: \"neutral\", 3: \"positive\", 4: \"very positive\"}\n",
        "    # tokenize the tweet \n",
        "    tokenized = [tok.text for tok in nlp.tokenizer(tweet)] \n",
        "    # convert to integer sequence using predefined tokenizer dictionary\n",
        "    indexed = [tokenizer[t] for t in tokenized]        \n",
        "    # compute no. of words        \n",
        "    length = [len(indexed)]\n",
        "    # convert to tensor                                    \n",
        "    tensor = torch.LongTensor(indexed).to(device)   \n",
        "    # reshape in form of batch, no. of words           \n",
        "    tensor = tensor.unsqueeze(1).T  \n",
        "    # convert to tensor                          \n",
        "    length_tensor = torch.LongTensor(length)\n",
        "    # Get the model prediction                  \n",
        "    prediction = model(tensor, length_tensor)\n",
        "    _, pred = torch.max(prediction, 1) \n",
        "    \n",
        "    return categories[pred.item()]"
      ],
      "execution_count": null,
      "outputs": []
    },
    {
      "cell_type": "code",
      "metadata": {
        "id": "yTkHLEipIlM9",
        "colab": {
          "base_uri": "https://localhost:8080/",
          "height": 35
        },
        "outputId": "83fffd77-1368-4135-c0dd-66d341fe6d05"
      },
      "source": [
        "classify_tweet(\"A valid explanation for why Trump won't let women on the golf course.\")"
      ],
      "execution_count": null,
      "outputs": [
        {
          "output_type": "execute_result",
          "data": {
            "application/vnd.google.colaboratory.intrinsic+json": {
              "type": "string"
            },
            "text/plain": [
              "'neutral'"
            ]
          },
          "metadata": {
            "tags": []
          },
          "execution_count": 146
        }
      ]
    },
    {
      "cell_type": "markdown",
      "metadata": {
        "id": "WVjCuKK_LVEF"
      },
      "source": [
        "## Discussion on Data Augmentation Techniques \n",
        "\n",
        "You might wonder exactly how you can augment text data. After all, you can’t really flip it horizontally as you can an image! :D \n",
        "\n",
        "In contrast to data augmentation in images, augmentation techniques on data is very specific to final product you are building. As its general usage on any type of textual data doesn't provides a significant performance boost, that's why unlike torchvision, torchtext doesn’t offer a augmentation pipeline. Due to powerful models as transformers, augmentation tecnhiques are not so preferred now-a-days. But its better to know about some techniques with text that will provide your model with a little more information for training. \n",
        "\n",
        "### Synonym Replacement\n",
        "\n",
        "First, you could replace words in the sentence with synonyms, like so:\n",
        "\n",
        "    The dog slept on the mat\n",
        "\n",
        "could become\n",
        "\n",
        "    The dog slept on the rug\n",
        "\n",
        "Aside from the dog's insistence that a rug is much softer than a mat, the meaning of the sentence hasn’t changed. But mat and rug will be mapped to different indices in the vocabulary, so the model will learn that the two sentences map to the same label, and hopefully that there’s a connection between those two words, as everything else in the sentences is the same."
      ]
    },
    {
      "cell_type": "markdown",
      "metadata": {
        "id": "T_uEfWJpL6Nq"
      },
      "source": [
        "### Random Insertion\n",
        "A random insertion technique looks at a sentence and then randomly inserts synonyms of existing non-stopwords into the sentence n times. Assuming you have a way of getting a synonym of a word and a way of eliminating stopwords (common words such as and, it, the, etc.), shown, but not implemented, in this function via get_synonyms() and get_stopwords(), an implementation of this would be as follows:\n"
      ]
    },
    {
      "cell_type": "code",
      "metadata": {
        "id": "7Alm5D7WIvAC"
      },
      "source": [
        "def random_insertion(sentence, n): \n",
        "    words = remove_stopwords(sentence) \n",
        "    for _ in range(n):\n",
        "        new_synonym = get_synonyms(random.choice(words))\n",
        "        sentence.insert(randrange(len(sentence)+1), new_synonym) \n",
        "    return sentence"
      ],
      "execution_count": null,
      "outputs": []
    },
    {
      "cell_type": "markdown",
      "metadata": {
        "id": "gqLWzwJ3Mm8h"
      },
      "source": [
        "## Random Deletion\n",
        "As the name suggests, random deletion deletes words from a sentence. Given a probability parameter p, it will go through the sentence and decide whether to delete a word or not based on that random probability. Consider of it as pixel dropouts while treating images."
      ]
    },
    {
      "cell_type": "code",
      "metadata": {
        "id": "-7Dz7JJfMqyC"
      },
      "source": [
        "def random_deletion(words, p=0.5): \n",
        "    if len(words) == 1: # return if single word\n",
        "        return words\n",
        "    remaining = list(filter(lambda x: random.uniform(0,1) > p,words)) \n",
        "    if len(remaining) == 0: # if not left, sample a random word\n",
        "        return [random.choice(words)] \n",
        "    else:\n",
        "        return remaining"
      ],
      "execution_count": null,
      "outputs": []
    },
    {
      "cell_type": "markdown",
      "metadata": {
        "id": "zOIbi5WzO5OU"
      },
      "source": [
        "### Random Swap\n",
        "The random swap augmentation takes a sentence and then swaps words within it n times, with each iteration working on the previously swapped sentence. Here we sample two random numbers based on the length of the sentence, and then just keep swapping until we hit n."
      ]
    },
    {
      "cell_type": "code",
      "metadata": {
        "id": "LnkbG15HO3Yj"
      },
      "source": [
        "def random_swap(sentence, n=5): \n",
        "    length = range(len(sentence)) \n",
        "    for _ in range(n):\n",
        "        idx1, idx2 = random.sample(length, 2)\n",
        "        sentence[idx1], sentence[idx2] = sentence[idx2], sentence[idx1] \n",
        "    return sentence"
      ],
      "execution_count": null,
      "outputs": []
    },
    {
      "cell_type": "markdown",
      "metadata": {
        "id": "599NpwfMR5Vm"
      },
      "source": [
        "For more on this please go through this [paper](https://arxiv.org/pdf/1901.11196.pdf)."
      ]
    },
    {
      "cell_type": "markdown",
      "metadata": {
        "id": "a5aeKuNCRGip"
      },
      "source": [
        "### Back Translation\n",
        "\n",
        "Another popular approach for augmenting text datasets is back translation. This involves translating a sentence from our target language into one or more other languages and then translating all of them back to the original language. We can use the Python library googletrans for this purpose. "
      ]
    },
    {
      "cell_type": "code",
      "metadata": {
        "id": "pHhNBbYrRXNy"
      },
      "source": [
        "import random\n",
        "import googletrans\n",
        "import googletrans.Translator\n",
        "\n",
        "translator = Translator()\n",
        "sentence = ['The dog slept on the rug']\n",
        "\n",
        "available_langs = list(googletrans.LANGUAGES.keys()) \n",
        "trans_lang = random.choice(available_langs) \n",
        "print(f\"Translating to {googletrans.LANGUAGES[trans_lang]}\")\n",
        "\n",
        "translations = translator.translate(sentence, dest=trans_lang) \n",
        "t_text = [t.text for t in translations]\n",
        "print(t_text)\n",
        "\n",
        "translations_en_random = translator.translate(t_text, src=trans_lang, dest='en') \n",
        "en_text = [t.text for t in translations_en_random]\n",
        "print(en_text)"
      ],
      "execution_count": null,
      "outputs": []
    }
  ]
}