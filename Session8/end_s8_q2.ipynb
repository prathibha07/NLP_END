{
  "nbformat": 4,
  "nbformat_minor": 0,
  "metadata": {
    "colab": {
      "name": "end_s8_q2",
      "provenance": [],
      "collapsed_sections": []
    },
    "kernelspec": {
      "name": "python3",
      "display_name": "Python 3"
    }
  },
  "cells": [
    {
      "cell_type": "code",
      "metadata": {
        "colab": {
          "base_uri": "https://localhost:8080/"
        },
        "id": "xOmve6rpo5um",
        "outputId": "c887dfbf-3c63-483c-86aa-f738d24f202e"
      },
      "source": [
        "# a lambda function to add and multiply two nos\r\n",
        "# A lambda function can take any number of arguments, but can only have one expression.\r\n",
        "x = lambda y : y * 10\r\n",
        "print(x(10))\r\n",
        "x = lambda a, b, c : a + b + c\r\n",
        "print(x(5, 6, 2))\r\n",
        "x = lambda a, b : a * b\r\n",
        "print(x(5, 6))\r\n"
      ],
      "execution_count": 1,
      "outputs": [
        {
          "output_type": "stream",
          "text": [
            "100\n",
            "13\n",
            "30\n"
          ],
          "name": "stdout"
        }
      ]
    },
    {
      "cell_type": "code",
      "metadata": {
        "colab": {
          "base_uri": "https://localhost:8080/"
        },
        "id": "NdUDtB6Yo9fK",
        "outputId": "c771fb9c-9840-45a9-f2e4-c87ea026f648"
      },
      "source": [
        "# arrays create\r\n",
        "shapes = [\"Circle\", \"Square\", \"Rectangle\"]\r\n",
        "#modify contents\r\n",
        "shapes[0]= \"Triangle\"\r\n",
        "#Return the number of elements in the shapes array:\r\n",
        "x = len(shapes)\r\n",
        "for x in shapes:\r\n",
        "  print(x)\r\n",
        "shapes.append(\"Hexagon\")\r\n",
        "shapes.remove(\"Triangle\")\r\n"
      ],
      "execution_count": 2,
      "outputs": [
        {
          "output_type": "stream",
          "text": [
            "Triangle\n",
            "Square\n",
            "Rectangle\n"
          ],
          "name": "stdout"
        }
      ]
    },
    {
      "cell_type": "code",
      "metadata": {
        "colab": {
          "base_uri": "https://localhost:8080/"
        },
        "id": "pCvIUrM3pJf_",
        "outputId": "9949b85c-5512-4471-a6ad-b50e68432f91"
      },
      "source": [
        "#looping through a string\r\n",
        "bus = [\"red\", \"blue\", \"green\"]\r\n",
        "for x in bus:\r\n",
        "  print(bus)\r\n",
        "for x in \"red\":\r\n",
        "  print(x)\r\n"
      ],
      "execution_count": 3,
      "outputs": [
        {
          "output_type": "stream",
          "text": [
            "['red', 'blue', 'green']\n",
            "['red', 'blue', 'green']\n",
            "['red', 'blue', 'green']\n",
            "r\n",
            "e\n",
            "d\n"
          ],
          "name": "stdout"
        }
      ]
    },
    {
      "cell_type": "code",
      "metadata": {
        "colab": {
          "base_uri": "https://localhost:8080/"
        },
        "id": "o1DHIQSEpQMD",
        "outputId": "9fc647fe-d0e4-44dd-9a26-14ce94175a8b"
      },
      "source": [
        "#nested loops print \r\n",
        "bus = [\"red\", \"blue\", \"green\"]\r\n",
        "company = [\"Toyata\", \"Ford\", \"Volvo\"]\r\n",
        "for x in bus:\r\n",
        "  for y in company:\r\n",
        "    print(x, y)"
      ],
      "execution_count": 4,
      "outputs": [
        {
          "output_type": "stream",
          "text": [
            "red Toyata\n",
            "red Ford\n",
            "red Volvo\n",
            "blue Toyata\n",
            "blue Ford\n",
            "blue Volvo\n",
            "green Toyata\n",
            "green Ford\n",
            "green Volvo\n"
          ],
          "name": "stdout"
        }
      ]
    },
    {
      "cell_type": "code",
      "metadata": {
        "colab": {
          "base_uri": "https://localhost:8080/"
        },
        "id": "JgO1X1cdpOTJ",
        "outputId": "90ec5d0e-184b-4374-bb10-20dd147a1b45"
      },
      "source": [
        "# use continue in an array to skip reading an element\r\n",
        "bus = [\"red\", \"blue\", \"green\"]\r\n",
        "for x in bus:\r\n",
        "  if x == \"blue\":\r\n",
        "    continue\r\n",
        "  print(x)"
      ],
      "execution_count": 5,
      "outputs": [
        {
          "output_type": "stream",
          "text": [
            "red\n",
            "green\n"
          ],
          "name": "stdout"
        }
      ]
    },
    {
      "cell_type": "code",
      "metadata": {
        "colab": {
          "base_uri": "https://localhost:8080/"
        },
        "id": "WV8B9LgGpUD-",
        "outputId": "eb24798f-9f64-4117-aa2d-70b4fcb7b6b0"
      },
      "source": [
        "# use while in an example\r\n",
        "i = 1\r\n",
        "while i < 6:\r\n",
        "  print(i)\r\n",
        "  i += 1\r\n"
      ],
      "execution_count": 6,
      "outputs": [
        {
          "output_type": "stream",
          "text": [
            "1\n",
            "2\n",
            "3\n",
            "4\n",
            "5\n"
          ],
          "name": "stdout"
        }
      ]
    },
    {
      "cell_type": "code",
      "metadata": {
        "id": "Lkio-PbbpWK9"
      },
      "source": [
        "# prgm to incorporate and explain casting\r\n",
        "x = int(1)   # x will be 1\r\n",
        "y = int(2.8) # y will be 2\r\n",
        "z = int(\"3\") # z will be 3\r\n",
        "x = float(1)     # x will be 1.0\r\n",
        "y = float(2.8)   # y will be 2.8\r\n",
        "z = float(\"3\")   # z will be 3.0\r\n",
        "w = float(\"4.2\") # w will be 4.2\r\n",
        "x = str(\"s1\") # x will be 's1'\r\n",
        "y = str(2)    # y will be '2'\r\n",
        "z = str(3.0)  # z will be '3.0'"
      ],
      "execution_count": 7,
      "outputs": []
    },
    {
      "cell_type": "code",
      "metadata": {
        "colab": {
          "base_uri": "https://localhost:8080/"
        },
        "id": "8NOJ-BCxmJci",
        "outputId": "091adccc-0d2f-4557-9565-3b0e226cf0b4"
      },
      "source": [
        "#return a part of the string\r\n",
        "b = \"Hello, World!\"\r\n",
        "print(b[2:5])\r\n",
        "print(b[:5])\r\n",
        "\r\n"
      ],
      "execution_count": 8,
      "outputs": [
        {
          "output_type": "stream",
          "text": [
            "llo\n",
            "Hello\n"
          ],
          "name": "stdout"
        }
      ]
    },
    {
      "cell_type": "code",
      "metadata": {
        "colab": {
          "base_uri": "https://localhost:8080/"
        },
        "id": "nJ6XfSTin_EW",
        "outputId": "ae548eb0-6f3d-4c7a-9041-fc6ce712c2db"
      },
      "source": [
        "#return a part of the string with negative indexing\r\n",
        "b = \"Hello, World!\"\r\n",
        "print(b[-5:-2])"
      ],
      "execution_count": 9,
      "outputs": [
        {
          "output_type": "stream",
          "text": [
            "orl\n"
          ],
          "name": "stdout"
        }
      ]
    },
    {
      "cell_type": "code",
      "metadata": {
        "colab": {
          "base_uri": "https://localhost:8080/"
        },
        "id": "5kKwmCA9p3A2",
        "outputId": "470d2c46-fdc4-4489-9f94-2d0e8a170a8e"
      },
      "source": [
        "# a program to demostrate a simple function \r\n",
        "def my_function():\r\n",
        "  print(\"Hamilton is a great musical\")\r\n",
        "\r\n",
        "my_function()\r\n",
        "\r\n"
      ],
      "execution_count": 10,
      "outputs": [
        {
          "output_type": "stream",
          "text": [
            "Hamilton is a great musical\n"
          ],
          "name": "stdout"
        }
      ]
    },
    {
      "cell_type": "code",
      "metadata": {
        "colab": {
          "base_uri": "https://localhost:8080/"
        },
        "id": "mtnXp-fk0Q2M",
        "outputId": "999c1978-6018-4fb8-9415-5c5f178aaed4"
      },
      "source": [
        "# function different use cases\r\n",
        "def my_function(lname):\r\n",
        "  print(lname + \" Jennifer\")\r\n",
        "\r\n",
        "my_function(\"Garner,\")\r\n",
        "my_function(\"Aniston,\")\r\n",
        "my_function(\"Lawrence,\")"
      ],
      "execution_count": 11,
      "outputs": [
        {
          "output_type": "stream",
          "text": [
            "Garner, Jennifer\n",
            "Aniston, Jennifer\n",
            "Lawrence, Jennifer\n"
          ],
          "name": "stdout"
        }
      ]
    },
    {
      "cell_type": "code",
      "metadata": {
        "id": "Q9Hf9IzP1G_C",
        "colab": {
          "base_uri": "https://localhost:8080/"
        },
        "outputId": "59e73c29-c4ed-4fa6-e764-34269334fd06"
      },
      "source": [
        "# If the number of arguments is unknown, add a * before the parameter name:\r\n",
        "\r\n",
        "def my_function(*kids):\r\n",
        "  print(\"The youngest child is \" + kids[2])\r\n",
        "\r\n",
        "my_function(\"Emil\", \"Tobias\", \"Linus\")"
      ],
      "execution_count": 12,
      "outputs": [
        {
          "output_type": "stream",
          "text": [
            "The youngest child is Linus\n"
          ],
          "name": "stdout"
        }
      ]
    },
    {
      "cell_type": "code",
      "metadata": {
        "id": "RKiAbwYe2BkQ",
        "colab": {
          "base_uri": "https://localhost:8080/"
        },
        "outputId": "82a17887-826f-4d0d-ca38-2b6245617f7f"
      },
      "source": [
        "# using dictionary to access key\r\n",
        "thisdict = {\r\n",
        "  \"brand\": \"Ford\",\r\n",
        "  \"model\": \"Mustang\",\r\n",
        "  \"year\": 1964,\r\n",
        "  \"colors\": [\"red\", \"white\", \"blue\"]\r\n",
        "}\r\n",
        "\r\n",
        "print(thisdict[\"brand\"])\r\n",
        "print(thisdict[\"colors\"])\r\n",
        "print(len(thisdict))"
      ],
      "execution_count": 13,
      "outputs": [
        {
          "output_type": "stream",
          "text": [
            "Ford\n",
            "['red', 'white', 'blue']\n",
            "4\n"
          ],
          "name": "stdout"
        }
      ]
    },
    {
      "cell_type": "code",
      "metadata": {
        "id": "1nFWZ6637G98",
        "colab": {
          "base_uri": "https://localhost:8080/"
        },
        "outputId": "ffa6ee97-a25a-410e-cca1-7f718c903418"
      },
      "source": [
        "# use a tuple to demonstrate its use\r\n",
        "thistuple = (\"apple\", \"banana\", \"cherry\", \"apple\", \"cherry\")\r\n",
        "print(thistuple)\r\n",
        "print(len(thistuple))\r\n",
        "\r\n",
        "thistuple = (\"apple\",)\r\n",
        "print(type(thistuple))\r\n",
        "\r\n",
        "#NOT a tuple\r\n",
        "thistuple = (\"apple\")\r\n",
        "print(type(thistuple))"
      ],
      "execution_count": 14,
      "outputs": [
        {
          "output_type": "stream",
          "text": [
            "('apple', 'banana', 'cherry', 'apple', 'cherry')\n",
            "5\n",
            "<class 'tuple'>\n",
            "<class 'str'>\n"
          ],
          "name": "stdout"
        }
      ]
    },
    {
      "cell_type": "code",
      "metadata": {
        "id": "NqgiumT28bTP",
        "colab": {
          "base_uri": "https://localhost:8080/"
        },
        "outputId": "406547ee-146b-4591-966b-617e5698d997"
      },
      "source": [
        "# to demonstrate a list declaration \r\n",
        "thislist = [\"apple\", \"banana\", \"cherry\"]\r\n",
        "print(len(thislist))\r\n",
        "list1 = [\"abc\", 34, True, 40, \"male\"]\r\n",
        "print(list1)"
      ],
      "execution_count": 15,
      "outputs": [
        {
          "output_type": "stream",
          "text": [
            "3\n",
            "['abc', 34, True, 40, 'male']\n"
          ],
          "name": "stdout"
        }
      ]
    },
    {
      "cell_type": "code",
      "metadata": {
        "id": "Uc8OopYG8wCr",
        "colab": {
          "base_uri": "https://localhost:8080/"
        },
        "outputId": "bfa111c9-204a-4deb-bffa-c83bf017385e"
      },
      "source": [
        "# demonstrate boolean \r\n",
        "a = 200\r\n",
        "b = 33\r\n",
        "\r\n",
        "if b > a:\r\n",
        "  print(\"b is greater than a\")\r\n",
        "else:\r\n",
        "  print(\"b is not greater than a\")\r\n",
        "\r\n",
        "print(bool(\"Hello\"))\r\n",
        "print(bool(15))"
      ],
      "execution_count": 16,
      "outputs": [
        {
          "output_type": "stream",
          "text": [
            "b is not greater than a\n",
            "True\n",
            "True\n"
          ],
          "name": "stdout"
        }
      ]
    },
    {
      "cell_type": "code",
      "metadata": {
        "id": "QfYfbbBR-TWn",
        "colab": {
          "base_uri": "https://localhost:8080/"
        },
        "outputId": "eda7ddc0-b1e0-40a1-a552-6097706f155f"
      },
      "source": [
        "# demonstrate set and length \r\n",
        "thisset = {\"apple\", \"banana\", \"cherry\", \"apple\"}\r\n",
        "print(thisset)\r\n",
        "print(len(thisset))\r\n",
        "set2 = {1, 5, 7, 9, 3}\r\n",
        "set3 = {True, False, False}\r\n",
        "print(len(set2))\r\n",
        "print(len(set3))\r\n",
        "set1 = {\"abc\", 34, True, 40, \"male\"}\r\n",
        "print(len(set1))"
      ],
      "execution_count": 17,
      "outputs": [
        {
          "output_type": "stream",
          "text": [
            "{'banana', 'cherry', 'apple'}\n",
            "3\n",
            "5\n",
            "2\n",
            "5\n"
          ],
          "name": "stdout"
        }
      ]
    },
    {
      "cell_type": "code",
      "metadata": {
        "id": "XSOFqrKlBPBt",
        "colab": {
          "base_uri": "https://localhost:8080/"
        },
        "outputId": "524c9d3f-e7eb-4a4d-c43d-b66e575ff09b"
      },
      "source": [
        "# prgm to demonstrate accessing, removing set elements\r\n",
        "thisset = {\"apple\", \"banana\", \"cherry\"}\r\n",
        "\r\n",
        "for x in thisset:\r\n",
        "  print(x)\r\n",
        "\r\n",
        "thisset = {\"apple\", \"banana\", \"cherry\"}\r\n",
        "print(\"banana\" in thisset)\r\n",
        "\r\n",
        "# add elements\r\n",
        "print(\"banana\" in thisset)\r\n",
        "\r\n",
        "mylist = [\"kiwi\", \"orange\"]\r\n",
        "thisset.update(mylist)\r\n",
        "print(thisset)\r\n",
        "\r\n",
        "# remove elements\r\n",
        "thisset.remove(\"banana\")\r\n",
        "print(thisset)"
      ],
      "execution_count": 18,
      "outputs": [
        {
          "output_type": "stream",
          "text": [
            "banana\n",
            "cherry\n",
            "apple\n",
            "True\n",
            "True\n",
            "{'apple', 'cherry', 'kiwi', 'orange', 'banana'}\n",
            "{'apple', 'cherry', 'kiwi', 'orange'}\n"
          ],
          "name": "stdout"
        }
      ]
    },
    {
      "cell_type": "code",
      "metadata": {
        "id": "5P9qg_A1DJB2",
        "colab": {
          "base_uri": "https://localhost:8080/"
        },
        "outputId": "547fa1e9-bd1b-466d-c77f-175866187d2f"
      },
      "source": [
        "# incorporate loops in a set\r\n",
        "thisset = {\"apple\", \"banana\", \"cherry\"}\r\n",
        "for x in thisset:\r\n",
        "  print(x)\r\n",
        "\r\n",
        " "
      ],
      "execution_count": 19,
      "outputs": [
        {
          "output_type": "stream",
          "text": [
            "banana\n",
            "cherry\n",
            "apple\n"
          ],
          "name": "stdout"
        }
      ]
    },
    {
      "cell_type": "code",
      "metadata": {
        "colab": {
          "base_uri": "https://localhost:8080/"
        },
        "id": "nYq-hC6_2wVE",
        "outputId": "4499cb3a-271a-49df-c281-252c607a7a15"
      },
      "source": [
        "# find the area of a square\r\n",
        "def area_square(x):\r\n",
        "  return x*x \r\n",
        "\r\n",
        "print(area_square(5))"
      ],
      "execution_count": 20,
      "outputs": [
        {
          "output_type": "stream",
          "text": [
            "25\n"
          ],
          "name": "stdout"
        }
      ]
    },
    {
      "cell_type": "code",
      "metadata": {
        "colab": {
          "base_uri": "https://localhost:8080/"
        },
        "id": "ziux02j13CH_",
        "outputId": "33f09c6b-2c6f-4398-fb1b-74eed02d8987"
      },
      "source": [
        "# multiply two numbers\r\n",
        "def multiply(*args):\r\n",
        "  print(args)\r\n",
        "\r\n",
        "print(1,2,33,7)\r\n"
      ],
      "execution_count": 21,
      "outputs": [
        {
          "output_type": "stream",
          "text": [
            "1 2 33 7\n"
          ],
          "name": "stdout"
        }
      ]
    },
    {
      "cell_type": "code",
      "metadata": {
        "colab": {
          "base_uri": "https://localhost:8080/"
        },
        "id": "FiS5bJDe4gDt",
        "outputId": "1f5120ba-7689-4e67-a959-a3751b1846f2"
      },
      "source": [
        "#define a function\r\n",
        "def func1():\r\n",
        "   print (\" I am learning Python function\")\r\n",
        "   print (\" still in func1\")\r\n",
        "   \r\n",
        "func1()\r\n"
      ],
      "execution_count": 23,
      "outputs": [
        {
          "output_type": "stream",
          "text": [
            " I am learning Python function\n",
            " still in func1\n"
          ],
          "name": "stdout"
        }
      ]
    },
    {
      "cell_type": "code",
      "metadata": {
        "colab": {
          "base_uri": "https://localhost:8080/"
        },
        "id": "8zgt1dOq5p-D",
        "outputId": "5e59198a-c773-488b-f494-f1640a3591f3"
      },
      "source": [
        "# removing specific element\r\n",
        "my_list = [12, 'Siya', 'Tiya', 14, 'Riya', 12, 'Riya']\r\n",
        "my_list.remove(12) # it will remove the element 12 at the start.\r\n",
        "print(my_list)\r\n",
        "my_list.remove('Riya') # will remove the first Riya from the list\r\n",
        "print(my_list)\r\n"
      ],
      "execution_count": 25,
      "outputs": [
        {
          "output_type": "stream",
          "text": [
            "['Siya', 'Tiya', 14, 'Riya', 12, 'Riya']\n",
            "['Siya', 'Tiya', 14, 12, 'Riya']\n"
          ],
          "name": "stdout"
        }
      ]
    },
    {
      "cell_type": "code",
      "metadata": {
        "colab": {
          "base_uri": "https://localhost:8080/",
          "height": 319
        },
        "id": "REB0Vtxw7r33",
        "outputId": "573f215f-507c-4b73-dde8-1c7ec2762a9a"
      },
      "source": [
        "# remove an element using pop()\r\n",
        "my_list = [12, 'Siya', 'Tiya', 14, 'Riya', 12, 'Riya']\r\n",
        "\r\n",
        "#By passing index as 2 to remove Tiya\r\n",
        "name = my_list.pop(2)\r\n",
        "print(name)\r\n",
        "print(my_list)\r\n",
        "\r\n",
        "#pop() method without index – returns the last element\r\n",
        "item = my_list.pop()\r\n",
        "print(item)\r\n",
        "print(my_list)\r\n",
        "\r\n",
        "#passing index out of range\r\n",
        "item = my_list.pop(15)\r\n",
        "print(item)\r\n",
        "print(my_list)"
      ],
      "execution_count": 26,
      "outputs": [
        {
          "output_type": "stream",
          "text": [
            "Tiya\n",
            "[12, 'Siya', 14, 'Riya', 12, 'Riya']\n",
            "Riya\n",
            "[12, 'Siya', 14, 'Riya', 12]\n"
          ],
          "name": "stdout"
        },
        {
          "output_type": "error",
          "ename": "IndexError",
          "evalue": "ignored",
          "traceback": [
            "\u001b[0;31m---------------------------------------------------------------------------\u001b[0m",
            "\u001b[0;31mIndexError\u001b[0m                                Traceback (most recent call last)",
            "\u001b[0;32m<ipython-input-26-3f5d10374fde>\u001b[0m in \u001b[0;36m<module>\u001b[0;34m()\u001b[0m\n\u001b[1;32m     13\u001b[0m \u001b[0;34m\u001b[0m\u001b[0m\n\u001b[1;32m     14\u001b[0m \u001b[0;31m#passing index out of range\u001b[0m\u001b[0;34m\u001b[0m\u001b[0;34m\u001b[0m\u001b[0;34m\u001b[0m\u001b[0m\n\u001b[0;32m---> 15\u001b[0;31m \u001b[0mitem\u001b[0m \u001b[0;34m=\u001b[0m \u001b[0mmy_list\u001b[0m\u001b[0;34m.\u001b[0m\u001b[0mpop\u001b[0m\u001b[0;34m(\u001b[0m\u001b[0;36m15\u001b[0m\u001b[0;34m)\u001b[0m\u001b[0;34m\u001b[0m\u001b[0;34m\u001b[0m\u001b[0m\n\u001b[0m\u001b[1;32m     16\u001b[0m \u001b[0mprint\u001b[0m\u001b[0;34m(\u001b[0m\u001b[0mitem\u001b[0m\u001b[0;34m)\u001b[0m\u001b[0;34m\u001b[0m\u001b[0;34m\u001b[0m\u001b[0m\n\u001b[1;32m     17\u001b[0m \u001b[0mprint\u001b[0m\u001b[0;34m(\u001b[0m\u001b[0mmy_list\u001b[0m\u001b[0;34m)\u001b[0m\u001b[0;34m\u001b[0m\u001b[0;34m\u001b[0m\u001b[0m\n",
            "\u001b[0;31mIndexError\u001b[0m: pop index out of range"
          ]
        }
      ]
    },
    {
      "cell_type": "code",
      "metadata": {
        "colab": {
          "base_uri": "https://localhost:8080/"
        },
        "id": "o3My63GQ7_w9",
        "outputId": "74d90070-d18a-4743-a666-a7d390f4408e"
      },
      "source": [
        "# use clear() to remove elements\r\n",
        "my_list = [12, 'Siya', 'Tiya', 14, 'Riya', 12, 'Riya']\r\n",
        "\r\n",
        "#Using clear() method\r\n",
        "element = my_list.clear()\r\n",
        "print(element)\r\n",
        "print(my_list)"
      ],
      "execution_count": 27,
      "outputs": [
        {
          "output_type": "stream",
          "text": [
            "None\n",
            "[]\n"
          ],
          "name": "stdout"
        }
      ]
    },
    {
      "cell_type": "code",
      "metadata": {
        "colab": {
          "base_uri": "https://localhost:8080/"
        },
        "id": "UTIVq8Ww9lbJ",
        "outputId": "3f42a12a-5ba8-4ac0-f6c1-02f2a29dad96"
      },
      "source": [
        "# remove single to multiple elements in a list using del()\r\n",
        "my_list = list(range(15))\r\n",
        "print(\"The Original list is \", my_list)\r\n",
        "\r\n",
        "#To remove the firstelement\r\n",
        "del my_list[0]\r\n",
        "print(\"After removing first element\", my_list)\r\n",
        "\r\n",
        "#To remove last element\r\n",
        "del my_list[-1]\r\n",
        "print(\"After removing last element\", my_list)\r\n",
        "\r\n",
        "#To remove element for given index : for example index:5\r\n",
        "del my_list[5]\r\n",
        "print(\"After removing element from index:5\", my_list)\r\n",
        "\r\n",
        "#To remove last 2 elements from the list\r\n",
        "del my_list[-2]\r\n",
        "print(\"After removing last 2 elements\", my_list)\r\n",
        "\r\n",
        "#To remove multiple elements\r\n",
        "del my_list[1:5]\r\n",
        "print(\"After removing multiple elements from start:stop index (1:5)\", my_list)\r\n",
        "\r\n",
        "#To remove multiple elements\r\n",
        "del my_list[4:]\r\n",
        "print(\"To remove elements from index 4 till the end (4:)\", my_list)"
      ],
      "execution_count": 29,
      "outputs": [
        {
          "output_type": "stream",
          "text": [
            "The Original list is  [0, 1, 2, 3, 4, 5, 6, 7, 8, 9, 10, 11, 12, 13, 14]\n",
            "After removing first element [1, 2, 3, 4, 5, 6, 7, 8, 9, 10, 11, 12, 13, 14]\n",
            "After removing last element [1, 2, 3, 4, 5, 6, 7, 8, 9, 10, 11, 12, 13]\n",
            "After removing element from index:5 [1, 2, 3, 4, 5, 7, 8, 9, 10, 11, 12, 13]\n",
            "After removing last 2 elements [1, 2, 3, 4, 5, 7, 8, 9, 10, 11, 13]\n",
            "After removing multiple elements from start:stop index (1:5) [1, 7, 8, 9, 10, 11, 13]\n",
            "To remove elements from index 4 till the end (4:) [1, 7, 8, 9]\n"
          ],
          "name": "stdout"
        }
      ]
    },
    {
      "cell_type": "code",
      "metadata": {
        "colab": {
          "base_uri": "https://localhost:8080/"
        },
        "id": "h6__uwGl9qEE",
        "outputId": "eb514f7f-b2de-445a-b390-3e9cd24606ab"
      },
      "source": [
        "# use remove , del , pop to show the difference \r\n",
        "my_list1 = ['A', 'B', 'C', 'D', 'E', 'F']\r\n",
        "print(\"The Originallist is \", my_list1)\r\n",
        "#Using remove() to remove first element\r\n",
        "my_list1.remove('A')\r\n",
        "print(\"Using remove(), the final list is \", my_list1)\r\n",
        "\r\n",
        "my_list1 = ['A', 'B', 'C', 'D', 'E', 'F']\r\n",
        "print(\"The Originallist is \", my_list1)\r\n",
        "#Using pop() to remove the first element\r\n",
        "element = my_list1.pop(0)\r\n",
        "print(\"The first element removed from my_list1 is \", element)\r\n",
        "print(\"Using pop(), the final list is \", my_list1)\r\n",
        "\r\n",
        "#Using del to remove the first element\r\n",
        "my_list2 = ['A', 'B', 'C', 'D', 'E', 'F']\r\n",
        "del my_list2[0]\r\n",
        "print(\"Using del, the final list is \", my_list2)"
      ],
      "execution_count": 30,
      "outputs": [
        {
          "output_type": "stream",
          "text": [
            "The Originallist is  ['A', 'B', 'C', 'D', 'E', 'F']\n",
            "Using remove(), the final list is  ['B', 'C', 'D', 'E', 'F']\n",
            "The Originallist is  ['A', 'B', 'C', 'D', 'E', 'F']\n",
            "The first element removed from my_list1 is  A\n",
            "Using pop(), the final list is  ['B', 'C', 'D', 'E', 'F']\n",
            "Using del, the final list is  ['B', 'C', 'D', 'E', 'F']\n"
          ],
          "name": "stdout"
        }
      ]
    },
    {
      "cell_type": "code",
      "metadata": {
        "colab": {
          "base_uri": "https://localhost:8080/"
        },
        "id": "n2leqeyU_9FM",
        "outputId": "fc536c68-3400-40da-b1fc-3442ce085b02"
      },
      "source": [
        "# removing duplicates from a list\r\n",
        "my_list = [1, 2, 3, 1, 2, 4, 5, 4 ,6, 2]\r\n",
        "print(\"List Before \", my_list)\r\n",
        "temp_list = []\r\n",
        "\r\n",
        "for i in my_list:\r\n",
        "    if i not in temp_list:\r\n",
        "        temp_list.append(i)\r\n",
        "\r\n",
        "my_list = temp_list\r\n",
        "\r\n",
        "print(\"List After removing duplicates \", my_list)"
      ],
      "execution_count": 31,
      "outputs": [
        {
          "output_type": "stream",
          "text": [
            "List Before  [1, 2, 3, 1, 2, 4, 5, 4, 6, 2]\n",
            "List After removing duplicates  [1, 2, 3, 4, 5, 6]\n"
          ],
          "name": "stdout"
        }
      ]
    },
    {
      "cell_type": "code",
      "metadata": {
        "colab": {
          "base_uri": "https://localhost:8080/"
        },
        "id": "sn8J7DdAAG_o",
        "outputId": "5f91d18f-ce92-4477-9090-0ec7463c2ac1"
      },
      "source": [
        "# removing duplicates using dictionary\r\n",
        "from collections import OrderedDict\r\n",
        "my_list = ['a','x','a','y','a','b','b','c']\r\n",
        "my_final_list = OrderedDict.fromkeys(my_list)\r\n",
        "print(list(my_final_list))"
      ],
      "execution_count": 32,
      "outputs": [
        {
          "output_type": "stream",
          "text": [
            "['a', 'x', 'y', 'b', 'c']\n"
          ],
          "name": "stdout"
        }
      ]
    },
    {
      "cell_type": "code",
      "metadata": {
        "colab": {
          "base_uri": "https://localhost:8080/"
        },
        "id": "3myp8tCkAMkQ",
        "outputId": "98977cac-d834-45a2-ca1c-e52f87d6510b"
      },
      "source": [
        "# remove duplicates using list comprehension\r\n",
        "my_list = [1,2,2,3,1,4,5,1,2,6]\r\n",
        "my_finallist = []\r\n",
        "[my_finallist.append(n) for n in my_list if n not in my_finallist] \r\n",
        "print(my_finallist)"
      ],
      "execution_count": 33,
      "outputs": [
        {
          "output_type": "stream",
          "text": [
            "[1, 2, 3, 4, 5, 6]\n"
          ],
          "name": "stdout"
        }
      ]
    },
    {
      "cell_type": "code",
      "metadata": {
        "colab": {
          "base_uri": "https://localhost:8080/"
        },
        "id": "faJJEx8XA62D",
        "outputId": "8118387d-7c94-4d63-bad3-4e4512fd0e96"
      },
      "source": [
        "# remove duplicates using enumerate() and list comprehension\r\n",
        "my_list = [1,2,2,3,1,4,5,1,2,6]\r\n",
        "my_finallist = [i for j, i in enumerate(my_list) if i not in my_list[:j]] \r\n",
        "print(list(my_finallist))"
      ],
      "execution_count": 34,
      "outputs": [
        {
          "output_type": "stream",
          "text": [
            "[1, 2, 3, 4, 5, 6]\n"
          ],
          "name": "stdout"
        }
      ]
    },
    {
      "cell_type": "code",
      "metadata": {
        "colab": {
          "base_uri": "https://localhost:8080/"
        },
        "id": "1lpequ5pEDPh",
        "outputId": "51370056-1e37-440e-b57a-b35fea8c280d"
      },
      "source": [
        "# prgm for testing abs() for an integer,  float,  complex number\r\n",
        "\r\n",
        "int_num = -25\r\n",
        "float_num = -10.50\r\n",
        "complex_num = (3+10j)\r\n",
        "\r\n",
        "\r\n",
        "print(\"The absolute value of an integer number is:\", abs(int_num))\r\n",
        "print(\"The absolute value of a float number is:\", abs(float_num))\r\n",
        "print(\"The magnitude of the complex number is:\", abs(complex_num))"
      ],
      "execution_count": 35,
      "outputs": [
        {
          "output_type": "stream",
          "text": [
            "The absolute value of an integer number is: 25\n",
            "The absolute value of a float number is: 10.5\n",
            "The magnitude of the complex number is: 10.44030650891055\n"
          ],
          "name": "stdout"
        }
      ]
    },
    {
      "cell_type": "code",
      "metadata": {
        "colab": {
          "base_uri": "https://localhost:8080/"
        },
        "id": "e8P1IeYqHaWC",
        "outputId": "80fcd23b-8ba0-46ca-b7f0-84c530399c7e"
      },
      "source": [
        "# prgm to count the element\r\n",
        "list1 = ['red', 'green', 'blue', 'orange', 'green', 'gray', 'green']\r\n",
        "color_count = list1.count('green')\r\n",
        "print('The count of color: green is ', color_count)\r\n",
        "\r\n",
        "list1 = [2,3,4,3,10,3,5,6,3]\r\n",
        "elm_count = list1.count(3)\r\n",
        "print('The count of element: 3 is ', elm_count)"
      ],
      "execution_count": 36,
      "outputs": [
        {
          "output_type": "stream",
          "text": [
            "The count of color: green is  3\n",
            "The count of element: 3 is  4\n"
          ],
          "name": "stdout"
        }
      ]
    },
    {
      "cell_type": "code",
      "metadata": {
        "colab": {
          "base_uri": "https://localhost:8080/"
        },
        "id": "VUBMcjuzJjGl",
        "outputId": "505d8ef8-2da5-4907-cb4c-c16bfea54302"
      },
      "source": [
        "# creating a dictionary to declare students in a class\r\n",
        "Dict = {'Tim': 18,'Charlie':12,'Tiffany':22,'Robert':25}\t\r\n",
        "Boys = {'Tim': 18,'Charlie':12,'Robert':25}\r\n",
        "Girls = {'Tiffany':22}\t\r\n",
        "studentX=Boys.copy()\r\n",
        "studentY=Girls.copy()\r\n",
        "print(studentX)\r\n",
        "print(studentY)\r\n",
        "Dict.update({\"Sarah\":9})\r\n",
        "print(Dict)"
      ],
      "execution_count": 39,
      "outputs": [
        {
          "output_type": "stream",
          "text": [
            "{'Tim': 18, 'Charlie': 12, 'Robert': 25}\n",
            "{'Tiffany': 22}\n",
            "{'Tim': 18, 'Charlie': 12, 'Tiffany': 22, 'Robert': 25, 'Sarah': 9}\n"
          ],
          "name": "stdout"
        }
      ]
    },
    {
      "cell_type": "code",
      "metadata": {
        "colab": {
          "base_uri": "https://localhost:8080/"
        },
        "id": "Lb7tQ37ZJ0_1",
        "outputId": "9e4e4dd7-38ea-49d4-aa2c-64407bb6f048"
      },
      "source": [
        "# return a tuple pair from a dictionary and check if a given key value exists in a dict\r\n",
        "Dict = {'Tim': 18,'Charlie':12,'Tiffany':22,'Robert':25}\t\r\n",
        "print (\"Students Name: %s\" % Dict.items())\r\n",
        "\r\n",
        "Boys = {'Tim': 18,'Charlie':12,'Robert':25}\r\n",
        "Girls = {'Tiffany':22}\r\n",
        "for key in Dict.keys():\r\n",
        "    if key in Boys.keys():\r\n",
        "        print(True)\r\n",
        "    else:       \r\n",
        "        print(False)"
      ],
      "execution_count": 41,
      "outputs": [
        {
          "output_type": "stream",
          "text": [
            "Students Name: dict_items([('Tim', 18), ('Charlie', 12), ('Tiffany', 22), ('Robert', 25)])\n",
            "True\n",
            "True\n",
            "False\n",
            "True\n"
          ],
          "name": "stdout"
        }
      ]
    },
    {
      "cell_type": "code",
      "metadata": {
        "colab": {
          "base_uri": "https://localhost:8080/"
        },
        "id": "o__HTghXL2TK",
        "outputId": "74161c47-3228-4b68-a593-9806183642e1"
      },
      "source": [
        "# sorting the dictionary\r\n",
        "\r\n",
        "Dict = {'Tim': 18,'Charlie':12,'Tiffany':22,'Robert':25}\r\n",
        "Boys = {'Tim': 18,'Charlie':12,'Robert':25}\r\n",
        "Girls = {'Tiffany':22}\r\n",
        "Students = list(Dict.keys())\r\n",
        "Students.sort()\r\n",
        "for S in Students:\r\n",
        "      print(\":\".join((S,str(Dict[S]))))\r\n"
      ],
      "execution_count": 42,
      "outputs": [
        {
          "output_type": "stream",
          "text": [
            "Charlie:12\n",
            "Robert:25\n",
            "Tiffany:22\n",
            "Tim:18\n"
          ],
          "name": "stdout"
        }
      ]
    },
    {
      "cell_type": "code",
      "metadata": {
        "id": "mAoglJjGMF1n"
      },
      "source": [
        "# compare values of 2 dictionary using cmp()\r\n",
        "Boys = {'Tim': 18,'Charlie':12,'Robert':25}\r\n",
        "Girls = {'Tiffany':22}\t\r\n",
        "print(cmp(Girls, Boys))  # cmp is notsupported in Python 3"
      ],
      "execution_count": null,
      "outputs": []
    },
    {
      "cell_type": "code",
      "metadata": {
        "colab": {
          "base_uri": "https://localhost:8080/"
        },
        "id": "BGJ8mYprMQtF",
        "outputId": "7322ade2-2709-4f14-e0e6-f1602d743ab5"
      },
      "source": [
        "# prgm to make a dictionary into a printable string format\r\n",
        "Dict = {'Tim': 18,'Charlie':12,'Tiffany':22,'Robert':25}\t\r\n",
        "print(\"printable string:%s\" % str (Dict))"
      ],
      "execution_count": 46,
      "outputs": [
        {
          "output_type": "stream",
          "text": [
            "printable string:{'Tim': 18, 'Charlie': 12, 'Tiffany': 22, 'Robert': 25}\n"
          ],
          "name": "stdout"
        }
      ]
    },
    {
      "cell_type": "code",
      "metadata": {
        "colab": {
          "base_uri": "https://localhost:8080/"
        },
        "id": "zm3pUANAMZgs",
        "outputId": "50fc53cd-4b7a-4a80-8894-85a00c93c336"
      },
      "source": [
        "# prgm to merge dictionary\r\n",
        "my_dict1 = {\"username\": \"XYZ\", \"email\": \"xyz@gmail.com\", \"location\":\"Mumbai\"}\r\n",
        "my_dict2 = {\"firstName\" : \"Nick\", \"lastName\": \"Price\"}\r\n",
        "\r\n",
        "my_dict1.update(my_dict2)\r\n",
        "print(my_dict1)"
      ],
      "execution_count": 47,
      "outputs": [
        {
          "output_type": "stream",
          "text": [
            "{'username': 'XYZ', 'email': 'xyz@gmail.com', 'location': 'Mumbai', 'firstName': 'Nick', 'lastName': 'Price'}\n"
          ],
          "name": "stdout"
        }
      ]
    },
    {
      "cell_type": "code",
      "metadata": {
        "colab": {
          "base_uri": "https://localhost:8080/"
        },
        "id": "IyvyurTGMmSi",
        "outputId": "555b7679-2309-4666-8fb0-40aa74917904"
      },
      "source": [
        "# merging dict using **kwargs method\r\n",
        "my_dict1 = {\"username\": \"XYZ\", \"email\": \"xyz@gmail.com\", \"location\":\"Mumbai\"}\r\n",
        "my_dict2 = {\"firstName\" : \"Nick\", \"lastName\": \"Price\"}\r\n",
        "my_dict =  {**my_dict1, **my_dict2} \r\n",
        "print(my_dict)"
      ],
      "execution_count": 48,
      "outputs": [
        {
          "output_type": "stream",
          "text": [
            "{'username': 'XYZ', 'email': 'xyz@gmail.com', 'location': 'Mumbai', 'firstName': 'Nick', 'lastName': 'Price'}\n"
          ],
          "name": "stdout"
        }
      ]
    },
    {
      "cell_type": "code",
      "metadata": {
        "colab": {
          "base_uri": "https://localhost:8080/"
        },
        "id": "0gEFFgdgNnId",
        "outputId": "1c47eb39-c928-4e54-eff3-c4d41c6cbd34"
      },
      "source": [
        "#to test if an element is in the dictionary\r\n",
        "my_dict = {\"username\": \"XYZ\", \"email\": \"xyz@gmail.com\", \"location\":\"Mumbai\"}\r\n",
        "print(\"email\" in my_dict)\r\n",
        "print(\"location\" in my_dict)\r\n",
        "print(\"test\" in my_dict)"
      ],
      "execution_count": 49,
      "outputs": [
        {
          "output_type": "stream",
          "text": [
            "True\n",
            "True\n",
            "False\n"
          ],
          "name": "stdout"
        }
      ]
    },
    {
      "cell_type": "code",
      "metadata": {
        "colab": {
          "base_uri": "https://localhost:8080/"
        },
        "id": "Q2I_jmFWP4QV",
        "outputId": "3b5ce173-d831-42f9-b706-70c909f10fd7"
      },
      "source": [
        "# using range to display continous numbers\r\n",
        "for i in range(10):\r\n",
        "    print(i, end =\" \")\r\n"
      ],
      "execution_count": 50,
      "outputs": [
        {
          "output_type": "stream",
          "text": [
            "0 1 2 3 4 5 6 7 8 9 "
          ],
          "name": "stdout"
        }
      ]
    },
    {
      "cell_type": "code",
      "metadata": {
        "colab": {
          "base_uri": "https://localhost:8080/"
        },
        "id": "5C3qEDGDQeHt",
        "outputId": "fc2c91fe-9f7f-4535-9765-e555769adb10"
      },
      "source": [
        "# prgm to skip btwn numbers\r\n",
        "# using start , stop and step in the range \r\n",
        "for i in range(3, 10, 2):\r\n",
        "    print(i, end =\" \")"
      ],
      "execution_count": 52,
      "outputs": [
        {
          "output_type": "stream",
          "text": [
            "3 5 7 9 "
          ],
          "name": "stdout"
        }
      ]
    },
    {
      "cell_type": "code",
      "metadata": {
        "colab": {
          "base_uri": "https://localhost:8080/"
        },
        "id": "nc82UOMeQsaC",
        "outputId": "bcb90a72-b368-4cd9-e1c6-d9a15aad3b74"
      },
      "source": [
        "# reverse range- decrement the value using neg steps\r\n",
        "for i in range(15, 5, -1):\r\n",
        "    print(i, end =\" \")"
      ],
      "execution_count": 53,
      "outputs": [
        {
          "output_type": "stream",
          "text": [
            "15 14 13 12 11 10 9 8 7 6 "
          ],
          "name": "stdout"
        }
      ]
    },
    {
      "cell_type": "code",
      "metadata": {
        "colab": {
          "base_uri": "https://localhost:8080/"
        },
        "id": "n9AE7kVKQ9XP",
        "outputId": "1da30b6b-24d2-4e91-f451-a5ee22f993c8"
      },
      "source": [
        "# print array using for loop\r\n",
        "arr_list = ['Mysql', 'Mongodb', 'PostgreSQL', 'Firebase']\r\n",
        "\r\n",
        "for i in range(len(arr_list)):\r\n",
        "    print(arr_list[i], end =\" \")"
      ],
      "execution_count": 54,
      "outputs": [
        {
          "output_type": "stream",
          "text": [
            "Mysql Mongodb PostgreSQL Firebase "
          ],
          "name": "stdout"
        }
      ]
    },
    {
      "cell_type": "code",
      "metadata": {
        "colab": {
          "base_uri": "https://localhost:8080/"
        },
        "id": "6sp6DOABSd6C",
        "outputId": "b25425a7-e349-4e19-b84f-01555a97a489"
      },
      "source": [
        "# creat a list using range()\r\n",
        "print(list(range(10)))"
      ],
      "execution_count": 55,
      "outputs": [
        {
          "output_type": "stream",
          "text": [
            "[0, 1, 2, 3, 4, 5, 6, 7, 8, 9]\n"
          ],
          "name": "stdout"
        }
      ]
    },
    {
      "cell_type": "code",
      "metadata": {
        "colab": {
          "base_uri": "https://localhost:8080/"
        },
        "id": "bR7VMHQ-SorX",
        "outputId": "1cb4f0d2-d333-4ee9-ed17-afb608849d71"
      },
      "source": [
        "# creat a list of alphabets\r\n",
        "def get_alphabets(startletter, stopletter, step):\r\n",
        "    for c in range(ord(startletter.lower()), ord(stopletter.lower()), step):\r\n",
        "        yield chr(c)\r\n",
        "\r\n",
        "print(list(get_alphabets(\"a\", \"h\", 1)))"
      ],
      "execution_count": 56,
      "outputs": [
        {
          "output_type": "stream",
          "text": [
            "['a', 'b', 'c', 'd', 'e', 'f', 'g']\n"
          ],
          "name": "stdout"
        }
      ]
    },
    {
      "cell_type": "code",
      "metadata": {
        "colab": {
          "base_uri": "https://localhost:8080/"
        },
        "id": "QqJhsdFmSvl5",
        "outputId": "96d6f7c3-5254-46a7-c49f-f99072f68ef0"
      },
      "source": [
        "# prgm to access the range elements \r\n",
        "startvalue = range(5)[0] \r\n",
        "print(\"The first element in range is = \", startvalue) \r\n",
        "\r\n",
        "secondvalue = range(5)[1] \r\n",
        "print(\"The second element in range is = \", secondvalue) \r\n",
        "\r\n",
        "lastvalue = range(5)[-1]\r\n",
        "print(\"The first element in range is = \", lastvalue)"
      ],
      "execution_count": 57,
      "outputs": [
        {
          "output_type": "stream",
          "text": [
            "The first element in range is =  0\n",
            "The second element in range is =  1\n",
            "The first element in range is =  4\n"
          ],
          "name": "stdout"
        }
      ]
    },
    {
      "cell_type": "code",
      "metadata": {
        "colab": {
          "base_uri": "https://localhost:8080/"
        },
        "id": "hyfPIFxlTUcY",
        "outputId": "4c02f610-59b3-4754-a26f-b02fb02d6f13"
      },
      "source": [
        "# prgm to get even nos. using range\r\n",
        "for i in range(2, 20, 2):\r\n",
        "    print(i, end =\" \")"
      ],
      "execution_count": 58,
      "outputs": [
        {
          "output_type": "stream",
          "text": [
            "2 4 6 8 10 12 14 16 18 "
          ],
          "name": "stdout"
        }
      ]
    },
    {
      "cell_type": "code",
      "metadata": {
        "colab": {
          "base_uri": "https://localhost:8080/"
        },
        "id": "4VBHD77EThwz",
        "outputId": "e2b71e2a-d16f-401b-a627-babc9cbbb240"
      },
      "source": [
        "# merge 2  range outputs \r\n",
        "from itertools import chain \r\n",
        "\r\n",
        "print(\"Merging two range into one\") \r\n",
        "frange =chain(range(10), range(10, 20, 1))\r\n",
        "for i in frange: \r\n",
        "    print(i, end=\" \")"
      ],
      "execution_count": 59,
      "outputs": [
        {
          "output_type": "stream",
          "text": [
            "Merging two range into one\n",
            "0 1 2 3 4 5 6 7 8 9 10 11 12 13 14 15 16 17 18 19 "
          ],
          "name": "stdout"
        }
      ]
    },
    {
      "cell_type": "code",
      "metadata": {
        "colab": {
          "base_uri": "https://localhost:8080/"
        },
        "id": "wjShn5bjUcXG",
        "outputId": "37e8529c-d243-4036-92ff-5f915e105b91"
      },
      "source": [
        "# prgm to find a particular word in a list \r\n",
        "mystring = \"Hamilton is a wonderful musical!\"\r\n",
        "print(\"The position of wonderful is at:\", mystring.find(\"wonderful\"))"
      ],
      "execution_count": 60,
      "outputs": [
        {
          "output_type": "stream",
          "text": [
            "The position of wonderful is at: 14\n"
          ],
          "name": "stdout"
        }
      ]
    },
    {
      "cell_type": "code",
      "metadata": {
        "colab": {
          "base_uri": "https://localhost:8080/"
        },
        "id": "gE_LwFZSU4hY",
        "outputId": "461a3b1d-9336-4845-83bf-326747b6b910"
      },
      "source": [
        "# to find the position of a given substring in a string using find()\r\n",
        "mystring = \"Hamilton is a wonderful musical\"\r\n",
        "print(\"The position of wonderful site is at:\", mystring.find(\"wonderful\", 2, 5))\r\n",
        "print(\"The position of Hamilton is at:\", mystring.find(\"Hamilton\", 10))"
      ],
      "execution_count": 61,
      "outputs": [
        {
          "output_type": "stream",
          "text": [
            "The position of wonderful site is at: -1\n",
            "The position of Hamilton is at: -1\n"
          ],
          "name": "stdout"
        }
      ]
    },
    {
      "cell_type": "code",
      "metadata": {
        "colab": {
          "base_uri": "https://localhost:8080/"
        },
        "id": "c3ERR-eTVKpp",
        "outputId": "4fe800b9-9ff4-45c8-c0cf-bb5065ec6e1c"
      },
      "source": [
        "# To find the total occurrence of a substring\r\n",
        "my_string = \"test string test, test string testing, test string test string\"\r\n",
        "startIndex = 0\r\n",
        "count = 0\r\n",
        "for i in range(len(my_string)):\r\n",
        "    k = my_string.find('test', startIndex)\r\n",
        "    if(k != -1):\r\n",
        "        startIndex = k+1\r\n",
        "        count += 1\r\n",
        "        k = 0\r\n",
        "\r\n",
        "print(\"The total count of substring test is: \", count )"
      ],
      "execution_count": 62,
      "outputs": [
        {
          "output_type": "stream",
          "text": [
            "The total count of substring test is:  6\n"
          ],
          "name": "stdout"
        }
      ]
    },
    {
      "cell_type": "code",
      "metadata": {
        "colab": {
          "base_uri": "https://localhost:8080/"
        },
        "id": "ZNB8BBDXXvZk",
        "outputId": "68ce9430-2f34-48d4-9895-ea784ee60e6d"
      },
      "source": [
        "# to find substring\r\n",
        "mystring = \"Hamilton is a wonderful musical!\"\r\n",
        "print(\"The position of musicals is at:\", mystring.find(\"musicals\"))"
      ],
      "execution_count": 64,
      "outputs": [
        {
          "output_type": "stream",
          "text": [
            "The position of musicals is at: -1\n"
          ],
          "name": "stdout"
        }
      ]
    },
    {
      "cell_type": "code",
      "metadata": {
        "colab": {
          "base_uri": "https://localhost:8080/"
        },
        "id": "FEQfM1s0X4hb",
        "outputId": "6ce80c15-a1f9-40dd-d8e7-0abf1b204d03"
      },
      "source": [
        "# append an element to the dictionary\r\n",
        "my_dict = {\"Name\":[],\"Address\":[],\"Age\":[]};\r\n",
        "\r\n",
        "my_dict[\"Name\"].append(\"Guru\")\r\n",
        "my_dict[\"Address\"].append(\"Mumbai\")\r\n",
        "my_dict[\"Age\"].append(30)\t\r\n",
        "print(my_dict)"
      ],
      "execution_count": 65,
      "outputs": [
        {
          "output_type": "stream",
          "text": [
            "{'Name': ['Guru'], 'Address': ['Mumbai'], 'Age': [30]}\n"
          ],
          "name": "stdout"
        }
      ]
    },
    {
      "cell_type": "code",
      "metadata": {
        "colab": {
          "base_uri": "https://localhost:8080/"
        },
        "id": "Gtp3J8v4a93R",
        "outputId": "7cda918a-4993-4112-9bfc-7c802e28b39d"
      },
      "source": [
        "my_dict = {\"username\": \"XYZ\", \"email\": \"xyz@gmail.com\", \"location\":\"Mumbai\"}\r\n",
        "print(\"username :\", my_dict['username'])\r\n",
        "print(\"email : \", my_dict[\"email\"])\r\n",
        "print(\"location : \", my_dict[\"location\"])"
      ],
      "execution_count": 66,
      "outputs": [
        {
          "output_type": "stream",
          "text": [
            "username : XYZ\n",
            "email :  xyz@gmail.com\n",
            "location :  Mumbai\n"
          ],
          "name": "stdout"
        }
      ]
    },
    {
      "cell_type": "code",
      "metadata": {
        "colab": {
          "base_uri": "https://localhost:8080/"
        },
        "id": "t6UOC_cjbDzu",
        "outputId": "10e69800-5a7d-473d-bb3c-b05ea220dd3f"
      },
      "source": [
        "# deleting elements in dictionary\r\n",
        "my_dict = {\"username\": \"XYZ\", \"email\": \"xyz@gmail.com\", \"location\":\"Mumbai\"}\r\n",
        "del my_dict['username']  # it will remove \"username\": \"XYZ\" from my_dict\r\n",
        "print(my_dict)\r\n",
        "my_dict.clear()  # till will make the dictionarymy_dictempty\r\n",
        "print(my_dict)"
      ],
      "execution_count": 67,
      "outputs": [
        {
          "output_type": "stream",
          "text": [
            "{'email': 'xyz@gmail.com', 'location': 'Mumbai'}\n",
            "{}\n"
          ],
          "name": "stdout"
        }
      ]
    },
    {
      "cell_type": "code",
      "metadata": {
        "colab": {
          "base_uri": "https://localhost:8080/"
        },
        "id": "XbJMQOU0bRJl",
        "outputId": "4a05607d-b411-4f1a-8ae7-5384e98951e8"
      },
      "source": [
        "# updating existing elemetns in a dictionary\r\n",
        "my_dict = {\"username\": \"XYZ\", \"email\": \"xyz@gmail.com\", \"location\":\"Mumbai\"}\r\n",
        "my_dict[\"username\"] = \"ABC\"\r\n",
        "print(my_dict)"
      ],
      "execution_count": 68,
      "outputs": [
        {
          "output_type": "stream",
          "text": [
            "{'username': 'ABC', 'email': 'xyz@gmail.com', 'location': 'Mumbai'}\n"
          ],
          "name": "stdout"
        }
      ]
    },
    {
      "cell_type": "code",
      "metadata": {
        "colab": {
          "base_uri": "https://localhost:8080/"
        },
        "id": "-uVwAmWPcRDP",
        "outputId": "3cbb9215-bd75-499f-c687-3b96f24086fc"
      },
      "source": [
        "# insert a dictionary into another dictionary\r\n",
        "my_dict = {\"username\": \"XYZ\", \"email\": \"xyz@gmail.com\", \"location\":\"Washington\"}\r\n",
        "my_dict1 = {\"firstName\" : \"Nick\", \"lastName\": \"Price\"}\r\n",
        "my_dict[\"name\"] = my_dict1\r\n",
        "\r\n",
        "print(my_dict)"
      ],
      "execution_count": 69,
      "outputs": [
        {
          "output_type": "stream",
          "text": [
            "{'username': 'XYZ', 'email': 'xyz@gmail.com', 'location': 'Washington', 'name': {'firstName': 'Nick', 'lastName': 'Price'}}\n"
          ],
          "name": "stdout"
        }
      ]
    },
    {
      "cell_type": "code",
      "metadata": {
        "colab": {
          "base_uri": "https://localhost:8080/"
        },
        "id": "VvqCMUHocbar",
        "outputId": "e2bc5392-30b5-4e64-f8ae-17104e3dcd46"
      },
      "source": [
        "# testing roundoff and decimals behaviour\r\n",
        "import random\r\n",
        "\r\n",
        "def truncate(num):\r\n",
        "    return int(num * 1000) / 1000\r\n",
        "\r\n",
        "arr = [random.uniform(0.01, 0.05) for _ in range(1000000)]\r\n",
        "sum_num = 0\r\n",
        "sum_truncate = 0\r\n",
        "for i in arr:\r\n",
        "    sum_num = sum_num + i        \r\n",
        "    sum_truncate = truncate(sum_truncate + i)\r\n",
        "    \r\n",
        "print(\"Testing by using truncating upto 3 decimal places\")\r\n",
        "print(\"The original sum is = \", sum_num)\r\n",
        "print(\"The total using truncate = \", sum_truncate)\r\n",
        "print(\"The difference from original - truncate = \", sum_num - sum_truncate)\r\n",
        "\r\n",
        "print(\"\\n\\n\")\r\n",
        "print(\"Testing by using round() upto 3 decimal places\")\r\n",
        "sum_num1 = 0\r\n",
        "sum_truncate1 = 0\r\n",
        "for i in arr:\r\n",
        "    sum_num1 = sum_num1 + i        \r\n",
        "    sum_truncate1 = round(sum_truncate1 + i, 3)\r\n",
        "\r\n",
        "\r\n",
        "print(\"The original sum is =\", sum_num1)\r\n",
        "print(\"The total using round = \", sum_truncate1)\r\n",
        "print(\"The difference from original - round =\", sum_num1 - sum_truncate1)"
      ],
      "execution_count": 70,
      "outputs": [
        {
          "output_type": "stream",
          "text": [
            "Testing by using truncating upto 3 decimal places\n",
            "The original sum is =  29991.932049556686\n",
            "The total using truncate =  29492.015\n",
            "The difference from original - truncate =  499.91704955668683\n",
            "\n",
            "\n",
            "\n",
            "Testing by using round() upto 3 decimal places\n",
            "The original sum is = 29991.932049556686\n",
            "The total using round =  29991.886\n",
            "The difference from original - round = 0.046049556687648874\n"
          ],
          "name": "stdout"
        }
      ]
    },
    {
      "cell_type": "code",
      "metadata": {
        "colab": {
          "base_uri": "https://localhost:8080/"
        },
        "id": "U7l2lpdodc2m",
        "outputId": "7e8e7946-fef1-4c0b-da75-476df21d50a3"
      },
      "source": [
        "# to format a calendar \r\n",
        "\r\n",
        "import calendar\r\n",
        "# Create a plain text calendar\r\n",
        "c = calendar.TextCalendar(calendar.THURSDAY)\r\n",
        "str = c.formatmonth(2025, 1, 0, 0)\r\n",
        "print(str)\r\n",
        "\r\n",
        "# Create an HTML formatted calendar\r\n",
        "hc = calendar.HTMLCalendar(calendar.THURSDAY)\r\n",
        "str = hc.formatmonth(2025, 1)\r\n",
        "print(str)\r\n",
        "# loop over the days of a month\r\n",
        "# zeroes indicate that the day of the week is in a next month or overlapping month\r\n",
        "for i in c.itermonthdays(2025, 4):\r\n",
        "    print(i)\r\n",
        "\r\n",
        "    # The calendar can give info based on local such a names of days and months (full and abbreviated forms)\r\n",
        "    for name in calendar.month_name:\r\n",
        "        print(name)\r\n",
        "    for day in calendar.day_name:\r\n",
        "        print(day)\r\n",
        "    # calculate days based on a rule: For instance an audit day on the second Monday of every month\r\n",
        "    # Figure out what days that would be for each month, we can use the script as shown here\r\n",
        "    for month in range(1, 13):\r\n",
        "\t\t# It retrieves a list of weeks that represent the month\r\n",
        "        mycal = calendar.monthcalendar(2025, month)\r\n",
        "\t\t# The first MONDAY has to be within the first two weeks\r\n",
        "        week1 = mycal[0]\r\n",
        "        week2 = mycal[1]\r\n",
        "        if week1[calendar.MONDAY] != 0:\r\n",
        "            auditday = week1[calendar.MONDAY]\r\n",
        "        else:\r\n",
        "        # if the first MONDAY isn't in the first week, it must be in the second week\r\n",
        "        \tauditday = week2[calendar.MONDAY]\r\n",
        "print(\"%10s %2d\" % (calendar.month_name[month], auditday))"
      ],
      "execution_count": 71,
      "outputs": [
        {
          "output_type": "stream",
          "text": [
            "    January 2025\n",
            "Th Fr Sa Su Mo Tu We\n",
            "                   1\n",
            " 2  3  4  5  6  7  8\n",
            " 9 10 11 12 13 14 15\n",
            "16 17 18 19 20 21 22\n",
            "23 24 25 26 27 28 29\n",
            "30 31\n",
            "\n",
            "<table border=\"0\" cellpadding=\"0\" cellspacing=\"0\" class=\"month\">\n",
            "<tr><th colspan=\"7\" class=\"month\">January 2025</th></tr>\n",
            "<tr><th class=\"thu\">Thu</th><th class=\"fri\">Fri</th><th class=\"sat\">Sat</th><th class=\"sun\">Sun</th><th class=\"mon\">Mon</th><th class=\"tue\">Tue</th><th class=\"wed\">Wed</th></tr>\n",
            "<tr><td class=\"noday\">&nbsp;</td><td class=\"noday\">&nbsp;</td><td class=\"noday\">&nbsp;</td><td class=\"noday\">&nbsp;</td><td class=\"noday\">&nbsp;</td><td class=\"noday\">&nbsp;</td><td class=\"wed\">1</td></tr>\n",
            "<tr><td class=\"thu\">2</td><td class=\"fri\">3</td><td class=\"sat\">4</td><td class=\"sun\">5</td><td class=\"mon\">6</td><td class=\"tue\">7</td><td class=\"wed\">8</td></tr>\n",
            "<tr><td class=\"thu\">9</td><td class=\"fri\">10</td><td class=\"sat\">11</td><td class=\"sun\">12</td><td class=\"mon\">13</td><td class=\"tue\">14</td><td class=\"wed\">15</td></tr>\n",
            "<tr><td class=\"thu\">16</td><td class=\"fri\">17</td><td class=\"sat\">18</td><td class=\"sun\">19</td><td class=\"mon\">20</td><td class=\"tue\">21</td><td class=\"wed\">22</td></tr>\n",
            "<tr><td class=\"thu\">23</td><td class=\"fri\">24</td><td class=\"sat\">25</td><td class=\"sun\">26</td><td class=\"mon\">27</td><td class=\"tue\">28</td><td class=\"wed\">29</td></tr>\n",
            "<tr><td class=\"thu\">30</td><td class=\"fri\">31</td><td class=\"noday\">&nbsp;</td><td class=\"noday\">&nbsp;</td><td class=\"noday\">&nbsp;</td><td class=\"noday\">&nbsp;</td><td class=\"noday\">&nbsp;</td></tr>\n",
            "</table>\n",
            "\n",
            "0\n",
            "\n",
            "January\n",
            "February\n",
            "March\n",
            "April\n",
            "May\n",
            "June\n",
            "July\n",
            "August\n",
            "September\n",
            "October\n",
            "November\n",
            "December\n",
            "Monday\n",
            "Tuesday\n",
            "Wednesday\n",
            "Thursday\n",
            "Friday\n",
            "Saturday\n",
            "Sunday\n",
            "0\n",
            "\n",
            "January\n",
            "February\n",
            "March\n",
            "April\n",
            "May\n",
            "June\n",
            "July\n",
            "August\n",
            "September\n",
            "October\n",
            "November\n",
            "December\n",
            "Monday\n",
            "Tuesday\n",
            "Wednesday\n",
            "Thursday\n",
            "Friday\n",
            "Saturday\n",
            "Sunday\n",
            "0\n",
            "\n",
            "January\n",
            "February\n",
            "March\n",
            "April\n",
            "May\n",
            "June\n",
            "July\n",
            "August\n",
            "September\n",
            "October\n",
            "November\n",
            "December\n",
            "Monday\n",
            "Tuesday\n",
            "Wednesday\n",
            "Thursday\n",
            "Friday\n",
            "Saturday\n",
            "Sunday\n",
            "0\n",
            "\n",
            "January\n",
            "February\n",
            "March\n",
            "April\n",
            "May\n",
            "June\n",
            "July\n",
            "August\n",
            "September\n",
            "October\n",
            "November\n",
            "December\n",
            "Monday\n",
            "Tuesday\n",
            "Wednesday\n",
            "Thursday\n",
            "Friday\n",
            "Saturday\n",
            "Sunday\n",
            "0\n",
            "\n",
            "January\n",
            "February\n",
            "March\n",
            "April\n",
            "May\n",
            "June\n",
            "July\n",
            "August\n",
            "September\n",
            "October\n",
            "November\n",
            "December\n",
            "Monday\n",
            "Tuesday\n",
            "Wednesday\n",
            "Thursday\n",
            "Friday\n",
            "Saturday\n",
            "Sunday\n",
            "1\n",
            "\n",
            "January\n",
            "February\n",
            "March\n",
            "April\n",
            "May\n",
            "June\n",
            "July\n",
            "August\n",
            "September\n",
            "October\n",
            "November\n",
            "December\n",
            "Monday\n",
            "Tuesday\n",
            "Wednesday\n",
            "Thursday\n",
            "Friday\n",
            "Saturday\n",
            "Sunday\n",
            "2\n",
            "\n",
            "January\n",
            "February\n",
            "March\n",
            "April\n",
            "May\n",
            "June\n",
            "July\n",
            "August\n",
            "September\n",
            "October\n",
            "November\n",
            "December\n",
            "Monday\n",
            "Tuesday\n",
            "Wednesday\n",
            "Thursday\n",
            "Friday\n",
            "Saturday\n",
            "Sunday\n",
            "3\n",
            "\n",
            "January\n",
            "February\n",
            "March\n",
            "April\n",
            "May\n",
            "June\n",
            "July\n",
            "August\n",
            "September\n",
            "October\n",
            "November\n",
            "December\n",
            "Monday\n",
            "Tuesday\n",
            "Wednesday\n",
            "Thursday\n",
            "Friday\n",
            "Saturday\n",
            "Sunday\n",
            "4\n",
            "\n",
            "January\n",
            "February\n",
            "March\n",
            "April\n",
            "May\n",
            "June\n",
            "July\n",
            "August\n",
            "September\n",
            "October\n",
            "November\n",
            "December\n",
            "Monday\n",
            "Tuesday\n",
            "Wednesday\n",
            "Thursday\n",
            "Friday\n",
            "Saturday\n",
            "Sunday\n",
            "5\n",
            "\n",
            "January\n",
            "February\n",
            "March\n",
            "April\n",
            "May\n",
            "June\n",
            "July\n",
            "August\n",
            "September\n",
            "October\n",
            "November\n",
            "December\n",
            "Monday\n",
            "Tuesday\n",
            "Wednesday\n",
            "Thursday\n",
            "Friday\n",
            "Saturday\n",
            "Sunday\n",
            "6\n",
            "\n",
            "January\n",
            "February\n",
            "March\n",
            "April\n",
            "May\n",
            "June\n",
            "July\n",
            "August\n",
            "September\n",
            "October\n",
            "November\n",
            "December\n",
            "Monday\n",
            "Tuesday\n",
            "Wednesday\n",
            "Thursday\n",
            "Friday\n",
            "Saturday\n",
            "Sunday\n",
            "7\n",
            "\n",
            "January\n",
            "February\n",
            "March\n",
            "April\n",
            "May\n",
            "June\n",
            "July\n",
            "August\n",
            "September\n",
            "October\n",
            "November\n",
            "December\n",
            "Monday\n",
            "Tuesday\n",
            "Wednesday\n",
            "Thursday\n",
            "Friday\n",
            "Saturday\n",
            "Sunday\n",
            "8\n",
            "\n",
            "January\n",
            "February\n",
            "March\n",
            "April\n",
            "May\n",
            "June\n",
            "July\n",
            "August\n",
            "September\n",
            "October\n",
            "November\n",
            "December\n",
            "Monday\n",
            "Tuesday\n",
            "Wednesday\n",
            "Thursday\n",
            "Friday\n",
            "Saturday\n",
            "Sunday\n",
            "9\n",
            "\n",
            "January\n",
            "February\n",
            "March\n",
            "April\n",
            "May\n",
            "June\n",
            "July\n",
            "August\n",
            "September\n",
            "October\n",
            "November\n",
            "December\n",
            "Monday\n",
            "Tuesday\n",
            "Wednesday\n",
            "Thursday\n",
            "Friday\n",
            "Saturday\n",
            "Sunday\n",
            "10\n",
            "\n",
            "January\n",
            "February\n",
            "March\n",
            "April\n",
            "May\n",
            "June\n",
            "July\n",
            "August\n",
            "September\n",
            "October\n",
            "November\n",
            "December\n",
            "Monday\n",
            "Tuesday\n",
            "Wednesday\n",
            "Thursday\n",
            "Friday\n",
            "Saturday\n",
            "Sunday\n",
            "11\n",
            "\n",
            "January\n",
            "February\n",
            "March\n",
            "April\n",
            "May\n",
            "June\n",
            "July\n",
            "August\n",
            "September\n",
            "October\n",
            "November\n",
            "December\n",
            "Monday\n",
            "Tuesday\n",
            "Wednesday\n",
            "Thursday\n",
            "Friday\n",
            "Saturday\n",
            "Sunday\n",
            "12\n",
            "\n",
            "January\n",
            "February\n",
            "March\n",
            "April\n",
            "May\n",
            "June\n",
            "July\n",
            "August\n",
            "September\n",
            "October\n",
            "November\n",
            "December\n",
            "Monday\n",
            "Tuesday\n",
            "Wednesday\n",
            "Thursday\n",
            "Friday\n",
            "Saturday\n",
            "Sunday\n",
            "13\n",
            "\n",
            "January\n",
            "February\n",
            "March\n",
            "April\n",
            "May\n",
            "June\n",
            "July\n",
            "August\n",
            "September\n",
            "October\n",
            "November\n",
            "December\n",
            "Monday\n",
            "Tuesday\n",
            "Wednesday\n",
            "Thursday\n",
            "Friday\n",
            "Saturday\n",
            "Sunday\n",
            "14\n",
            "\n",
            "January\n",
            "February\n",
            "March\n",
            "April\n",
            "May\n",
            "June\n",
            "July\n",
            "August\n",
            "September\n",
            "October\n",
            "November\n",
            "December\n",
            "Monday\n",
            "Tuesday\n",
            "Wednesday\n",
            "Thursday\n",
            "Friday\n",
            "Saturday\n",
            "Sunday\n",
            "15\n",
            "\n",
            "January\n",
            "February\n",
            "March\n",
            "April\n",
            "May\n",
            "June\n",
            "July\n",
            "August\n",
            "September\n",
            "October\n",
            "November\n",
            "December\n",
            "Monday\n",
            "Tuesday\n",
            "Wednesday\n",
            "Thursday\n",
            "Friday\n",
            "Saturday\n",
            "Sunday\n",
            "16\n",
            "\n",
            "January\n",
            "February\n",
            "March\n",
            "April\n",
            "May\n",
            "June\n",
            "July\n",
            "August\n",
            "September\n",
            "October\n",
            "November\n",
            "December\n",
            "Monday\n",
            "Tuesday\n",
            "Wednesday\n",
            "Thursday\n",
            "Friday\n",
            "Saturday\n",
            "Sunday\n",
            "17\n",
            "\n",
            "January\n",
            "February\n",
            "March\n",
            "April\n",
            "May\n",
            "June\n",
            "July\n",
            "August\n",
            "September\n",
            "October\n",
            "November\n",
            "December\n",
            "Monday\n",
            "Tuesday\n",
            "Wednesday\n",
            "Thursday\n",
            "Friday\n",
            "Saturday\n",
            "Sunday\n",
            "18\n",
            "\n",
            "January\n",
            "February\n",
            "March\n",
            "April\n",
            "May\n",
            "June\n",
            "July\n",
            "August\n",
            "September\n",
            "October\n",
            "November\n",
            "December\n",
            "Monday\n",
            "Tuesday\n",
            "Wednesday\n",
            "Thursday\n",
            "Friday\n",
            "Saturday\n",
            "Sunday\n",
            "19\n",
            "\n",
            "January\n",
            "February\n",
            "March\n",
            "April\n",
            "May\n",
            "June\n",
            "July\n",
            "August\n",
            "September\n",
            "October\n",
            "November\n",
            "December\n",
            "Monday\n",
            "Tuesday\n",
            "Wednesday\n",
            "Thursday\n",
            "Friday\n",
            "Saturday\n",
            "Sunday\n",
            "20\n",
            "\n",
            "January\n",
            "February\n",
            "March\n",
            "April\n",
            "May\n",
            "June\n",
            "July\n",
            "August\n",
            "September\n",
            "October\n",
            "November\n",
            "December\n",
            "Monday\n",
            "Tuesday\n",
            "Wednesday\n",
            "Thursday\n",
            "Friday\n",
            "Saturday\n",
            "Sunday\n",
            "21\n",
            "\n",
            "January\n",
            "February\n",
            "March\n",
            "April\n",
            "May\n",
            "June\n",
            "July\n",
            "August\n",
            "September\n",
            "October\n",
            "November\n",
            "December\n",
            "Monday\n",
            "Tuesday\n",
            "Wednesday\n",
            "Thursday\n",
            "Friday\n",
            "Saturday\n",
            "Sunday\n",
            "22\n",
            "\n",
            "January\n",
            "February\n",
            "March\n",
            "April\n",
            "May\n",
            "June\n",
            "July\n",
            "August\n",
            "September\n",
            "October\n",
            "November\n",
            "December\n",
            "Monday\n",
            "Tuesday\n",
            "Wednesday\n",
            "Thursday\n",
            "Friday\n",
            "Saturday\n",
            "Sunday\n",
            "23\n",
            "\n",
            "January\n",
            "February\n",
            "March\n",
            "April\n",
            "May\n",
            "June\n",
            "July\n",
            "August\n",
            "September\n",
            "October\n",
            "November\n",
            "December\n",
            "Monday\n",
            "Tuesday\n",
            "Wednesday\n",
            "Thursday\n",
            "Friday\n",
            "Saturday\n",
            "Sunday\n",
            "24\n",
            "\n",
            "January\n",
            "February\n",
            "March\n",
            "April\n",
            "May\n",
            "June\n",
            "July\n",
            "August\n",
            "September\n",
            "October\n",
            "November\n",
            "December\n",
            "Monday\n",
            "Tuesday\n",
            "Wednesday\n",
            "Thursday\n",
            "Friday\n",
            "Saturday\n",
            "Sunday\n",
            "25\n",
            "\n",
            "January\n",
            "February\n",
            "March\n",
            "April\n",
            "May\n",
            "June\n",
            "July\n",
            "August\n",
            "September\n",
            "October\n",
            "November\n",
            "December\n",
            "Monday\n",
            "Tuesday\n",
            "Wednesday\n",
            "Thursday\n",
            "Friday\n",
            "Saturday\n",
            "Sunday\n",
            "26\n",
            "\n",
            "January\n",
            "February\n",
            "March\n",
            "April\n",
            "May\n",
            "June\n",
            "July\n",
            "August\n",
            "September\n",
            "October\n",
            "November\n",
            "December\n",
            "Monday\n",
            "Tuesday\n",
            "Wednesday\n",
            "Thursday\n",
            "Friday\n",
            "Saturday\n",
            "Sunday\n",
            "27\n",
            "\n",
            "January\n",
            "February\n",
            "March\n",
            "April\n",
            "May\n",
            "June\n",
            "July\n",
            "August\n",
            "September\n",
            "October\n",
            "November\n",
            "December\n",
            "Monday\n",
            "Tuesday\n",
            "Wednesday\n",
            "Thursday\n",
            "Friday\n",
            "Saturday\n",
            "Sunday\n",
            "28\n",
            "\n",
            "January\n",
            "February\n",
            "March\n",
            "April\n",
            "May\n",
            "June\n",
            "July\n",
            "August\n",
            "September\n",
            "October\n",
            "November\n",
            "December\n",
            "Monday\n",
            "Tuesday\n",
            "Wednesday\n",
            "Thursday\n",
            "Friday\n",
            "Saturday\n",
            "Sunday\n",
            "29\n",
            "\n",
            "January\n",
            "February\n",
            "March\n",
            "April\n",
            "May\n",
            "June\n",
            "July\n",
            "August\n",
            "September\n",
            "October\n",
            "November\n",
            "December\n",
            "Monday\n",
            "Tuesday\n",
            "Wednesday\n",
            "Thursday\n",
            "Friday\n",
            "Saturday\n",
            "Sunday\n",
            "30\n",
            "\n",
            "January\n",
            "February\n",
            "March\n",
            "April\n",
            "May\n",
            "June\n",
            "July\n",
            "August\n",
            "September\n",
            "October\n",
            "November\n",
            "December\n",
            "Monday\n",
            "Tuesday\n",
            "Wednesday\n",
            "Thursday\n",
            "Friday\n",
            "Saturday\n",
            "Sunday\n",
            "  December  1\n"
          ],
          "name": "stdout"
        }
      ]
    },
    {
      "cell_type": "code",
      "metadata": {
        "colab": {
          "base_uri": "https://localhost:8080/"
        },
        "id": "CtGkOPO3fygG",
        "outputId": "25b3007c-a3ab-43d0-a05a-508581bc3912"
      },
      "source": [
        "# calculate average usinf for loop\r\n",
        "def cal_average(num):\r\n",
        "    sum_num = 0\r\n",
        "    for t in num:\r\n",
        "        sum_num = sum_num + t           \r\n",
        "\r\n",
        "    avg = sum_num / len(num)\r\n",
        "    return avg\r\n",
        "\r\n",
        "print(\"The average is\", cal_average([18,25,3,41,5]))"
      ],
      "execution_count": 72,
      "outputs": [
        {
          "output_type": "stream",
          "text": [
            "The average is 18.4\n"
          ],
          "name": "stdout"
        }
      ]
    },
    {
      "cell_type": "code",
      "metadata": {
        "colab": {
          "base_uri": "https://localhost:8080/"
        },
        "id": "KgPXr264f6Mr",
        "outputId": "500ddac8-21ad-4c02-8b63-42fad0b71086"
      },
      "source": [
        "# using sum() and len() built in functions \r\n",
        "# Example to find average of list\r\n",
        "number_list = [45, 34, 10, 36, 12, 6, 80]\r\n",
        "avg = sum(number_list)/len(number_list)\r\n",
        "print(\"The average is \", round(avg,2))"
      ],
      "execution_count": 73,
      "outputs": [
        {
          "output_type": "stream",
          "text": [
            "The average is  31.86\n"
          ],
          "name": "stdout"
        }
      ]
    },
    {
      "cell_type": "code",
      "metadata": {
        "colab": {
          "base_uri": "https://localhost:8080/"
        },
        "id": "iDH1_uSZgDWM",
        "outputId": "515c8909-29cb-41e9-f715-edd1223f9c6e"
      },
      "source": [
        "# using statistics module \r\n",
        "# Example to find the average of the list\r\n",
        "from statistics import mean\r\n",
        " \r\n",
        "number_list = [45, 34, 10, 36, 12, 6, 80]\r\n",
        "avg = mean(number_list)\r\n",
        "print(\"The average is \", round(avg,2))"
      ],
      "execution_count": 74,
      "outputs": [
        {
          "output_type": "stream",
          "text": [
            "The average is  31.86\n"
          ],
          "name": "stdout"
        }
      ]
    },
    {
      "cell_type": "code",
      "metadata": {
        "colab": {
          "base_uri": "https://localhost:8080/"
        },
        "id": "Hpj0cLRMgUQ_",
        "outputId": "cdb18094-09a9-4a38-a91e-037b14b7552d"
      },
      "source": [
        "# to perform string formating - Placeholder replaced with a string value\r\n",
        "print (\"Is this the {} real life\".format(\"abosulutely123Fantasy\"))\r\n",
        "print (\"{} is {} new kind of {} experience!\".format(\"Hamilton\", \"totally\",\"musical\"))"
      ],
      "execution_count": 77,
      "outputs": [
        {
          "output_type": "stream",
          "text": [
            "Is this the abosulutely123Fantasy real life\n",
            "Hamilton is totally new kind of musical experience!\n"
          ],
          "name": "stdout"
        }
      ]
    },
    {
      "cell_type": "code",
      "metadata": {
        "colab": {
          "base_uri": "https://localhost:8080/"
        },
        "id": "vwK6MaEnhgEe",
        "outputId": "05b807e7-c570-431b-c4e3-fb01ef14edf0"
      },
      "source": [
        "# format string using class\r\n",
        "class MyClass:\r\n",
        "    msg1=\"Schuyler \"\r\n",
        "    msg2=\"Sisters\"   \r\n",
        "\r\n",
        "print(\"Welcome to {c.msg1}trio {c.msg2}!\".format(c=MyClass()))"
      ],
      "execution_count": 79,
      "outputs": [
        {
          "output_type": "stream",
          "text": [
            "Welcome to Schuyler trio Sisters!\n"
          ],
          "name": "stdout"
        }
      ]
    },
    {
      "cell_type": "code",
      "metadata": {
        "colab": {
          "base_uri": "https://localhost:8080/"
        },
        "id": "US-VbdfFjyC0",
        "outputId": "7f1d23a7-5cdd-46ca-a688-b3f325e8b39a"
      },
      "source": [
        "# Using string.format() method, add padding, space by using placeholders inside your string\r\n",
        "print(\"I have {:5} dogs and {:5} cat\".format(2,1))"
      ],
      "execution_count": 80,
      "outputs": [
        {
          "output_type": "stream",
          "text": [
            "I have     2 dogs and     1 cat\n"
          ],
          "name": "stdout"
        }
      ]
    },
    {
      "cell_type": "code",
      "metadata": {
        "colab": {
          "base_uri": "https://localhost:8080/"
        },
        "id": "Ru2rgPnOqpYY",
        "outputId": "6f62dbe4-d3d7-4244-8333-9786420d80f4"
      },
      "source": [
        "# use queue to add elements to a queue\r\n",
        "import queue\r\n",
        "q1 = queue.Queue(5) #The max size is 5.\r\n",
        "q1.put(1)\r\n",
        "q1.put(2)\r\n",
        "q1.put(3)\r\n",
        "q1.put(4)\r\n",
        "q1.put(5)\r\n",
        "print(q1.full()) # will return true.\r\n",
        "q1 = queue.Queue()\r\n",
        "q1.put(10) #this will additem 10 to the queue."
      ],
      "execution_count": 81,
      "outputs": [
        {
          "output_type": "stream",
          "text": [
            "True\n"
          ],
          "name": "stdout"
        }
      ]
    },
    {
      "cell_type": "code",
      "metadata": {
        "colab": {
          "base_uri": "https://localhost:8080/"
        },
        "id": "GS1eBPPvq1aM",
        "outputId": "1d9d9fe5-21c8-450f-f267-142e922ab8a8"
      },
      "source": [
        "# to remove an item from a queue\r\n",
        "import queue\r\n",
        "q1 = queue.Queue()\r\n",
        "q1.put(10)\r\n",
        "\r\n",
        "item1 = q1.get()\r\n",
        "print('The item removed from the queue is ', item1)"
      ],
      "execution_count": 82,
      "outputs": [
        {
          "output_type": "stream",
          "text": [
            "The item removed from the queue is  10\n"
          ],
          "name": "stdout"
        }
      ]
    },
    {
      "cell_type": "code",
      "metadata": {
        "colab": {
          "base_uri": "https://localhost:8080/"
        },
        "id": "bwM8vWuUq8Hd",
        "outputId": "88009a82-e4f4-45f8-fd4a-61893a644396"
      },
      "source": [
        "# add and remove an item using LIFO queue \r\n",
        "import queue\r\n",
        "q1 = queue.LifoQueue()\r\n",
        "q1.put(10)\r\n",
        "\r\n",
        "item1 = q1.get()\r\n",
        "\r\n",
        "print('The item removed from the LIFO queue is ', item1)"
      ],
      "execution_count": 83,
      "outputs": [
        {
          "output_type": "stream",
          "text": [
            "The item removed from the LIFO queue is  10\n"
          ],
          "name": "stdout"
        }
      ]
    },
    {
      "cell_type": "code",
      "metadata": {
        "colab": {
          "base_uri": "https://localhost:8080/"
        },
        "id": "b-OeGu8trkKX",
        "outputId": "d6e81dcb-67eb-48d4-8a47-fdca8eac1eb5"
      },
      "source": [
        "# to sort a queue\r\n",
        "import queue\r\n",
        "q1 = queue.Queue()\r\n",
        "#Addingitems to the queue\r\n",
        "q1.put(11)\r\n",
        "q1.put(5)\r\n",
        "q1.put(4)\r\n",
        "q1.put(21)\r\n",
        "q1.put(3)\r\n",
        "q1.put(10)\r\n",
        "\r\n",
        "#using bubble sort on the queue\r\n",
        "n =  q1.qsize()\r\n",
        "for i in range(n):\r\n",
        "    x = q1.get() # the element is removed\r\n",
        "    for j in range(n-1):\r\n",
        "        y = q1.get() # the element is removed\r\n",
        "        if x > y :  \r\n",
        "            q1.put(y)   #the smaller one is put at the start of the queue\r\n",
        "        else:\r\n",
        "            q1.put(x)  # the smaller one is put at the start of the queue\r\n",
        "            x = y     # the greater one is replaced with x and compared again with nextelement\r\n",
        "    q1.put(x)\r\n",
        "\r\n",
        "while (q1.empty() == False): \r\n",
        "  print(q1.queue[0], end = \" \")  \r\n",
        "  q1.get()"
      ],
      "execution_count": 85,
      "outputs": [
        {
          "output_type": "stream",
          "text": [
            "3 4 5 10 11 21 "
          ],
          "name": "stdout"
        }
      ]
    },
    {
      "cell_type": "code",
      "metadata": {
        "colab": {
          "base_uri": "https://localhost:8080/"
        },
        "id": "vJ8LM07wr1iH",
        "outputId": "dc807a8d-6612-4c19-92d4-7730cd7671b7"
      },
      "source": [
        "# to reverse a queue\r\n",
        "import queue\r\n",
        "q1 = queue.Queue()\r\n",
        "\r\n",
        "q1.put(11)\r\n",
        "q1.put(5)\r\n",
        "q1.put(4)\r\n",
        "q1.put(21)\r\n",
        "q1.put(3)\r\n",
        "q1.put(10)\r\n",
        "\r\n",
        "def reverseQueue (q1src, q2dest) :  \r\n",
        "    buffer = q1src.get()\r\n",
        "    if (q1src.empty() == False) :\r\n",
        "      reverseQueue(q1src, q2dest)      #using recursion\r\n",
        "      q2dest.put(buffer)\r\n",
        "      return q2dest\r\n",
        "\r\n",
        "q2dest = queue.Queue()\r\n",
        "qReversed = reverseQueue(q1,q2dest)\r\n",
        "\r\n",
        "while (qReversed.empty() == False): \r\n",
        "  print(qReversed.queue[0], end = \" \")  \r\n",
        "  qReversed.get()"
      ],
      "execution_count": 88,
      "outputs": [
        {
          "output_type": "stream",
          "text": [
            "3 21 4 5 11 "
          ],
          "name": "stdout"
        }
      ]
    },
    {
      "cell_type": "code",
      "metadata": {
        "colab": {
          "base_uri": "https://localhost:8080/",
          "height": 246
        },
        "id": "jGpxgrP4sp23",
        "outputId": "0da51003-affc-4a55-e9f5-cc5815da8ea9"
      },
      "source": [
        "# to read the data from the URL and print it\r\n",
        "\r\n",
        "import urllib.request\r\n",
        "# open a connection to a URL using urllib \r\n",
        "# reading kurzgesagt video\r\n",
        "webUrl  = urllib.request.urlopen('https://www.youtube.com/watch?v=4b33NTAuF5E')\r\n",
        "\r\n",
        "#get the result code and print it\r\n",
        "print(\"result code: \" + str(webUrl.getcode()))\r\n",
        "\r\n",
        "# read the data from the URL and print it\r\n",
        "data = webUrl.read()\r\n",
        "print(data)"
      ],
      "execution_count": 91,
      "outputs": [
        {
          "output_type": "error",
          "ename": "TypeError",
          "evalue": "ignored",
          "traceback": [
            "\u001b[0;31m---------------------------------------------------------------------------\u001b[0m",
            "\u001b[0;31mTypeError\u001b[0m                                 Traceback (most recent call last)",
            "\u001b[0;32m<ipython-input-91-5d5dd6794fdd>\u001b[0m in \u001b[0;36m<module>\u001b[0;34m()\u001b[0m\n\u001b[1;32m      7\u001b[0m \u001b[0;34m\u001b[0m\u001b[0m\n\u001b[1;32m      8\u001b[0m \u001b[0;31m#get the result code and print it\u001b[0m\u001b[0;34m\u001b[0m\u001b[0;34m\u001b[0m\u001b[0;34m\u001b[0m\u001b[0m\n\u001b[0;32m----> 9\u001b[0;31m \u001b[0mprint\u001b[0m\u001b[0;34m(\u001b[0m\u001b[0;34m\"result code: \"\u001b[0m \u001b[0;34m+\u001b[0m \u001b[0mstr\u001b[0m\u001b[0;34m(\u001b[0m\u001b[0mwebUrl\u001b[0m\u001b[0;34m.\u001b[0m\u001b[0mgetcode\u001b[0m\u001b[0;34m(\u001b[0m\u001b[0;34m)\u001b[0m\u001b[0;34m)\u001b[0m\u001b[0;34m)\u001b[0m\u001b[0;34m\u001b[0m\u001b[0;34m\u001b[0m\u001b[0m\n\u001b[0m\u001b[1;32m     10\u001b[0m \u001b[0;34m\u001b[0m\u001b[0m\n\u001b[1;32m     11\u001b[0m \u001b[0;31m# read the data from the URL and print it\u001b[0m\u001b[0;34m\u001b[0m\u001b[0;34m\u001b[0m\u001b[0;34m\u001b[0m\u001b[0m\n",
            "\u001b[0;31mTypeError\u001b[0m: 'str' object is not callable"
          ]
        }
      ]
    },
    {
      "cell_type": "code",
      "metadata": {
        "colab": {
          "base_uri": "https://localhost:8080/"
        },
        "id": "ZvF5oQ0_2NIE",
        "outputId": "c30b37e3-0504-4f6d-99e3-63410b706146"
      },
      "source": [
        "# to find the execution time taken for the small code \r\n",
        "import timeit\r\n",
        "print(timeit.timeit('output = 10*5'))"
      ],
      "execution_count": 92,
      "outputs": [
        {
          "output_type": "stream",
          "text": [
            "0.01309010600016336\n"
          ],
          "name": "stdout"
        }
      ]
    },
    {
      "cell_type": "code",
      "metadata": {
        "colab": {
          "base_uri": "https://localhost:8080/"
        },
        "id": "nTwxphfS2f9i",
        "outputId": "d06fb7f5-09db-49ca-b140-8cf04a47c851"
      },
      "source": [
        "# testing timeit()using timeit.repeat\r\n",
        "import timeit\r\n",
        "import_module = \"import random\"\r\n",
        "testcode = ''' \r\n",
        "def test(): \r\n",
        "    return random.randint(10, 100)\r\n",
        "'''\r\n",
        "print(timeit.timeit(stmt=testcode, setup=import_module))\r\n",
        "#timeit.repeat() works similar to timeit.timeit() function, with the only difference it takes in the repeat argument and gives back the execution time in array format with values as per the repeat number.\r\n",
        "print(timeit.repeat(stmt=testcode, setup=import_module, repeat=5))"
      ],
      "execution_count": 93,
      "outputs": [
        {
          "output_type": "stream",
          "text": [
            "0.08389255600013712\n",
            "[0.07598548399982974, 0.07630721500026993, 0.0764805159997195, 0.07763408600112598, 0.07517019099941535]\n"
          ],
          "name": "stdout"
        }
      ]
    },
    {
      "cell_type": "code",
      "metadata": {
        "colab": {
          "base_uri": "https://localhost:8080/"
        },
        "id": "eOUGtF702_l9",
        "outputId": "371e48d0-88c6-4e02-ded5-575d0087dc17"
      },
      "source": [
        "# to return the generator object using the yield()\r\n",
        "# Python yield returns a generator object. Generators are special functions that have to be iterated to get the values.\r\n",
        "def testyield():\r\n",
        "  yield \"Dungeons and Dragons is a good game to play with friends\"\r\n",
        "\r\n",
        "output = testyield()\r\n",
        "for i in output:\r\n",
        "    print(i)\r\n",
        "    print(output) \r\n"
      ],
      "execution_count": 96,
      "outputs": [
        {
          "output_type": "stream",
          "text": [
            "Dungeons and Dragons is a good game to play with friends\n",
            "<generator object testyield at 0x7f47faf04f68>\n"
          ],
          "name": "stdout"
        }
      ]
    },
    {
      "cell_type": "code",
      "metadata": {
        "colab": {
          "base_uri": "https://localhost:8080/"
        },
        "id": "wVcKoPk47Meo",
        "outputId": "cf74ff27-5133-4a2b-a1de-a978989d8fcc"
      },
      "source": [
        "# create a generator function\r\n",
        "# A generator function is like a normal function, instead of having a return value it will have a yield keyword.\r\n",
        "def generator():\r\n",
        "    yield \"H\"\r\n",
        "    yield \"E\"\r\n",
        "    yield \"L\"\r\n",
        "    yield \"L\"\r\n",
        "    yield \"O\"\r\n",
        "\r\n",
        "test = generator()\r\n",
        "for i in test:\r\n",
        "    print(i)\r\n",
        "    print(output)"
      ],
      "execution_count": 97,
      "outputs": [
        {
          "output_type": "stream",
          "text": [
            "H\n",
            "<generator object testyield at 0x7f47faf04f68>\n",
            "E\n",
            "<generator object testyield at 0x7f47faf04f68>\n",
            "L\n",
            "<generator object testyield at 0x7f47faf04f68>\n",
            "L\n",
            "<generator object testyield at 0x7f47faf04f68>\n",
            "O\n",
            "<generator object testyield at 0x7f47faf04f68>\n"
          ],
          "name": "stdout"
        }
      ]
    },
    {
      "cell_type": "code",
      "metadata": {
        "colab": {
          "base_uri": "https://localhost:8080/"
        },
        "id": "kQQn_hm38F9C",
        "outputId": "f7e9171f-64f1-4759-9851-0eea21edca4f"
      },
      "source": [
        "# explain the difference btw generator and a normal function\r\n",
        "\r\n",
        "# Normal function\r\n",
        "def normal_test():\r\n",
        "    return \"Hello World\"\r\n",
        "\t\r\n",
        "#Generator function\r\n",
        "def generator_test():\r\n",
        "\tyield \"Hello World\"\r\n",
        "print(normal_test()) #call to normal function\r\n",
        "print(generator_test()) # call to generator function\r\n",
        "\r\n",
        "#The output shows that when you call the normal function normal_test() it returns Hello World string. \r\n",
        "#For a generator function with yield keyword it returns <generator object generator_test at 0x00000012F2F5BA20> and not the string.\r\n",
        "\r\n",
        "#This is the main difference between a generator function and a normal function. \r\n",
        "#Now to get the value from the generator object we need to either use the object inside for loop or use next() method or make use of list()."
      ],
      "execution_count": 98,
      "outputs": [
        {
          "output_type": "stream",
          "text": [
            "Hello World\n",
            "<generator object generator_test at 0x7f47fafb1728>\n"
          ],
          "name": "stdout"
        }
      ]
    },
    {
      "cell_type": "code",
      "metadata": {
        "colab": {
          "base_uri": "https://localhost:8080/"
        },
        "id": "05RSHfXR9jZe",
        "outputId": "863407ad-8945-4c77-a505-ab87bae7deee"
      },
      "source": [
        "#  to read the values from the generator \r\n",
        "def even_numbers(n):\r\n",
        "    for x in range(n):\r\n",
        "       if (x%2==0): \r\n",
        "           yield x       \r\n",
        "num = even_numbers(10)\r\n",
        "print(list(num))\r\n"
      ],
      "execution_count": 99,
      "outputs": [
        {
          "output_type": "stream",
          "text": [
            "[0, 2, 4, 6, 8]\n"
          ],
          "name": "stdout"
        }
      ]
    },
    {
      "cell_type": "code",
      "metadata": {
        "colab": {
          "base_uri": "https://localhost:8080/"
        },
        "id": "hfPZfkCH8o-3",
        "outputId": "4aacd750-ced2-4942-e789-d28faf7fecf1"
      },
      "source": [
        "# to explain if generators can be used again \r\n",
        "def even_numbers(n):\r\n",
        "    for x in range(n):\r\n",
        "       if (x%2==0): \r\n",
        "           yield x       \r\n",
        "num = even_numbers(10)\r\n",
        "for i in num:\r\n",
        "    print(i)\r\n",
        "\r\n",
        "print(\"\\n\")\r\n",
        "print(\"Calling the generator again: \", list(num))"
      ],
      "execution_count": 100,
      "outputs": [
        {
          "output_type": "stream",
          "text": [
            "0\n",
            "2\n",
            "4\n",
            "6\n",
            "8\n",
            "\n",
            "\n",
            "Calling the generator again:  []\n"
          ],
          "name": "stdout"
        }
      ]
    },
    {
      "cell_type": "code",
      "metadata": {
        "colab": {
          "base_uri": "https://localhost:8080/"
        },
        "id": "c1skyxkB-soa",
        "outputId": "e05dae46-e384-4bf6-892c-570253371e23"
      },
      "source": [
        "# use generator for fibonacci series\r\n",
        "def getFibonnaciSeries(num):\r\n",
        "    c1, c2 = 0, 1\r\n",
        "    count = 0\r\n",
        "    while count < num:\r\n",
        "        yield c1\r\n",
        "        c3 = c1 + c2\r\n",
        "        c1 = c2\r\n",
        "        c2 = c3\r\n",
        "        count += 1\r\n",
        "fin = getFibonnaciSeries(7)\r\n",
        "print(fin)\r\n",
        "for i in fin:\r\n",
        "    print(i)"
      ],
      "execution_count": 101,
      "outputs": [
        {
          "output_type": "stream",
          "text": [
            "<generator object getFibonnaciSeries at 0x7f47faa81e60>\n",
            "0\n",
            "1\n",
            "1\n",
            "2\n",
            "3\n",
            "5\n",
            "8\n"
          ],
          "name": "stdout"
        }
      ]
    },
    {
      "cell_type": "code",
      "metadata": {
        "colab": {
          "base_uri": "https://localhost:8080/"
        },
        "id": "easCLAPo_CCT",
        "outputId": "c2270974-53a9-4a02-9284-7a197dad2a08"
      },
      "source": [
        "# to call a function with yield to calculate the square of a number\r\n",
        "def test(n):\r\n",
        "    return n*n\r\n",
        "\r\n",
        "def getSquare(n):\r\n",
        "    for i in range(n):\r\n",
        "        yield test(i)\r\n",
        "\r\n",
        "sq = getSquare(10)\r\n",
        "for i in sq:\r\n",
        "    print(i)"
      ],
      "execution_count": 102,
      "outputs": [
        {
          "output_type": "stream",
          "text": [
            "0\n",
            "1\n",
            "4\n",
            "9\n",
            "16\n",
            "25\n",
            "36\n",
            "49\n",
            "64\n",
            "81\n"
          ],
          "name": "stdout"
        }
      ]
    },
    {
      "cell_type": "code",
      "metadata": {
        "colab": {
          "base_uri": "https://localhost:8080/"
        },
        "id": "4oYxcTLa_SHh",
        "outputId": "46e5e6ad-53ec-4409-8bd7-2fff7259352c"
      },
      "source": [
        "# to check if tww nos. are same with conditional statement\r\n",
        "\r\n",
        "def main():\r\n",
        "\tx,y =8,8\r\n",
        "\t\r\n",
        "\tif(x < y):\r\n",
        "\t\tst= \"x is less than y\"\r\n",
        "\t\r\n",
        "\telif (x == y):\r\n",
        "\t\tst= \"x is same as y\"\r\n",
        "\t\r\n",
        "\telse:\r\n",
        "\t\tst=\"x is greater than y\"\r\n",
        "\tprint(st)\r\n",
        "\t\r\n",
        "if __name__ == \"__main__\":\r\n",
        "\tmain()"
      ],
      "execution_count": 103,
      "outputs": [
        {
          "output_type": "stream",
          "text": [
            "x is same as y\n"
          ],
          "name": "stdout"
        }
      ]
    },
    {
      "cell_type": "code",
      "metadata": {
        "id": "iihpW06l_Lxo"
      },
      "source": [
        "# read a file and use the size parameter to get only the required length of the line\r\n",
        "myfile = open(\"demo.txt\", \"r\")\r\n",
        "myline = myfile.readline(10)\r\n",
        "myfile.close()"
      ],
      "execution_count": null,
      "outputs": []
    },
    {
      "cell_type": "code",
      "metadata": {
        "colab": {
          "base_uri": "https://localhost:8080/"
        },
        "id": "w2Xmtu2lBJ_Y",
        "outputId": "949ff701-4b4e-4b46-9c62-f7cc9b8359ec"
      },
      "source": [
        "# to showcase switch case\r\n",
        "# Python language doesn’t have a switch statement.\r\n",
        "\r\n",
        "# Python uses dictionary mapping to implement Switch Case in Python\r\n",
        "def SwitchExample(argument):\r\n",
        "    switcher = {\r\n",
        "        0: \" This is Case Zero \",\r\n",
        "        1: \" This is Case One \",\r\n",
        "        2: \" This is Case Two \",\r\n",
        "    }\r\n",
        "    return switcher.get(argument, \"nothing\")\r\n",
        "\r\n",
        "\r\n",
        "if __name__ == \"__main__\":\r\n",
        "    argument = 1\r\n",
        "    print (SwitchExample(argument))"
      ],
      "execution_count": 108,
      "outputs": [
        {
          "output_type": "stream",
          "text": [
            " This is Case One \n"
          ],
          "name": "stdout"
        }
      ]
    },
    {
      "cell_type": "code",
      "metadata": {
        "id": "GRpI5yz9DWTK"
      },
      "source": [
        "# create a class car and define the contents\r\n",
        "class Car:\r\n",
        "\tbrand_name = \"BMW\"\r\n",
        "\tmodel = \"Z4\"\r\n",
        "\tmanu_year = \"2020\"\r\n",
        "\r\n",
        "\tdef __init__(self, brand_name, model, manu_year):\r\n",
        "\t\tself.brand_name = brand_name\r\n",
        "\t\tself.model = model\r\n",
        "\t\tself.manu_year = manu_year\r\n",
        "\r\n",
        "\tdef car_details(self):\r\n",
        "\t\tprint(\"Car brand is \", self.brand_name)\r\n",
        "\t\tprint(\"Car model is \", self.model)\r\n",
        "\t\tprint(\"Car manufacture year is \", self.manu_year)\r\n",
        "\t\t\t\r\n",
        "\t\t\t\r\n",
        "\tdef get_Car_brand(self):\r\n",
        "\t\tprint(\"Car brand is \", self.brand_name)\r\n",
        "\r\n",
        "\tdef get_Car_model(self):\r\n",
        "\t\tprint(\"Car model is \", self.model) \r\n",
        "\r\n"
      ],
      "execution_count": null,
      "outputs": []
    },
    {
      "cell_type": "code",
      "metadata": {
        "colab": {
          "base_uri": "https://localhost:8080/"
        },
        "id": "JCqkS2YwFKhV",
        "outputId": "3a2b4e42-80fc-42c5-bd4a-9972401460f3"
      },
      "source": [
        "# to create a person class \r\n",
        "class Person:\r\n",
        "  def __init__(self, name, age):\r\n",
        "    self.name = name\r\n",
        "    self.age = age\r\n",
        "\r\n",
        "p1 = Person(\"John\", 36)\r\n",
        "\r\n",
        "print(p1.name)\r\n",
        "print(p1.age)\r\n",
        "\r\n"
      ],
      "execution_count": 109,
      "outputs": [
        {
          "output_type": "stream",
          "text": [
            "John\n",
            "36\n"
          ],
          "name": "stdout"
        }
      ]
    },
    {
      "cell_type": "code",
      "metadata": {
        "id": "htqbfWqLNpTv"
      },
      "source": [
        "#create a child class and add methods\r\n",
        "class Student(Person):\r\n",
        "  def __init__(self, fname, lname, year):\r\n",
        "    super().__init__(fname, lname)\r\n",
        "    self.graduationyear = year\r\n",
        "\r\n",
        "  def welcome(self):\r\n",
        "    print(\"Welcome\", self.firstname, self.lastname, \"to the class of\", self.graduationyear)"
      ],
      "execution_count": 110,
      "outputs": []
    },
    {
      "cell_type": "code",
      "metadata": {
        "id": "MbFzQQ4cOkAC"
      },
      "source": [
        "# to creat a function which demonstrates pass by reference\r\n",
        "\r\n",
        "def changeme( mylist ):\r\n",
        "   \"This changes a passed list into this function\"\r\n",
        "   mylist.append([1,2,3,4]);\r\n",
        "   print \"Values inside the function: \", mylist\r\n",
        "   return\r\n",
        "\r\n",
        "# Now you can call changeme function\r\n",
        "mylist = [10,20,30];\r\n",
        "changeme( mylist );\r\n",
        "print \"Values outside the function: \", mylist"
      ],
      "execution_count": null,
      "outputs": []
    },
    {
      "cell_type": "code",
      "metadata": {
        "id": "-qHJzjcfSQPA"
      },
      "source": [
        "# to try and show exceptions \r\n",
        "try:\r\n",
        "  print(x)\r\n",
        "except NameError:\r\n",
        "  print(\"Variable x is not defined\")\r\n",
        "except:\r\n",
        "  print(\"Something else went wrong\")"
      ],
      "execution_count": null,
      "outputs": []
    },
    {
      "cell_type": "code",
      "metadata": {
        "colab": {
          "base_uri": "https://localhost:8080/"
        },
        "id": "-oozIFtNT5uG",
        "outputId": "cf7d3e47-05e6-4350-c896-a93d89097232"
      },
      "source": [
        "# create a local variable \r\n",
        "def myfunc():\r\n",
        "  x = 300\r\n",
        "  def myinnerfunc():\r\n",
        "    print(x)\r\n",
        "  myinnerfunc()\r\n",
        "\r\n",
        "myfunc()"
      ],
      "execution_count": 111,
      "outputs": [
        {
          "output_type": "stream",
          "text": [
            "300\n"
          ],
          "name": "stdout"
        }
      ]
    },
    {
      "cell_type": "code",
      "metadata": {
        "colab": {
          "base_uri": "https://localhost:8080/"
        },
        "id": "F1FwPoCsUja2",
        "outputId": "f2b58513-4b1f-40aa-9d64-658e65f97005"
      },
      "source": [
        "# create a global variable\r\n",
        "x = 300\r\n",
        "\r\n",
        "def myfunc():\r\n",
        "  print(x)\r\n",
        "\r\n",
        "myfunc()\r\n",
        "\r\n",
        "print(x)"
      ],
      "execution_count": 112,
      "outputs": [
        {
          "output_type": "stream",
          "text": [
            "300\n",
            "300\n"
          ],
          "name": "stdout"
        }
      ]
    },
    {
      "cell_type": "code",
      "metadata": {
        "colab": {
          "base_uri": "https://localhost:8080/"
        },
        "id": "JH4124yGUn_u",
        "outputId": "2b5243bc-74bf-4d33-a9ab-d3dd209ab137"
      },
      "source": [
        "# use global keyword to showcase variable belongs to global scope\r\n",
        "x = 200\r\n",
        "def myfunc():\r\n",
        "  global x\r\n",
        "  x = 300\r\n",
        "\r\n",
        "myfunc()\r\n",
        "\r\n",
        "print(x)"
      ],
      "execution_count": 114,
      "outputs": [
        {
          "output_type": "stream",
          "text": [
            "300\n"
          ],
          "name": "stdout"
        }
      ]
    },
    {
      "cell_type": "code",
      "metadata": {
        "colab": {
          "base_uri": "https://localhost:8080/",
          "height": 54
        },
        "id": "c5l_f-E3VVxG",
        "outputId": "6936bd91-0a01-4193-fcee-629f12edfb09"
      },
      "source": [
        "# create prgm to showcase function capabilities\r\n",
        "def hello():\r\n",
        "  print(\"Hello World\") \r\n",
        "  return(\"hello\")\r\n",
        "\r\n",
        "def hello_noreturn():\r\n",
        "  print(\"Hello World\")\r\n",
        "  \r\n",
        "# Multiply the output of `hello()` with 2 \r\n",
        "hello() * 2\r\n",
        "\r\n"
      ],
      "execution_count": 116,
      "outputs": [
        {
          "output_type": "stream",
          "text": [
            "Hello World\n"
          ],
          "name": "stdout"
        },
        {
          "output_type": "execute_result",
          "data": {
            "application/vnd.google.colaboratory.intrinsic+json": {
              "type": "string"
            },
            "text/plain": [
              "'hellohello'"
            ]
          },
          "metadata": {
            "tags": []
          },
          "execution_count": 116
        }
      ]
    },
    {
      "cell_type": "code",
      "metadata": {
        "colab": {
          "base_uri": "https://localhost:8080/"
        },
        "id": "vaIDfLozYFXA",
        "outputId": "c36f9934-9f21-4dba-9af3-f9c56668cd30"
      },
      "source": [
        "# create anonymous function\r\n",
        "\r\n",
        "from functools import reduce\r\n",
        "\r\n",
        "my_list = [1,2,3,4,5,6,7,8,9,10]\r\n",
        "\r\n",
        "# Use lambda function with `filter()`\r\n",
        "filtered_list = list(filter(lambda x: (x*2 > 10), my_list))\r\n",
        "\r\n",
        "# Use lambda function with `map()`\r\n",
        "mapped_list = list(map(lambda x: x*2, my_list))\r\n",
        "\r\n",
        "# Use lambda function with `reduce()`\r\n",
        "reduced_list = reduce(lambda x, y: x+y, my_list)\r\n",
        "\r\n",
        "print(filtered_list)\r\n",
        "print(mapped_list)\r\n",
        "print(reduced_list)"
      ],
      "execution_count": 117,
      "outputs": [
        {
          "output_type": "stream",
          "text": [
            "[6, 7, 8, 9, 10]\n",
            "[2, 4, 6, 8, 10, 12, 14, 16, 18, 20]\n",
            "55\n"
          ],
          "name": "stdout"
        }
      ]
    },
    {
      "cell_type": "code",
      "metadata": {
        "colab": {
          "base_uri": "https://localhost:8080/"
        },
        "id": "zA6gDM_0YK36",
        "outputId": "e0c79b53-5e40-42c7-8601-f8f2e129e499"
      },
      "source": [
        "# creat a class dog\r\n",
        "class Dog:\r\n",
        "    \"\"\"    \r\n",
        "    Requires:\r\n",
        "    legs - Legs so that the dog can walk.\r\n",
        "    color - A color of the fur.\r\n",
        "    \"\"\"\r\n",
        "\r\n",
        "    def __init__(self, legs, color):\r\n",
        "        self.legs = legs\r\n",
        "        self.color = color\r\n",
        "        \r\n",
        "    def bark(self):\r\n",
        "        bark = \"bark\" * 2\r\n",
        "        return bark\r\n",
        "\r\n",
        "if __name__ == \"__main__\":\r\n",
        "    dog = Dog(4, \"brown\")\r\n",
        "    bark = dog.bark()\r\n",
        "    print(bark)"
      ],
      "execution_count": 118,
      "outputs": [
        {
          "output_type": "stream",
          "text": [
            "barkbark\n"
          ],
          "name": "stdout"
        }
      ]
    },
    {
      "cell_type": "code",
      "metadata": {
        "colab": {
          "base_uri": "https://localhost:8080/",
          "height": 54
        },
        "id": "N4zViTPCVNZh",
        "outputId": "ecc330ba-fe8a-4a5c-d206-831f113e2e4d"
      },
      "source": [
        "# check if two patterns match\r\n",
        "import re\r\n",
        "pattern = r\"Cookie\"\r\n",
        "sequence = \"Cookie\"\r\n",
        "if re.match(pattern, sequence):\r\n",
        "    print(\"Match!\")\r\n",
        "else: print(\"Not a match!\")\r\n",
        "\r\n",
        "re.search(r'Co.k.e', 'Cookie').group()"
      ],
      "execution_count": 121,
      "outputs": [
        {
          "output_type": "stream",
          "text": [
            "Match!\n"
          ],
          "name": "stdout"
        },
        {
          "output_type": "execute_result",
          "data": {
            "application/vnd.google.colaboratory.intrinsic+json": {
              "type": "string"
            },
            "text/plain": [
              "'Cookie'"
            ]
          },
          "metadata": {
            "tags": []
          },
          "execution_count": 121
        }
      ]
    },
    {
      "cell_type": "code",
      "metadata": {
        "colab": {
          "base_uri": "https://localhost:8080/"
        },
        "id": "iJYYK2oMZa6i",
        "outputId": "d42992ef-c954-4dee-bf7c-70d3422c0ccd"
      },
      "source": [
        "# to group regular expression \r\n",
        "statement = 'Please contact us never:never@notsosimple.com'\r\n",
        "match = re.search(r'([\\w\\.-]+)@([\\w\\.-]+)', statement)\r\n",
        "if statement:\r\n",
        "  print(\"Email address:\", match.group()) # The whole matched text\r\n",
        "  print(\"Username:\", match.group(1)) # The username (group 1)\r\n",
        "  print(\"Host:\", match.group(2)) # The host (group 2)"
      ],
      "execution_count": 124,
      "outputs": [
        {
          "output_type": "stream",
          "text": [
            "Email address: never@notsosimple.com\n",
            "Username: never\n",
            "Host: notsosimple.com\n"
          ],
          "name": "stdout"
        }
      ]
    },
    {
      "cell_type": "code",
      "metadata": {
        "colab": {
          "base_uri": "https://localhost:8080/"
        },
        "id": "bpmZ16jWaEoq",
        "outputId": "0c2e2185-3610-416b-fcee-dd4fc539b96a"
      },
      "source": [
        "# use regular expresseion to check if two sequences match \r\n",
        "pattern = \"C\"\r\n",
        "sequence1 = \"IceCream\"\r\n",
        "sequence2 = \"Cake\"\r\n",
        "\r\n",
        "# No match since \"C\" is not at the start of \"IceCream\"\r\n",
        "print(\"Sequence 1: \", re.match(pattern, sequence1))\r\n",
        "print(\"Sequence 2: \", re.match(pattern,sequence2).group())"
      ],
      "execution_count": 125,
      "outputs": [
        {
          "output_type": "stream",
          "text": [
            "Sequence 1:  None\n",
            "Sequence 2:  C\n"
          ],
          "name": "stdout"
        }
      ]
    },
    {
      "cell_type": "code",
      "metadata": {
        "colab": {
          "base_uri": "https://localhost:8080/"
        },
        "id": "N2o0gkUWabYM",
        "outputId": "f2fb3b58-9240-48df-8c8b-61897f951b95"
      },
      "source": [
        "# search a word in a string using regular expression\r\n",
        "pattern = re.compile('COOKIE', re.IGNORECASE)\r\n",
        "match = pattern.search(\"I am not a cookie monster\")\r\n",
        "\r\n",
        "print(\"Start index:\", match.start())\r\n",
        "print(\"End index:\", match.end())\r\n",
        "print(\"Tuple:\", match.span())"
      ],
      "execution_count": 126,
      "outputs": [
        {
          "output_type": "stream",
          "text": [
            "Start index: 11\n",
            "End index: 17\n",
            "Tuple: (11, 17)\n"
          ],
          "name": "stdout"
        }
      ]
    },
    {
      "cell_type": "code",
      "metadata": {
        "id": "BsjveKUXaw_W"
      },
      "source": [
        ""
      ],
      "execution_count": null,
      "outputs": []
    }
  ]
}