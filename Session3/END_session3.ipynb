{
  "nbformat": 4,
  "nbformat_minor": 0,
  "metadata": {
    "colab": {
      "name": "END_session3.ipynb",
      "provenance": [],
      "collapsed_sections": []
    },
    "kernelspec": {
      "name": "python3",
      "display_name": "Python 3"
    }
  },
  "cells": [
    {
      "cell_type": "markdown",
      "metadata": {
        "id": "ji-MEjLpiHQA"
      },
      "source": [
        "1. Write a function using only list filter lambda that can tell whether a number is a Fibonacci number or not. You can use a pre-calculated list/dict to store fab numbers till 10000"
      ]
    },
    {
      "cell_type": "code",
      "metadata": {
        "id": "B7vKu-auiE75"
      },
      "source": [
        "# Precomputing Fibonacci numbers less than 10000\n",
        "def Fib(count): \n",
        "    fib_list = [1, 1] \n",
        "    any(map(lambda _: fib_list.append(sum(fib_list[-2:])), \n",
        "                                         range(2, count))) \n",
        "    return fib_list[:count] \n",
        "\n",
        "fib_lt_10k = Fib(21)"
      ],
      "execution_count": 2,
      "outputs": []
    },
    {
      "cell_type": "code",
      "metadata": {
        "id": "glS6FEN_iPXV",
        "outputId": "369cff00-df2b-4096-a8ea-63d85758d9b4",
        "colab": {
          "base_uri": "https://localhost:8080/"
        }
      },
      "source": [
        "def check_fib(n):\n",
        "    return n in fib_lt_10k\n",
        "\n",
        "print(check_fib(134))\n",
        "print(check_fib(144))\n"
      ],
      "execution_count": 8,
      "outputs": [
        {
          "output_type": "stream",
          "text": [
            "False\n",
            "True\n"
          ],
          "name": "stdout"
        }
      ]
    },
    {
      "cell_type": "markdown",
      "metadata": {
        "id": "3KkieN55jlVM"
      },
      "source": [
        "\n",
        "2. Using list comprehension (and zip, lambda, etc if required) write five different expressions that:\n"
      ]
    },
    {
      "cell_type": "markdown",
      "metadata": {
        "id": "BdEX6m76jo-S"
      },
      "source": [
        "1. Add 2 iterables a and b such that a is even and b is odd"
      ]
    },
    {
      "cell_type": "code",
      "metadata": {
        "id": "CL2vcM2zjsDG",
        "outputId": "57d6f2c5-e750-466c-d482-86c5a781be85",
        "colab": {
          "base_uri": "https://localhost:8080/"
        }
      },
      "source": [
        "def add_iterables(list1, list2):\n",
        "    return sum([num for num in list1 if num % 2 == 0]) + \\\n",
        "               sum([num for num in list2 if num % 2 == 1])\n",
        "\n",
        "add_iterables(range(5), range(5))"
      ],
      "execution_count": 10,
      "outputs": [
        {
          "output_type": "execute_result",
          "data": {
            "text/plain": [
              "10"
            ]
          },
          "metadata": {
            "tags": []
          },
          "execution_count": 10
        }
      ]
    },
    {
      "cell_type": "markdown",
      "metadata": {
        "id": "hOmv7oLfj4kq"
      },
      "source": [
        "2. strips every vowel from a string provided (tsai>>t s)"
      ]
    },
    {
      "cell_type": "code",
      "metadata": {
        "id": "uqIiWS7Pj3PP",
        "outputId": "8174cecb-2746-4685-ebf8-b8268c934382",
        "colab": {
          "base_uri": "https://localhost:8080/",
          "height": 36
        }
      },
      "source": [
        "def filter_vowels(string):\n",
        "    return ' '.join([letter for letter in string \n",
        "                     if letter not in ['a', 'e', 'i', 'o', 'u']])\n",
        "\n",
        "filter_vowels(\"mnbvcxzlkjhgfdsapoiuytrewq\")"
      ],
      "execution_count": 30,
      "outputs": [
        {
          "output_type": "execute_result",
          "data": {
            "application/vnd.google.colaboratory.intrinsic+json": {
              "type": "string"
            },
            "text/plain": [
              "'m n b v c x z l k j h g f d s p y t r w q'"
            ]
          },
          "metadata": {
            "tags": []
          },
          "execution_count": 30
        }
      ]
    },
    {
      "cell_type": "markdown",
      "metadata": {
        "id": "W5fyg3LnkJ9S"
      },
      "source": [
        "3. acts like a ReLU function for a 1D array"
      ]
    },
    {
      "cell_type": "code",
      "metadata": {
        "id": "F1rLbok_kLyi",
        "outputId": "81e7cbf6-fca6-45ca-cbce-ac68c5c27719",
        "colab": {
          "base_uri": "https://localhost:8080/"
        }
      },
      "source": [
        "def ReLU(list1):\n",
        "    return [max(0,ele) for ele in list1]\n",
        "\n",
        "ReLU(range(-10,10))"
      ],
      "execution_count": 12,
      "outputs": [
        {
          "output_type": "execute_result",
          "data": {
            "text/plain": [
              "[0, 0, 0, 0, 0, 0, 0, 0, 0, 0, 0, 1, 2, 3, 4, 5, 6, 7, 8, 9]"
            ]
          },
          "metadata": {
            "tags": []
          },
          "execution_count": 12
        }
      ]
    },
    {
      "cell_type": "markdown",
      "metadata": {
        "id": "xsQxetc-kS0J"
      },
      "source": [
        "4. acts like a sigmoid function for a 1D array"
      ]
    },
    {
      "cell_type": "code",
      "metadata": {
        "id": "PUanc5zVkPYK",
        "outputId": "29cd5b1e-f872-42f5-d3e0-c533560c07e4",
        "colab": {
          "base_uri": "https://localhost:8080/"
        }
      },
      "source": [
        "import numpy as np\n",
        "def sigmoid(list1):\n",
        "    return [round(1 / (1 + np.exp(-ele)), 5) for ele in list1]\n",
        "\n",
        "sigmoid(np.arange(-1,1,0.2))\n",
        "\n"
      ],
      "execution_count": 13,
      "outputs": [
        {
          "output_type": "execute_result",
          "data": {
            "text/plain": [
              "[0.26894,\n",
              " 0.31003,\n",
              " 0.35434,\n",
              " 0.40131,\n",
              " 0.45017,\n",
              " 0.5,\n",
              " 0.54983,\n",
              " 0.59869,\n",
              " 0.64566,\n",
              " 0.68997]"
            ]
          },
          "metadata": {
            "tags": []
          },
          "execution_count": 13
        }
      ]
    },
    {
      "cell_type": "markdown",
      "metadata": {
        "id": "_-4-NNDJkarv"
      },
      "source": [
        "5. takes a small character string and shifts all characters by 5 (handle boundary conditions) tsai>>yxfn\n",
        "\n"
      ]
    },
    {
      "cell_type": "code",
      "metadata": {
        "id": "s_DBnOzckdfQ",
        "outputId": "0d3c3a7c-b69a-483f-b69c-e2f255d6bdaf",
        "colab": {
          "base_uri": "https://localhost:8080/",
          "height": 36
        }
      },
      "source": [
        "import string\n",
        "alp = string.ascii_lowercase\n",
        "def shift_str(string1):\n",
        "    return ''.join([alp[(alp.index(letter) + 5) % 26] for letter in string1])\n",
        "\n",
        "shift_str('abctsai')"
      ],
      "execution_count": 15,
      "outputs": [
        {
          "output_type": "execute_result",
          "data": {
            "application/vnd.google.colaboratory.intrinsic+json": {
              "type": "string"
            },
            "text/plain": [
              "'fghyxfn'"
            ]
          },
          "metadata": {
            "tags": []
          },
          "execution_count": 15
        }
      ]
    },
    {
      "cell_type": "markdown",
      "metadata": {
        "id": "UqECq3jckoJa"
      },
      "source": [
        "3. A list comprehension expression that takes a ~200 word paragraph (write your own paragraph to check), and checks whether it has any of the swear words mentioned here"
      ]
    },
    {
      "cell_type": "code",
      "metadata": {
        "id": "Gyye7qoRkx-2"
      },
      "source": [
        "import re\n",
        "import string\n",
        "\n",
        "!wget -q https://raw.githubusercontent.com/RobertJGabriel/Google-profanity-words/master/list.txt\n",
        "\n",
        "with open(\"list.txt\", \"r\") as f:\n",
        "    swearwords = f.readlines()\n",
        "swearwords = [word.strip() for word in swearwords]\n",
        "\n",
        "def check_swearwords(para, swearwords):\n",
        "    \"\"\"\n",
        "        Returns True if there are any swear words, else False\n",
        "    \"\"\"\n",
        "    preprocessed = map(lambda x:x.lower(), re.split('\\W+', para))\n",
        "    return any([word in swearwords for word in preprocessed])"
      ],
      "execution_count": 16,
      "outputs": []
    },
    {
      "cell_type": "code",
      "metadata": {
        "id": "VHH25k1-ku9Z",
        "outputId": "4ecf1272-5759-4525-e124-055cf2380305",
        "colab": {
          "base_uri": "https://localhost:8080/"
        }
      },
      "source": [
        "para = \"\"\"The influential 19th century novel Little Women by Louisa May Alcott expresses didactic tendencies, \n",
        "as well as qualities of sentimentalism, allowing it to be a compelling read for adolescent audiences.\n",
        "Following the story of the March sisters, readers track the growth and maturity of Alcott’s characters. \n",
        "Our first experience of the transition into adulthood being the oldest March sister, Meg. \n",
        "In this paper, we will study the text of Meg’s early stages of her marriage to Mr. Brooke to see her transition into the adult world \n",
        "catalyzed by her own marriage which is used as a showcase of her maturity and growth, \n",
        "leading to her becoming a mother.\"\"\"\n",
        "\n",
        "check_swearwords(para, swearwords)"
      ],
      "execution_count": 18,
      "outputs": [
        {
          "output_type": "execute_result",
          "data": {
            "text/plain": [
              "False"
            ]
          },
          "metadata": {
            "tags": []
          },
          "execution_count": 18
        }
      ]
    },
    {
      "cell_type": "markdown",
      "metadata": {
        "id": "Ihh4OsTVmfW6"
      },
      "source": [
        "4. Using reduce functions:"
      ]
    },
    {
      "cell_type": "markdown",
      "metadata": {
        "id": "SrkMPmsCmoL-"
      },
      "source": [
        "1. add only even numbers in a list"
      ]
    },
    {
      "cell_type": "code",
      "metadata": {
        "id": "0KDyO6nGmf7k",
        "outputId": "49a138ce-b86f-4543-bd58-bed718f03256",
        "colab": {
          "base_uri": "https://localhost:8080/"
        }
      },
      "source": [
        "from functools import reduce\n",
        "def add_even(list1):\n",
        "    return reduce(lambda a, b: (a+b) if (a % 2 == 0 and b % 2 == 0) \n",
        "                                     else (b if a % 2 == 1 else a), list1 )\n",
        "\n",
        "add_even([5,6,7,8,9,10])\n",
        "\n"
      ],
      "execution_count": 19,
      "outputs": [
        {
          "output_type": "execute_result",
          "data": {
            "text/plain": [
              "24"
            ]
          },
          "metadata": {
            "tags": []
          },
          "execution_count": 19
        }
      ]
    },
    {
      "cell_type": "markdown",
      "metadata": {
        "id": "qiEvttISmrgY"
      },
      "source": [
        "2. find the biggest character in a string (printable ascii characters)"
      ]
    },
    {
      "cell_type": "code",
      "metadata": {
        "id": "19sHIaibmjDw",
        "outputId": "9f3236c5-c549-4b76-dc9c-650cd5021d06",
        "colab": {
          "base_uri": "https://localhost:8080/",
          "height": 36
        }
      },
      "source": [
        "def big_char(string):\n",
        "    return chr(reduce(lambda x, y: x if x > y \n",
        "                                     else y, [ord(c) for c in string]))\n",
        "\n",
        "big_char(\"aaHHHK$%^##~\")"
      ],
      "execution_count": 20,
      "outputs": [
        {
          "output_type": "execute_result",
          "data": {
            "application/vnd.google.colaboratory.intrinsic+json": {
              "type": "string"
            },
            "text/plain": [
              "'~'"
            ]
          },
          "metadata": {
            "tags": []
          },
          "execution_count": 20
        }
      ]
    },
    {
      "cell_type": "markdown",
      "metadata": {
        "id": "_1qN1hWImu5x"
      },
      "source": [
        "3. adds every 3rd number in a list"
      ]
    },
    {
      "cell_type": "code",
      "metadata": {
        "id": "MuZGGaG_mk8w",
        "outputId": "31f5e98b-115f-4bc6-8bef-ba1860115561",
        "colab": {
          "base_uri": "https://localhost:8080/"
        }
      },
      "source": [
        "def add_third(list1):\n",
        "    list1 = list1.copy()  # keeping a copy to not change the original list\n",
        "    list1.insert(0,0)     # Insert 0 at the start to suit the folding logic\n",
        "    return reduce(lambda a, b: a+b if (list1.index(b) % 3 == 0) \n",
        "                                   else a, list1)\n",
        "\n",
        "add_third([5,6,7,8,9,10])"
      ],
      "execution_count": 22,
      "outputs": [
        {
          "output_type": "execute_result",
          "data": {
            "text/plain": [
              "17"
            ]
          },
          "metadata": {
            "tags": []
          },
          "execution_count": 22
        }
      ]
    },
    {
      "cell_type": "markdown",
      "metadata": {
        "id": "XSFnEzCYm4db"
      },
      "source": [
        "5. Using randint, random.choice and list comprehensions, write an expression that generates 15 random KADDAADDDD number plates, where KA is fixed, D stands for a digit, and A stands for Capital alphabets. 10<<DD<<99 & 1000<<DDDD<<9999"
      ]
    },
    {
      "cell_type": "code",
      "metadata": {
        "id": "mHTltIdTnaN-",
        "outputId": "6a381114-3aa5-49ee-f9cc-70df405959bd",
        "colab": {
          "base_uri": "https://localhost:8080/"
        }
      },
      "source": [
        "import random\n",
        "import string\n",
        "uc_alp = string.ascii_uppercase\n",
        "\n",
        "def generate_reg_nos(n):\n",
        "    return [\"KA {} {} {}\".format(random.randint(10,99), \n",
        "                              random.choice(uc_alp)+random.choice(uc_alp), \n",
        "                              random.randint(1000,9999)) \n",
        "            for _ in range(n)]\n",
        "\n",
        "generate_reg_nos(15)"
      ],
      "execution_count": 26,
      "outputs": [
        {
          "output_type": "execute_result",
          "data": {
            "text/plain": [
              "['KA 14 XM 7139',\n",
              " 'KA 95 DQ 2535',\n",
              " 'KA 46 VT 6234',\n",
              " 'KA 84 GC 1669',\n",
              " 'KA 45 XW 7386',\n",
              " 'KA 43 AW 9122',\n",
              " 'KA 51 AK 6787',\n",
              " 'KA 90 XD 3802',\n",
              " 'KA 15 JG 1632',\n",
              " 'KA 92 LI 9780',\n",
              " 'KA 98 ER 9894',\n",
              " 'KA 22 YK 2822',\n",
              " 'KA 17 FA 5803',\n",
              " 'KA 65 RA 1214',\n",
              " 'KA 30 UF 5386']"
            ]
          },
          "metadata": {
            "tags": []
          },
          "execution_count": 26
        }
      ]
    },
    {
      "cell_type": "markdown",
      "metadata": {
        "id": "HxlqqAycnfBE"
      },
      "source": [
        "\n",
        "6. Write the above again from scratch where KA can be changed to DL, and 1000/9999 ranges can be provided.\n"
      ]
    },
    {
      "cell_type": "code",
      "metadata": {
        "id": "ROVVqUd9ndAC",
        "outputId": "3d255e93-d9a4-4645-f36a-571619ceaf1d",
        "colab": {
          "base_uri": "https://localhost:8080/"
        }
      },
      "source": [
        "import random\n",
        "import string\n",
        "uc_alp = string.ascii_uppercase\n",
        "\n",
        "def generate_reg_nos(n, state=\"KA\" ,start=1000, end=9999):\n",
        "    return [\"{} {} {} {}\".format(state,\n",
        "                              random.randint(10,99), \n",
        "                              random.choice(uc_alp)+random.choice(uc_alp), \n",
        "                              random.randint(start,end)) \n",
        "            for _ in range(n)]\n",
        "\n",
        "generate_reg_nos(25, \"DL\", 5000, 5500)"
      ],
      "execution_count": 25,
      "outputs": [
        {
          "output_type": "execute_result",
          "data": {
            "text/plain": [
              "['DL 28 CL 5295',\n",
              " 'DL 43 MU 5363',\n",
              " 'DL 85 JB 5442',\n",
              " 'DL 65 NC 5308',\n",
              " 'DL 64 FZ 5055',\n",
              " 'DL 73 OD 5296',\n",
              " 'DL 88 NS 5396',\n",
              " 'DL 94 SP 5437',\n",
              " 'DL 48 GL 5272',\n",
              " 'DL 86 EB 5065',\n",
              " 'DL 96 AB 5345',\n",
              " 'DL 46 GG 5122',\n",
              " 'DL 80 DG 5234',\n",
              " 'DL 80 BH 5395',\n",
              " 'DL 68 ES 5166',\n",
              " 'DL 46 ZM 5372',\n",
              " 'DL 12 KI 5060',\n",
              " 'DL 73 ZL 5083',\n",
              " 'DL 50 NN 5229',\n",
              " 'DL 11 JA 5463',\n",
              " 'DL 55 ZB 5068',\n",
              " 'DL 54 BQ 5030',\n",
              " 'DL 92 WH 5041',\n",
              " 'DL 58 YZ 5337',\n",
              " 'DL 39 CN 5093']"
            ]
          },
          "metadata": {
            "tags": []
          },
          "execution_count": 25
        }
      ]
    }
  ]
}