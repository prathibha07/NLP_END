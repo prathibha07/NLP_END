{
  "nbformat": 4,
  "nbformat_minor": 0,
  "metadata": {
    "colab": {
      "name": "END_S10_FINAL.ipynb",
      "provenance": [],
      "collapsed_sections": []
    },
    "kernelspec": {
      "name": "python3",
      "display_name": "Python 3"
    },
    "accelerator": "GPU"
  },
  "cells": [
    {
      "cell_type": "code",
      "metadata": {
        "id": "9ow39roLJlgF"
      },
      "source": [
        "%%bash\r\n",
        "python -m spacy download fr\r\n",
        "python -m spacy download de"
      ],
      "execution_count": null,
      "outputs": []
    },
    {
      "cell_type": "code",
      "metadata": {
        "id": "CxG_yfuoG-MG"
      },
      "source": [
        "import torch\r\n",
        "import torch.nn as nn\r\n",
        "import torch.optim as optim\r\n",
        "\r\n",
        "from torchtext.datasets import Multi30k\r\n",
        "from torchtext.data import Field, BucketIterator\r\n",
        "\r\n",
        "import spacy\r\n",
        "import numpy as np\r\n",
        "\r\n",
        "import random\r\n",
        "import math\r\n",
        "import time"
      ],
      "execution_count": null,
      "outputs": []
    },
    {
      "cell_type": "code",
      "metadata": {
        "id": "a3GzFkzMH7va"
      },
      "source": [
        "SEED = 1234\r\n",
        "\r\n",
        "random.seed(SEED)\r\n",
        "np.random.seed(SEED)\r\n",
        "torch.manual_seed(SEED)\r\n",
        "torch.cuda.manual_seed(SEED)\r\n",
        "torch.backends.cudnn.deterministic = True"
      ],
      "execution_count": null,
      "outputs": []
    },
    {
      "cell_type": "markdown",
      "metadata": {
        "id": "8tQRRNBBIf1l"
      },
      "source": [
        "Instantiate our German and English spaCy models."
      ]
    },
    {
      "cell_type": "code",
      "metadata": {
        "id": "rVRr-afoIXkV"
      },
      "source": [
        "spacy_de = spacy.load('de')\r\n",
        "spacy_en = spacy.load('en')"
      ],
      "execution_count": null,
      "outputs": []
    },
    {
      "cell_type": "markdown",
      "metadata": {
        "id": "08J1qK0wIocH"
      },
      "source": [
        "Previously we reversed the source (German) sentence, however in the paper we are implementing they don't do this, so neither will we."
      ]
    },
    {
      "cell_type": "code",
      "metadata": {
        "id": "7rB1yeYsIri1"
      },
      "source": [
        "def tokenize_de(text):\r\n",
        "    \"\"\"\r\n",
        "    Tokenizes German text from a string into a list of strings\r\n",
        "    \"\"\"\r\n",
        "    return [tok.text for tok in spacy_de.tokenizer(text)]\r\n",
        "\r\n",
        "def tokenize_en(text):\r\n",
        "    \"\"\"\r\n",
        "    Tokenizes English text from a string into a list of strings\r\n",
        "    \"\"\"\r\n",
        "    return [tok.text for tok in spacy_en.tokenizer(text)]"
      ],
      "execution_count": null,
      "outputs": []
    },
    {
      "cell_type": "markdown",
      "metadata": {
        "id": "4MPGQI-DIunC"
      },
      "source": [
        "Create our fields to process our data. This will append the \"start of sentence\" and \"end of sentence\" tokens as well as converting all words to lowercase"
      ]
    },
    {
      "cell_type": "code",
      "metadata": {
        "id": "gOYCxKzcIvWu"
      },
      "source": [
        "SRC = Field(tokenize=tokenize_de, \r\n",
        "            init_token='<sos>', \r\n",
        "            eos_token='<eos>', \r\n",
        "            lower=True)\r\n",
        "\r\n",
        "TRG = Field(tokenize = tokenize_en, \r\n",
        "            init_token='<sos>', \r\n",
        "            eos_token='<eos>', \r\n",
        "            lower=True)"
      ],
      "execution_count": null,
      "outputs": []
    },
    {
      "cell_type": "markdown",
      "metadata": {
        "id": "uojg5UgbI2RH"
      },
      "source": [
        "Load our data."
      ]
    },
    {
      "cell_type": "code",
      "metadata": {
        "id": "vukD0jaWI3Kx",
        "colab": {
          "base_uri": "https://localhost:8080/"
        },
        "outputId": "32cbe4a4-081e-4fdc-a051-3ce1a5fb0b70"
      },
      "source": [
        "train_data, valid_data, test_data = Multi30k.splits(exts = ('.de', '.en'), \r\n",
        "                                                    fields = (SRC, TRG))"
      ],
      "execution_count": null,
      "outputs": [
        {
          "output_type": "stream",
          "text": [
            "downloading training.tar.gz\n"
          ],
          "name": "stdout"
        },
        {
          "output_type": "stream",
          "text": [
            "training.tar.gz: 100%|██████████| 1.21M/1.21M [00:01<00:00, 973kB/s]\n"
          ],
          "name": "stderr"
        },
        {
          "output_type": "stream",
          "text": [
            "downloading validation.tar.gz\n"
          ],
          "name": "stdout"
        },
        {
          "output_type": "stream",
          "text": [
            "validation.tar.gz: 100%|██████████| 46.3k/46.3k [00:00<00:00, 273kB/s]\n"
          ],
          "name": "stderr"
        },
        {
          "output_type": "stream",
          "text": [
            "downloading mmt_task1_test2016.tar.gz\n"
          ],
          "name": "stdout"
        },
        {
          "output_type": "stream",
          "text": [
            "mmt_task1_test2016.tar.gz: 100%|██████████| 66.2k/66.2k [00:00<00:00, 267kB/s]\n"
          ],
          "name": "stderr"
        }
      ]
    },
    {
      "cell_type": "code",
      "metadata": {
        "id": "awNCaDYOuVmU",
        "colab": {
          "base_uri": "https://localhost:8080/"
        },
        "outputId": "a8f9f8cc-3dd9-425e-c260-74dfbc2425ce"
      },
      "source": [
        "print(f\"Number of training examples: {len(train_data.examples)}\")\r\n",
        "print(f\"Number of validation examples: {len(valid_data.examples)}\")\r\n",
        "print(f\"Number of testing examples: {len(test_data.examples)}\")"
      ],
      "execution_count": null,
      "outputs": [
        {
          "output_type": "stream",
          "text": [
            "Number of training examples: 29000\n",
            "Number of validation examples: 1014\n",
            "Number of testing examples: 1000\n"
          ],
          "name": "stdout"
        }
      ]
    },
    {
      "cell_type": "markdown",
      "metadata": {
        "id": "RIEv0DQkJAfV"
      },
      "source": [
        "We'll also print out an example just to double check they're not reversed.\r\n"
      ]
    },
    {
      "cell_type": "code",
      "metadata": {
        "id": "Fuo4K5lkJFCj",
        "colab": {
          "base_uri": "https://localhost:8080/"
        },
        "outputId": "4428840e-12ec-4c4d-ebc9-9fdb2b6b0eea"
      },
      "source": [
        "print(vars(train_data.examples[0]))"
      ],
      "execution_count": null,
      "outputs": [
        {
          "output_type": "stream",
          "text": [
            "{'src': ['zwei', 'junge', 'weiße', 'männer', 'sind', 'im', 'freien', 'in', 'der', 'nähe', 'vieler', 'büsche', '.'], 'trg': ['two', 'young', ',', 'white', 'males', 'are', 'outside', 'near', 'many', 'bushes', '.']}\n"
          ],
          "name": "stdout"
        }
      ]
    },
    {
      "cell_type": "markdown",
      "metadata": {
        "id": "06v1ciCfJJOz"
      },
      "source": [
        "Then create our vocabulary, converting all tokens appearing less than twice into `<unk>` tokens."
      ]
    },
    {
      "cell_type": "code",
      "metadata": {
        "id": "JnHdytbQJJ0m"
      },
      "source": [
        "SRC.build_vocab(train_data, min_freq = 2)\r\n",
        "TRG.build_vocab(train_data, min_freq = 2)"
      ],
      "execution_count": null,
      "outputs": []
    },
    {
      "cell_type": "markdown",
      "metadata": {
        "id": "3kBYuVu-JMjs"
      },
      "source": [
        "Finally, define the device and create our iterators.\r\n"
      ]
    },
    {
      "cell_type": "code",
      "metadata": {
        "id": "YIDyooKGJQNJ"
      },
      "source": [
        "device = torch.device('cuda' if torch.cuda.is_available() else 'cpu')"
      ],
      "execution_count": null,
      "outputs": []
    },
    {
      "cell_type": "code",
      "metadata": {
        "id": "F23fRV1_JUjl",
        "colab": {
          "base_uri": "https://localhost:8080/"
        },
        "outputId": "32db17f2-28a9-4dc3-8578-bdac1cfa4bfa"
      },
      "source": [
        "BATCH_SIZE = 128\r\n",
        "\r\n",
        "train_iterator, valid_iterator, test_iterator = BucketIterator.splits(\r\n",
        "    (train_data, valid_data, test_data), \r\n",
        "    batch_size = BATCH_SIZE, \r\n",
        "    device = device)\r\n",
        "print(device)"
      ],
      "execution_count": null,
      "outputs": [
        {
          "output_type": "stream",
          "text": [
            "cuda\n"
          ],
          "name": "stdout"
        }
      ]
    },
    {
      "cell_type": "code",
      "metadata": {
        "id": "AMkQU5I7uiFq"
      },
      "source": [
        "# import pickle\r\n",
        "# with open('source.pkl', 'wb') as src_tokens: \r\n",
        "#   pickle.dump(SRC.vocab.stoi, src_tokens)\r\n",
        "# with open('target_stoi.pkl','wb') as trg_tokens:\r\n",
        "#   pickle.dump(TRG.vocab.stoi,trg_tokens)\r\n",
        "\r\n",
        "# with open('target_itos.pkl','wb') as trg_tokens:\r\n",
        "#   pickle.dump(TRG.vocab.itos,trg_tokens)"
      ],
      "execution_count": null,
      "outputs": []
    },
    {
      "cell_type": "markdown",
      "metadata": {
        "id": "lTEu34x1njkD"
      },
      "source": [
        "## Building the Seq2Seq Model\r\n",
        "\r\n",
        "### Encoder\r\n"
      ]
    },
    {
      "cell_type": "code",
      "metadata": {
        "id": "5HXcY_06ncY0"
      },
      "source": [
        "class Encoder(nn.Module):\r\n",
        "    def __init__(self, input_dim, emb_dim, enc_hid_dim, dec_hid_dim, dropout ):\r\n",
        "        super().__init__()\r\n",
        "        #self.hid_dim = enc_hid_dim\r\n",
        "        self.embedding = nn.Embedding(input_dim, emb_dim) #no dropout as only one layer!\r\n",
        "        \r\n",
        "        self.rnn = nn.GRU(emb_dim, enc_hid_dim, bidirectional=True)\r\n",
        "        self.fc =  nn.Linear (enc_hid_dim*2, dec_hid_dim)\r\n",
        "        \r\n",
        "        self.dropout = nn.Dropout(dropout)\r\n",
        "\r\n",
        "        \r\n",
        "    def forward(self, src):\r\n",
        "\r\n",
        "        #src = [src len, batch size]\r\n",
        "        \r\n",
        "        embedding = self.dropout(self.embedding(src))\r\n",
        "        #embedded = [src len, batch size, emb dim]\r\n",
        "\r\n",
        "        outputs, hidden = self.rnn(embedding)\r\n",
        "        #outputs = [src len, batch size, hid dim * n directions]  n directions = 2- forward& backward\r\n",
        "        #hidden = [n layers * n directions, batch size, hid dim]\r\n",
        "\r\n",
        "        #outputs, hidden = self.rnn(embedded) #no cell state!\r\n",
        "        #outputs are always from the top hidden layer\r\n",
        "        hidden = torch.tanh(self.fc(torch.cat((hidden[-2,:,:], hidden[-1,:,:]), dim = 1))) #  #excess to backward and in rows\r\n",
        "        #outputs = [src len, batch size, hid dim * 2]\r\n",
        "        #hidden = [batch size, dec hid dim]\r\n",
        "        print(\"****** \", hidden.shape)\r\n",
        "        return outputs, hidden"
      ],
      "execution_count": null,
      "outputs": []
    },
    {
      "cell_type": "code",
      "metadata": {
        "id": "En6mkoyfFgNF"
      },
      "source": [
        "enc = Encoder (input_dim = 32, \r\n",
        "               emb_dim = 256, \r\n",
        "               enc_hid_dim = 512, \r\n",
        "               dec_hid_dim = 512, \r\n",
        "               dropout = 0.1)"
      ],
      "execution_count": null,
      "outputs": []
    },
    {
      "cell_type": "code",
      "metadata": {
        "id": "qssLWZHpJEtH",
        "colab": {
          "base_uri": "https://localhost:8080/"
        },
        "outputId": "960fc528-1a32-49f1-8798-8a01b0d579b5"
      },
      "source": [
        "embedding, output = enc.forward(torch.zeros(12,32).to(torch.int64)) # sentence of length 12,batch 32\r\n",
        "embedding.size(), output.size()\r\n",
        "# o1, o2  = output\r\n",
        "# o1.size(), o2.size(), fc.size() # shape \r\n",
        "\r\n"
      ],
      "execution_count": null,
      "outputs": [
        {
          "output_type": "stream",
          "text": [
            "******  torch.Size([32, 512])\n"
          ],
          "name": "stdout"
        },
        {
          "output_type": "execute_result",
          "data": {
            "text/plain": [
              "(torch.Size([12, 32, 1024]), torch.Size([32, 512]))"
            ]
          },
          "metadata": {
            "tags": []
          },
          "execution_count": 16
        }
      ]
    },
    {
      "cell_type": "code",
      "metadata": {
        "id": "9mjHaFm6Ywk1"
      },
      "source": [
        "from pdb import set_trace as bp\r\n"
      ],
      "execution_count": null,
      "outputs": []
    },
    {
      "cell_type": "code",
      "metadata": {
        "id": "FsycnfkZz5IS"
      },
      "source": [
        "class Attention(nn.Module):\r\n",
        "    def __init__(self, enc_hid_dim, dec_hid_dim):\r\n",
        "        super().__init__()\r\n",
        "        \r\n",
        "        self.attn = nn.Linear((enc_hid_dim * 2) + dec_hid_dim, dec_hid_dim)\r\n",
        "        self.v = nn.Linear(dec_hid_dim, 1, bias = False)\r\n",
        "        \r\n",
        "    def forward(self, hidden, encoder_outputs):\r\n",
        "        \r\n",
        "        #hidden = [batch size, dec hid dim]\r\n",
        "        #encoder_outputs = [src len, batch size, enc hid dim * 2]\r\n",
        "        \r\n",
        "        batch_size = encoder_outputs.shape[1]\r\n",
        "        src_len = encoder_outputs.shape[0]\r\n",
        "        \r\n",
        "        #repeat decoder hidden state src_len times\r\n",
        "        hidden = hidden.unsqueeze(1).repeat(1, src_len, 1)\r\n",
        "        \r\n",
        "        encoder_outputs = encoder_outputs.permute(1, 0, 2)\r\n",
        "        \r\n",
        "        #hidden = [batch size, src len, dec hid dim]\r\n",
        "        #encoder_outputs = [batch size, src len, enc hid dim * 2]\r\n",
        "        \r\n",
        "        energy = torch.tanh(self.attn(torch.cat((hidden, encoder_outputs), dim = 2))) \r\n",
        "        \r\n",
        "        #energy = [batch size, src len, dec hid dim]\r\n",
        "\r\n",
        "        attention = self.v(energy).squeeze(2)\r\n",
        "        \r\n",
        "        #attention= [batch size, src len]\r\n",
        "        \r\n",
        "        return F.softmax(attention, dim=1)"
      ],
      "execution_count": null,
      "outputs": []
    },
    {
      "cell_type": "code",
      "metadata": {
        "id": "B-bQOuHzF4q8"
      },
      "source": [
        "# # class Attention(nn.Module):\r\n",
        "# #     def __init__(self,  emb_dim, enc_hid_dim, dec_hid_dim, dropout ):\r\n",
        "# #         super().__init__()\r\n",
        "# #         self.attn =  nn.Linear ((enc_hid_dim*2)+ dec_hid_dim, dec_hid_dim ))\r\n",
        "# #         self.v = nn.Linear(dec_hid_dim,1, bias= False)\r\n",
        "\r\n",
        "# class Attention(nn.Module):\r\n",
        "#     def __init__(self, enc_hid_dim, dec_hid_dim):\r\n",
        "#         super().__init__()\r\n",
        "        \r\n",
        "#         self.attn = nn.Linear((enc_hid_dim * 2) + dec_hid_dim, dec_hid_dim)\r\n",
        "#         self.v = nn.Linear(dec_hid_dim, 1, bias = False)\r\n",
        "\r\n",
        "#     def forward(self,hidden, encoder_outputs):\r\n",
        "#       #hidden here is decoder st-1\r\n",
        "#       src_len = encoder_outputs.shape[0]\r\n",
        "\r\n",
        "#       #hidden = [batchsize, dec_hi_dim]\r\n",
        "#       hidden = hidden.unsqueeze(1).repeat(1,src_len,1)\r\n",
        "      \r\n",
        "#       #encoder_outputs = [src len, batch size, enc hid dim * 2]\r\n",
        "#       encoder_outputs = encoder_outputs.permute(1,0,2)\r\n",
        "\r\n",
        "#       #hidden = [batchsize, src_len, dec_hi_dim]\r\n",
        "#       #encoder_outputs = [batch size, src_len, enc hid dim * 2]\r\n",
        "#       bp()\r\n",
        "#       energy = torch.tanh(self.attn(torch.cat((hidden, encoder_outputs)), dim=2))\r\n",
        "#       # energy = [batchsize, src_len, dec_hi_dim]\r\n",
        "#       attention = self.v(energy).squeeze(2)\r\n",
        "#       # hidden = [batchsize, src_len]\r\n",
        "\r\n",
        "#       return F.softmax(attention, dim=1)\r\n",
        "\r\n",
        "\r\n"
      ],
      "execution_count": null,
      "outputs": []
    },
    {
      "cell_type": "markdown",
      "metadata": {
        "id": "kHZtBU-DT92v"
      },
      "source": [
        "trial checks"
      ]
    },
    {
      "cell_type": "code",
      "metadata": {
        "colab": {
          "base_uri": "https://localhost:8080/"
        },
        "id": "1Gj6rXERnScb",
        "outputId": "c1dad397-e848-451a-fa6a-3b889af64b86"
      },
      "source": [
        "outputs, hidden = enc.forward(torch.zeros(12,32).to(torch.int64))"
      ],
      "execution_count": null,
      "outputs": [
        {
          "output_type": "stream",
          "text": [
            "******  torch.Size([32, 512])\n"
          ],
          "name": "stdout"
        }
      ]
    },
    {
      "cell_type": "code",
      "metadata": {
        "id": "myRsLCwfHqKl",
        "colab": {
          "base_uri": "https://localhost:8080/"
        },
        "outputId": "9d1b226d-c409-40e8-d162-c79391fcb0a2"
      },
      "source": [
        "outputs.size(), hidden.size()\r\n",
        "#input_dim = 32, \r\n",
        "  #             emb_dim = 256, \r\n",
        " #              enc_hid_dim = 512, \r\n",
        "  #             dec_hid_dim = 512, \r\n",
        "  #             dropout = 0.1"
      ],
      "execution_count": null,
      "outputs": [
        {
          "output_type": "execute_result",
          "data": {
            "text/plain": [
              "(torch.Size([12, 32, 1024]), torch.Size([32, 512]))"
            ]
          },
          "metadata": {
            "tags": []
          },
          "execution_count": 21
        }
      ]
    },
    {
      "cell_type": "code",
      "metadata": {
        "id": "mg5t_VdyHu5v",
        "colab": {
          "base_uri": "https://localhost:8080/"
        },
        "outputId": "43a12490-39f3-4e1d-cbdd-bda6b94652d9"
      },
      "source": [
        "s_hidden = hidden\r\n",
        "s_hidden.size()"
      ],
      "execution_count": null,
      "outputs": [
        {
          "output_type": "execute_result",
          "data": {
            "text/plain": [
              "torch.Size([32, 512])"
            ]
          },
          "metadata": {
            "tags": []
          },
          "execution_count": 22
        }
      ]
    },
    {
      "cell_type": "code",
      "metadata": {
        "id": "OEAsB-fcIYJm",
        "colab": {
          "base_uri": "https://localhost:8080/"
        },
        "outputId": "cb6f4461-48b2-487f-dc77-b44d4bc975b4"
      },
      "source": [
        "#s_hidden = s_hidden.repeat(1,12,1)\r\n",
        "s_hidden = s_hidden.unsqueeze(1).repeat(1,12,1)\r\n",
        "s_hidden.size()"
      ],
      "execution_count": null,
      "outputs": [
        {
          "output_type": "execute_result",
          "data": {
            "text/plain": [
              "torch.Size([32, 12, 512])"
            ]
          },
          "metadata": {
            "tags": []
          },
          "execution_count": 23
        }
      ]
    },
    {
      "cell_type": "code",
      "metadata": {
        "id": "3Xo5EXcUI8ce",
        "colab": {
          "base_uri": "https://localhost:8080/"
        },
        "outputId": "f17e7dc5-9f48-4792-e592-61ae763c0a26"
      },
      "source": [
        "outputs.size()\r\n",
        "outputs.permute(1,0,2).size()\r\n"
      ],
      "execution_count": null,
      "outputs": [
        {
          "output_type": "execute_result",
          "data": {
            "text/plain": [
              "torch.Size([32, 12, 1024])"
            ]
          },
          "metadata": {
            "tags": []
          },
          "execution_count": 24
        }
      ]
    },
    {
      "cell_type": "code",
      "metadata": {
        "id": "sJsyfSDVqs9o"
      },
      "source": [
        "from pdb import set_trace as bp"
      ],
      "execution_count": null,
      "outputs": []
    },
    {
      "cell_type": "markdown",
      "metadata": {
        "id": "LG8IxOeaT_-Z"
      },
      "source": [
        "Decoder"
      ]
    },
    {
      "cell_type": "code",
      "metadata": {
        "id": "HEveZ9JcUCEW"
      },
      "source": [
        "class Decoder(nn.Module):\r\n",
        "    def __init__(self, output_dim, emb_dim, enc_hid_dim, dec_hid_dim, dropout,attention):\r\n",
        "        super().__init__()\r\n",
        "        self.attention = attention\r\n",
        "        #self.hid_dim = dec_hid_dim\r\n",
        "        self.output_dim = output_dim\r\n",
        "        self.embedding = nn.Embedding(output_dim, emb_dim)\r\n",
        "        self.rnn = nn.GRU((enc_hid_dim*2)+ emb_dim, dec_hid_dim)\r\n",
        "        self.fc_out = nn.Linear((enc_hid_dim*2) + emb_dim + dec_hid_dim, output_dim )\r\n",
        "        self.dropout = nn.Dropout(dropout)           \r\n",
        "        \r\n",
        "    def forward(self, input, hidden, encoder_outputs):\r\n",
        "        #input = [batch size]\r\n",
        "        input = input.unsqueeze(0)\r\n",
        "        #input = [1, batch size]\r\n",
        "        embedded = self.dropout(self.embedding(input))\r\n",
        "        #input = [1, batch size,emb_dim]\r\n",
        "        a = self.attention(hidden, encoder_outputs)\r\n",
        "        #input = [batch size,1, src_len]\r\n",
        "        \r\n",
        "        #a = [batch size, src len]\r\n",
        "        \r\n",
        "        a = a.unsqueeze(1)\r\n",
        "        encoder_outputs = encoder_outputs.permute(1,0,2)\r\n",
        "        # encoder_outputs = [batch size, src_len, enc hid dim *2 ]\r\n",
        "\r\n",
        "        weighted = torch.bmm(a, encoder_outputs)\r\n",
        "        # weighted = [batch size, 1,  enc hid dim *2]\r\n",
        "\r\n",
        "        weighted = weighted.permute(1, 0, 2)\r\n",
        "        \r\n",
        "        #weighted = [1, batch size, enc hid dim * 2]\r\n",
        "        \r\n",
        "        rnn_input = torch.cat((embedded, weighted), dim = 2)\r\n",
        "        \r\n",
        "        #rnn_input = [1, batch size, (enc hid dim * 2) + emb dim]\r\n",
        "\r\n",
        "        output, hidden = self.rnn(rnn_input, hidden.unsqueeze(0))\r\n",
        "        #output = [seq len, batch size, dec hid dim * n directions]\r\n",
        "        #hidden = [n layers * n directions, batch size, dec hid dim]\r\n",
        "        \r\n",
        "        #seq len, n layers and n directions will always be 1 in this decoder, therefore:\r\n",
        "        #output = [1, batch size, dec hid dim]\r\n",
        "        #hidden = [1, batch size, dec hid dim]\r\n",
        "\r\n",
        "        #this also means that output == hidden\r\n",
        "        assert (output == hidden).all()\r\n",
        "        \r\n",
        "\r\n",
        "        embedded = embedded.squeeze(0)\r\n",
        "        output = output.squeeze(0)\r\n",
        "        weighted = weighted.squeeze(0)\r\n",
        "\r\n",
        "        \r\n",
        "        prediction = self.fc_out(torch.cat((output,weighted, embedded)),dim=1)\r\n",
        "\r\n",
        "\r\n",
        "        return prediction, hidden.squeeze(0), a.squeeze(1)\r\n",
        "\r\n",
        "\r\n",
        "        #hidden = [n layers * n directions, batch size, hid dim]\r\n",
        "        #context = [n layers * n directions, batch size, hid dim]\r\n",
        "        \r\n",
        "        #n layers and n directions in the decoder will both always be 1, therefore:\r\n",
        "        #hidden = [1, batch size, hid dim]\r\n",
        "        #context = [1, batch size, hid dim]\r\n",
        "        \r\n",
        "        \r\n",
        "        \r\n",
        "        #input = [1, batch size]\r\n",
        "        \r\n",
        "        #embedded = self.dropout(self.embedding(input))\r\n",
        "        \r\n",
        "        #embedded = [1, batch size, emb dim]\r\n",
        "                \r\n",
        "       # emb_con = torch.cat((embedded, context), dim = 2)\r\n",
        "            \r\n",
        "        #emb_con = [1, batch size, emb dim + hid dim]\r\n",
        "            \r\n",
        "        #output, hidden = self.rnn(emb_con, hidden)\r\n",
        "        \r\n",
        "        #output = [seq len, batch size, hid dim * n directions]\r\n",
        "        #hidden = [n layers * n directions, batch size, hid dim]\r\n",
        "        \r\n",
        "        #seq len, n layers and n directions will always be 1 in the decoder, therefore:\r\n",
        "        #output = [1, batch size, hid dim]\r\n",
        "        #hidden = [1, batch size, hid dim]\r\n",
        "        \r\n",
        "        #output = torch.cat((embedded.squeeze(0), hidden.squeeze(0), context.squeeze(0)), \r\n",
        "                          #  dim = 1)\r\n",
        "        \r\n",
        "        #output = [batch size, emb dim + hid dim * 2]\r\n",
        "        \r\n",
        "        #prediction = self.fc_out(output)\r\n",
        "        \r\n",
        "        #prediction = [batch size, output dim]\r\n",
        "        \r\n",
        "        "
      ],
      "execution_count": null,
      "outputs": []
    },
    {
      "cell_type": "code",
      "metadata": {
        "id": "1VOd0oFGd2wU"
      },
      "source": [
        "# class Seq2Seq(nn.Module):\r\n",
        "#     def __init__(self, encoder, decoder, device):\r\n",
        "#         super().__init__()\r\n",
        "        \r\n",
        "#         self.encoder = encoder\r\n",
        "#         self.decoder = decoder\r\n",
        "#         self.device = device\r\n",
        "        \r\n",
        "#         assert encoder.hid_dim == decoder.hid_dim, \\\r\n",
        "#             \"Hidden dimensions of encoder and decoder must be equal!\"\r\n",
        "\r\n",
        "#     def forward(self, src, trg, teacher_forcing_ratio = 0.5):\r\n",
        "        \r\n",
        "#         #src = [src len, batch size]\r\n",
        "#         #trg = [trg len, batch size]\r\n",
        "#         #teacher_forcing_ratio is probability to use teacher forcing\r\n",
        "#         #e.g. if teacher_forcing_ratio is 0.75 we use ground-truth inputs 75% of the time\r\n",
        "        \r\n",
        "#         batch_size = trg.shape[1]\r\n",
        "#         trg_len = trg.shape[0]\r\n",
        "#         trg_vocab_size = self.decoder.output_dim\r\n",
        "        \r\n",
        "#         #tensor to store decoder outputs\r\n",
        "#         outputs = torch.zeros(trg_len, batch_size, trg_vocab_size).to(self.device)\r\n",
        "        \r\n",
        "#         #last hidden state of the encoder is the context\r\n",
        "#         context = self.encoder(src)\r\n",
        "        \r\n",
        "#         #context also used as the initial hidden state of the decoder\r\n",
        "#         hidden = context\r\n",
        "        \r\n",
        "#         #first input to the decoder is the <sos> tokens\r\n",
        "#         input = trg[0,:]\r\n",
        "        \r\n",
        "#         for t in range(1, trg_len):\r\n",
        "            \r\n",
        "#             #insert input token embedding, previous hidden state and the context state\r\n",
        "#             #receive output tensor (predictions) and new hidden state\r\n",
        "#             output, hidden = self.decoder(input, hidden, context)\r\n",
        "            \r\n",
        "#             #place predictions in a tensor holding predictions for each token\r\n",
        "#             outputs[t] = output\r\n",
        "            \r\n",
        "#             #decide if we are going to use teacher forcing or not\r\n",
        "#             teacher_force = random.random() < teacher_forcing_ratio\r\n",
        "            \r\n",
        "#             #get the highest predicted token from our predictions\r\n",
        "#             top1 = output.argmax(1) \r\n",
        "            \r\n",
        "#             #if teacher forcing, use actual next token as next input\r\n",
        "#             #if not, use predicted token\r\n",
        "#             input = trg[t] if teacher_force else top1\r\n",
        "\r\n",
        "#         return outputs"
      ],
      "execution_count": null,
      "outputs": []
    },
    {
      "cell_type": "code",
      "metadata": {
        "id": "UEkTIixA9ejF"
      },
      "source": [
        "class Seq2Seq(nn.Module):\n",
        "    def __init__(self, encoder, decoder, device):\n",
        "        super().__init__()\n",
        "        \n",
        "        self.encoder = encoder\n",
        "        self.decoder = decoder\n",
        "        self.device = device\n",
        "\n",
        "        # assert encoder.hid_dim == decoder.hid_dim, \\\n",
        "        #     \"Hidden dimensions of encoder and decoder must be equal!\"\n",
        "    \n",
        "    def forward(self, src, trg, teacher_forcing_ratio = 0.5):\n",
        "        \n",
        "        #src = [src len, batch size]\n",
        "        #trg = [trg len, batch size]\n",
        "        #teacher_forcing_ratio is probability to use teacher forcing\n",
        "        #e.g. if teacher_forcing_ratio is 0.75 we use teacher forcing 75% of the time\n",
        "        \n",
        "        batch_size = src.shape[1]\n",
        "        trg_len = trg.shape[0]\n",
        "        trg_vocab_size = self.decoder.output_dim\n",
        "        \n",
        "        #tensor to store decoder outputs\n",
        "        outputs = torch.zeros(trg_len, batch_size, trg_vocab_size).to(self.device)\n",
        "        \n",
        "        #encoder_outputs is all hidden states of the input sequence, back and forwards\n",
        "        #hidden is the final forward and backward hidden states, passed through a linear layer\n",
        "        encoder_outputs, hidden = self.encoder(src)\n",
        "                \n",
        "        #first input to the decoder is the <sos> tokens\n",
        "        input = trg[0,:]\n",
        "        \n",
        "        for t in range(1, trg_len):\n",
        "            \n",
        "            #insert input token embedding, previous hidden state and all encoder hidden states\n",
        "            #receive output tensor (predictions) and new hidden state\n",
        "            output, hidden, _ = self.decoder(input, hidden, encoder_outputs)\n",
        "            \n",
        "            #place predictions in a tensor holding predictions for each token\n",
        "            outputs[t] = output\n",
        "            \n",
        "            #decide if we are going to use teacher forcing or not\n",
        "            teacher_force = random.random() < teacher_forcing_ratio\n",
        "            \n",
        "            #get the highest predicted token from our predictions\n",
        "            top1 = output.argmax(1) \n",
        "            \n",
        "            #if teacher forcing, use actual next token as next input\n",
        "            #if not, use predicted token\n",
        "            input = trg[t] if teacher_force else top1\n",
        "\n",
        "        return outputs"
      ],
      "execution_count": null,
      "outputs": []
    },
    {
      "cell_type": "code",
      "metadata": {
        "id": "V4Tq0ZvhvmqF"
      },
      "source": [
        "INPUT_DIM = len(SRC.vocab)\r\n",
        "OUTPUT_DIM = len(TRG.vocab)\r\n",
        "ENC_EMB_DIM = 256\r\n",
        "DEC_EMB_DIM = 256\r\n",
        "ENC_HID_DIM = 512\r\n",
        "DEC_HID_DIM = 512\r\n",
        "ENC_DROPOUT = 0.5\r\n",
        "DEC_DROPOUT = 0.5\r\n",
        "\r\n",
        "attn = Attention(ENC_HID_DIM, DEC_HID_DIM)\r\n",
        "enc = Encoder(INPUT_DIM, ENC_EMB_DIM, ENC_HID_DIM, DEC_HID_DIM, ENC_DROPOUT)\r\n",
        "dec = Decoder(OUTPUT_DIM, DEC_EMB_DIM, ENC_HID_DIM, DEC_HID_DIM, DEC_DROPOUT, attn)\r\n",
        "\r\n",
        "device = torch.device('cuda' if torch.cuda.is_available() else 'cpu')\r\n",
        "\r\n",
        "model = Seq2Seq(enc, dec, device).to(device)"
      ],
      "execution_count": null,
      "outputs": []
    },
    {
      "cell_type": "code",
      "metadata": {
        "id": "WTy8VVBAv817",
        "colab": {
          "base_uri": "https://localhost:8080/"
        },
        "outputId": "cfba2347-f771-49c2-e960-cbe9701ccbd1"
      },
      "source": [
        "# def init_weights(m):\r\n",
        "#     for name, param in m.named_parameters():\r\n",
        "#         nn.init.normal_(param.data, mean=0, std=0.01)\r\n",
        "        \r\n",
        "# model.apply(init_weights)\r\n",
        "\r\n",
        "def init_weights(m):\r\n",
        "  for name,param in m.named_parameters():\r\n",
        "    if 'weight' in name:\r\n",
        "      nn.init.normal_(param.data,mean=0,std=0.01)\r\n",
        "    else:\r\n",
        "      nn.init.constant_(param.data,0)\r\n",
        "\r\n",
        "model.apply(init_weights)"
      ],
      "execution_count": null,
      "outputs": [
        {
          "output_type": "execute_result",
          "data": {
            "text/plain": [
              "Seq2Seq(\n",
              "  (encoder): Encoder(\n",
              "    (embedding): Embedding(7855, 256)\n",
              "    (rnn): GRU(256, 512, bidirectional=True)\n",
              "    (fc): Linear(in_features=1024, out_features=512, bias=True)\n",
              "    (dropout): Dropout(p=0.5, inplace=False)\n",
              "  )\n",
              "  (decoder): Decoder(\n",
              "    (attention): Attention(\n",
              "      (attn): Linear(in_features=1536, out_features=512, bias=True)\n",
              "      (v): Linear(in_features=512, out_features=1, bias=False)\n",
              "    )\n",
              "    (embedding): Embedding(5893, 256)\n",
              "    (rnn): GRU(1280, 512)\n",
              "    (fc_out): Linear(in_features=1792, out_features=5893, bias=True)\n",
              "    (dropout): Dropout(p=0.5, inplace=False)\n",
              "  )\n",
              ")"
            ]
          },
          "metadata": {
            "tags": []
          },
          "execution_count": 56
        }
      ]
    },
    {
      "cell_type": "code",
      "metadata": {
        "id": "UbsQnn8Mv_z9",
        "colab": {
          "base_uri": "https://localhost:8080/"
        },
        "outputId": "6c27d721-4eeb-4353-8dff-2bd6fd5c6c49"
      },
      "source": [
        "def count_parameters(model):\r\n",
        "    return sum(p.numel() for p in model.parameters() if p.requires_grad)\r\n",
        "\r\n",
        "print(f'The model has {count_parameters(model):,} trainable parameters')"
      ],
      "execution_count": null,
      "outputs": [
        {
          "output_type": "stream",
          "text": [
            "The model has 20,518,917 trainable parameters\n"
          ],
          "name": "stdout"
        }
      ]
    },
    {
      "cell_type": "code",
      "metadata": {
        "id": "7AfJQlg-hP9p"
      },
      "source": [
        "pad_idx = TRG.vocab.stoi[TRG.pad_token]\r\n",
        "\r\n",
        "criterion = nn.CrossEntropyLoss(ignore_index=pad_idx)"
      ],
      "execution_count": null,
      "outputs": []
    },
    {
      "cell_type": "code",
      "metadata": {
        "id": "-xULUlHTwCNg"
      },
      "source": [
        "optimizer = optim.Adam(model.parameters())"
      ],
      "execution_count": null,
      "outputs": []
    },
    {
      "cell_type": "code",
      "metadata": {
        "id": "BCGcg34MwNVt"
      },
      "source": [
        "def train(model,iterator,optimizer,criterion,clip):\r\n",
        "  model.train()\r\n",
        "\r\n",
        "  epoch_loss = 0\r\n",
        "  bleu_score = 0\r\n",
        "  for i,batch in enumerate(iterator):\r\n",
        "\r\n",
        "    src = batch.src\r\n",
        "    trg = batch.trg\r\n",
        "\r\n",
        "    optimizer.zero_grad()\r\n",
        "\r\n",
        "    outputs = model(src,trg)\r\n",
        "\r\n",
        "    #outputs : [trg_len,batch,output_dim]\r\n",
        "    # trg :[trg_len,batch]\r\n",
        "\r\n",
        "    output_dim = outputs.shape[-1]\r\n",
        "\r\n",
        "    batch_bleu_score = get_blue_score(outputs,trg)\r\n",
        "    bleu_score += batch_bleu_score\r\n",
        "\r\n",
        "    outputs = outputs[1:].view(-1,output_dim)\r\n",
        "    trg = trg[1:].view(-1)\r\n",
        "\r\n",
        "    loss = criterion(outputs,trg)\r\n",
        "\r\n",
        "    loss.backward()\r\n",
        "\r\n",
        "    torch.nn.utils.clip_grad_norm(model.parameters(),clip)\r\n",
        "\r\n",
        "    optimizer.step()\r\n",
        "\r\n",
        "    epoch_loss += loss.item()\r\n",
        "  \r\n",
        "  return epoch_loss/len(iterator) , bleu_score/len(iterator)"
      ],
      "execution_count": null,
      "outputs": []
    },
    {
      "cell_type": "code",
      "metadata": {
        "id": "f0mYjiNBwQ2e"
      },
      "source": [
        "def evaluate(model,criterion,iterator):\r\n",
        "  model.eval()\r\n",
        "\r\n",
        "  epoch_loss = 0\r\n",
        "  bleu_score = 0\r\n",
        "  for i,batch in enumerate(iterator):\r\n",
        "\r\n",
        "    src = batch.src\r\n",
        "    trg = batch.trg\r\n",
        "\r\n",
        "    outputs = model(src,trg)\r\n",
        "\r\n",
        "    output_dim = outputs.shape[-1]\r\n",
        "\r\n",
        "    batch_bleu_score = get_blue_score(outputs,trg)\r\n",
        "    bleu_score += batch_bleu_score\r\n",
        "\r\n",
        "    outputs = outputs[1:].view(-1,output_dim)\r\n",
        "    trg = trg[1:].view(-1)\r\n",
        "\r\n",
        "    loss = criterion(outputs,trg)\r\n",
        "\r\n",
        "    epoch_loss += loss.item()\r\n",
        "\r\n",
        "  return epoch_loss/len(iterator) ,bleu_score/len(iterator)"
      ],
      "execution_count": null,
      "outputs": []
    },
    {
      "cell_type": "code",
      "metadata": {
        "id": "t3TuRPpTwS_b"
      },
      "source": [
        "def epoch_time(start_time, end_time):\r\n",
        "    elapsed_time = end_time - start_time\r\n",
        "    elapsed_mins = int(elapsed_time / 60)\r\n",
        "    elapsed_secs = int(elapsed_time - (elapsed_mins * 60))\r\n",
        "    return elapsed_mins, elapsed_secs"
      ],
      "execution_count": null,
      "outputs": []
    },
    {
      "cell_type": "code",
      "metadata": {
        "id": "TDjtWf7TwXU1",
        "colab": {
          "base_uri": "https://localhost:8080/",
          "height": 413
        },
        "outputId": "9a11d06c-4eaf-4ba3-fe35-9dc97bdb0ba4"
      },
      "source": [
        "import torch.nn.functional as F\r\n",
        "\r\n",
        "N_EPOCHS =20\r\n",
        "CLIP = 1\r\n",
        "\r\n",
        "best_valid_loss = float('inf')\r\n",
        "\r\n",
        "for epoch in range(N_EPOCHS):\r\n",
        "    \r\n",
        "    start_time = time.time()\r\n",
        "    \r\n",
        "    train_loss,train_bleu  = train(model, train_iterator, optimizer, criterion, CLIP)\r\n",
        "    valid_loss,val_bleu = evaluate(model, criterion, valid_iterator,)\r\n",
        "    \r\n",
        "    end_time = time.time()\r\n",
        "    \r\n",
        "    if valid_loss < best_valid_loss:\r\n",
        "        best_valid_loss = valid_loss\r\n",
        "        torch.save(model.state_dict(), 'eng-german-seq2seq.pt')\r\n",
        "\r\n",
        "    epoch_mins, epoch_secs = epoch_time(start_time, end_time)\r\n",
        "    \r\n",
        "    print(f'Epoch: {epoch+1:02} | Time: {epoch_mins}m {epoch_secs}s')\r\n",
        "    print(f'\\tTrain Loss: {train_loss:.3f} | Train BLEU : {train_bleu:.4f} | Train PPL: {math.exp(train_loss):7.3f} ')\r\n",
        "    print(f'\\t Val. Loss: {valid_loss:.3f} |  Val BLEU: {val_bleu:.4f} |Val PPL: {math.exp(val_loss):7.3f}')\r\n"
      ],
      "execution_count": null,
      "outputs": [
        {
          "output_type": "stream",
          "text": [
            "******  torch.Size([128, 512])\n"
          ],
          "name": "stdout"
        },
        {
          "output_type": "error",
          "ename": "RuntimeError",
          "evalue": "ignored",
          "traceback": [
            "\u001b[0;31m---------------------------------------------------------------------------\u001b[0m",
            "\u001b[0;31mRuntimeError\u001b[0m                              Traceback (most recent call last)",
            "\u001b[0;32m<ipython-input-63-fad647dc7f47>\u001b[0m in \u001b[0;36m<module>\u001b[0;34m()\u001b[0m\n\u001b[1;32m     10\u001b[0m     \u001b[0mstart_time\u001b[0m \u001b[0;34m=\u001b[0m \u001b[0mtime\u001b[0m\u001b[0;34m.\u001b[0m\u001b[0mtime\u001b[0m\u001b[0;34m(\u001b[0m\u001b[0;34m)\u001b[0m\u001b[0;34m\u001b[0m\u001b[0;34m\u001b[0m\u001b[0m\n\u001b[1;32m     11\u001b[0m \u001b[0;34m\u001b[0m\u001b[0m\n\u001b[0;32m---> 12\u001b[0;31m     \u001b[0mtrain_loss\u001b[0m\u001b[0;34m,\u001b[0m\u001b[0mtrain_bleu\u001b[0m  \u001b[0;34m=\u001b[0m \u001b[0mtrain\u001b[0m\u001b[0;34m(\u001b[0m\u001b[0mmodel\u001b[0m\u001b[0;34m,\u001b[0m \u001b[0mtrain_iterator\u001b[0m\u001b[0;34m,\u001b[0m \u001b[0moptimizer\u001b[0m\u001b[0;34m,\u001b[0m \u001b[0mcriterion\u001b[0m\u001b[0;34m,\u001b[0m \u001b[0mCLIP\u001b[0m\u001b[0;34m)\u001b[0m\u001b[0;34m\u001b[0m\u001b[0;34m\u001b[0m\u001b[0m\n\u001b[0m\u001b[1;32m     13\u001b[0m     \u001b[0mvalid_loss\u001b[0m\u001b[0;34m,\u001b[0m\u001b[0mval_bleu\u001b[0m \u001b[0;34m=\u001b[0m \u001b[0mevaluate\u001b[0m\u001b[0;34m(\u001b[0m\u001b[0mmodel\u001b[0m\u001b[0;34m,\u001b[0m \u001b[0mcriterion\u001b[0m\u001b[0;34m,\u001b[0m \u001b[0mvalid_iterator\u001b[0m\u001b[0;34m,\u001b[0m\u001b[0;34m)\u001b[0m\u001b[0;34m\u001b[0m\u001b[0;34m\u001b[0m\u001b[0m\n\u001b[1;32m     14\u001b[0m \u001b[0;34m\u001b[0m\u001b[0m\n",
            "\u001b[0;32m<ipython-input-60-105c1f5abe04>\u001b[0m in \u001b[0;36mtrain\u001b[0;34m(model, iterator, optimizer, criterion, clip)\u001b[0m\n\u001b[1;32m     11\u001b[0m     \u001b[0moptimizer\u001b[0m\u001b[0;34m.\u001b[0m\u001b[0mzero_grad\u001b[0m\u001b[0;34m(\u001b[0m\u001b[0;34m)\u001b[0m\u001b[0;34m\u001b[0m\u001b[0;34m\u001b[0m\u001b[0m\n\u001b[1;32m     12\u001b[0m \u001b[0;34m\u001b[0m\u001b[0m\n\u001b[0;32m---> 13\u001b[0;31m     \u001b[0moutputs\u001b[0m \u001b[0;34m=\u001b[0m \u001b[0mmodel\u001b[0m\u001b[0;34m(\u001b[0m\u001b[0msrc\u001b[0m\u001b[0;34m,\u001b[0m\u001b[0mtrg\u001b[0m\u001b[0;34m)\u001b[0m\u001b[0;34m\u001b[0m\u001b[0;34m\u001b[0m\u001b[0m\n\u001b[0m\u001b[1;32m     14\u001b[0m \u001b[0;34m\u001b[0m\u001b[0m\n\u001b[1;32m     15\u001b[0m     \u001b[0;31m#outputs : [trg_len,batch,output_dim]\u001b[0m\u001b[0;34m\u001b[0m\u001b[0;34m\u001b[0m\u001b[0;34m\u001b[0m\u001b[0m\n",
            "\u001b[0;32m/usr/local/lib/python3.6/dist-packages/torch/nn/modules/module.py\u001b[0m in \u001b[0;36m_call_impl\u001b[0;34m(self, *input, **kwargs)\u001b[0m\n\u001b[1;32m    725\u001b[0m             \u001b[0mresult\u001b[0m \u001b[0;34m=\u001b[0m \u001b[0mself\u001b[0m\u001b[0;34m.\u001b[0m\u001b[0m_slow_forward\u001b[0m\u001b[0;34m(\u001b[0m\u001b[0;34m*\u001b[0m\u001b[0minput\u001b[0m\u001b[0;34m,\u001b[0m \u001b[0;34m**\u001b[0m\u001b[0mkwargs\u001b[0m\u001b[0;34m)\u001b[0m\u001b[0;34m\u001b[0m\u001b[0;34m\u001b[0m\u001b[0m\n\u001b[1;32m    726\u001b[0m         \u001b[0;32melse\u001b[0m\u001b[0;34m:\u001b[0m\u001b[0;34m\u001b[0m\u001b[0;34m\u001b[0m\u001b[0m\n\u001b[0;32m--> 727\u001b[0;31m             \u001b[0mresult\u001b[0m \u001b[0;34m=\u001b[0m \u001b[0mself\u001b[0m\u001b[0;34m.\u001b[0m\u001b[0mforward\u001b[0m\u001b[0;34m(\u001b[0m\u001b[0;34m*\u001b[0m\u001b[0minput\u001b[0m\u001b[0;34m,\u001b[0m \u001b[0;34m**\u001b[0m\u001b[0mkwargs\u001b[0m\u001b[0;34m)\u001b[0m\u001b[0;34m\u001b[0m\u001b[0;34m\u001b[0m\u001b[0m\n\u001b[0m\u001b[1;32m    728\u001b[0m         for hook in itertools.chain(\n\u001b[1;32m    729\u001b[0m                 \u001b[0m_global_forward_hooks\u001b[0m\u001b[0;34m.\u001b[0m\u001b[0mvalues\u001b[0m\u001b[0;34m(\u001b[0m\u001b[0;34m)\u001b[0m\u001b[0;34m,\u001b[0m\u001b[0;34m\u001b[0m\u001b[0;34m\u001b[0m\u001b[0m\n",
            "\u001b[0;32m<ipython-input-41-68701a553b6b>\u001b[0m in \u001b[0;36mforward\u001b[0;34m(self, src, trg, teacher_forcing_ratio)\u001b[0m\n\u001b[1;32m     35\u001b[0m             \u001b[0;31m#insert input token embedding, previous hidden state and all encoder hidden states\u001b[0m\u001b[0;34m\u001b[0m\u001b[0;34m\u001b[0m\u001b[0;34m\u001b[0m\u001b[0m\n\u001b[1;32m     36\u001b[0m             \u001b[0;31m#receive output tensor (predictions) and new hidden state\u001b[0m\u001b[0;34m\u001b[0m\u001b[0;34m\u001b[0m\u001b[0;34m\u001b[0m\u001b[0m\n\u001b[0;32m---> 37\u001b[0;31m             \u001b[0moutput\u001b[0m\u001b[0;34m,\u001b[0m \u001b[0mhidden\u001b[0m\u001b[0;34m,\u001b[0m \u001b[0m_\u001b[0m \u001b[0;34m=\u001b[0m \u001b[0mself\u001b[0m\u001b[0;34m.\u001b[0m\u001b[0mdecoder\u001b[0m\u001b[0;34m(\u001b[0m\u001b[0minput\u001b[0m\u001b[0;34m,\u001b[0m \u001b[0mhidden\u001b[0m\u001b[0;34m,\u001b[0m \u001b[0mencoder_outputs\u001b[0m\u001b[0;34m)\u001b[0m\u001b[0;34m\u001b[0m\u001b[0;34m\u001b[0m\u001b[0m\n\u001b[0m\u001b[1;32m     38\u001b[0m \u001b[0;34m\u001b[0m\u001b[0m\n\u001b[1;32m     39\u001b[0m             \u001b[0;31m#place predictions in a tensor holding predictions for each token\u001b[0m\u001b[0;34m\u001b[0m\u001b[0;34m\u001b[0m\u001b[0;34m\u001b[0m\u001b[0m\n",
            "\u001b[0;32m/usr/local/lib/python3.6/dist-packages/torch/nn/modules/module.py\u001b[0m in \u001b[0;36m_call_impl\u001b[0;34m(self, *input, **kwargs)\u001b[0m\n\u001b[1;32m    725\u001b[0m             \u001b[0mresult\u001b[0m \u001b[0;34m=\u001b[0m \u001b[0mself\u001b[0m\u001b[0;34m.\u001b[0m\u001b[0m_slow_forward\u001b[0m\u001b[0;34m(\u001b[0m\u001b[0;34m*\u001b[0m\u001b[0minput\u001b[0m\u001b[0;34m,\u001b[0m \u001b[0;34m**\u001b[0m\u001b[0mkwargs\u001b[0m\u001b[0;34m)\u001b[0m\u001b[0;34m\u001b[0m\u001b[0;34m\u001b[0m\u001b[0m\n\u001b[1;32m    726\u001b[0m         \u001b[0;32melse\u001b[0m\u001b[0;34m:\u001b[0m\u001b[0;34m\u001b[0m\u001b[0;34m\u001b[0m\u001b[0m\n\u001b[0;32m--> 727\u001b[0;31m             \u001b[0mresult\u001b[0m \u001b[0;34m=\u001b[0m \u001b[0mself\u001b[0m\u001b[0;34m.\u001b[0m\u001b[0mforward\u001b[0m\u001b[0;34m(\u001b[0m\u001b[0;34m*\u001b[0m\u001b[0minput\u001b[0m\u001b[0;34m,\u001b[0m \u001b[0;34m**\u001b[0m\u001b[0mkwargs\u001b[0m\u001b[0;34m)\u001b[0m\u001b[0;34m\u001b[0m\u001b[0;34m\u001b[0m\u001b[0m\n\u001b[0m\u001b[1;32m    728\u001b[0m         for hook in itertools.chain(\n\u001b[1;32m    729\u001b[0m                 \u001b[0m_global_forward_hooks\u001b[0m\u001b[0;34m.\u001b[0m\u001b[0mvalues\u001b[0m\u001b[0;34m(\u001b[0m\u001b[0;34m)\u001b[0m\u001b[0;34m,\u001b[0m\u001b[0;34m\u001b[0m\u001b[0;34m\u001b[0m\u001b[0m\n",
            "\u001b[0;32m<ipython-input-54-9c40a62ed4a9>\u001b[0m in \u001b[0;36mforward\u001b[0;34m(self, input, hidden, encoder_outputs)\u001b[0m\n\u001b[1;32m     53\u001b[0m \u001b[0;34m\u001b[0m\u001b[0m\n\u001b[1;32m     54\u001b[0m \u001b[0;34m\u001b[0m\u001b[0m\n\u001b[0;32m---> 55\u001b[0;31m         \u001b[0mprediction\u001b[0m \u001b[0;34m=\u001b[0m \u001b[0mself\u001b[0m\u001b[0;34m.\u001b[0m\u001b[0mfc_out\u001b[0m\u001b[0;34m(\u001b[0m\u001b[0mtorch\u001b[0m\u001b[0;34m.\u001b[0m\u001b[0mcat\u001b[0m\u001b[0;34m(\u001b[0m\u001b[0;34m(\u001b[0m\u001b[0moutput\u001b[0m\u001b[0;34m,\u001b[0m\u001b[0mweighted\u001b[0m\u001b[0;34m,\u001b[0m \u001b[0membedded\u001b[0m\u001b[0;34m)\u001b[0m\u001b[0;34m)\u001b[0m\u001b[0;34m,\u001b[0m\u001b[0mdim\u001b[0m\u001b[0;34m=\u001b[0m\u001b[0;36m1\u001b[0m\u001b[0;34m)\u001b[0m\u001b[0;34m\u001b[0m\u001b[0;34m\u001b[0m\u001b[0m\n\u001b[0m\u001b[1;32m     56\u001b[0m \u001b[0;34m\u001b[0m\u001b[0m\n\u001b[1;32m     57\u001b[0m \u001b[0;34m\u001b[0m\u001b[0m\n",
            "\u001b[0;31mRuntimeError\u001b[0m: Sizes of tensors must match except in dimension 1. Got 256 and 512 (The offending index is 0)"
          ]
        }
      ]
    },
    {
      "cell_type": "code",
      "metadata": {
        "id": "rNzEOb2Rwd18"
      },
      "source": [
        "weimodel.load_state_dict(torch.load('tut2-model.pt'))\r\n",
        "\r\n",
        "test_loss = evaluate(model, test_iterator, criterion)\r\n",
        "\r\n",
        "print(f'| Test Loss: {test_loss:.3f} | Test PPL: {math.exp(test_loss):7.3f} |')"
      ],
      "execution_count": null,
      "outputs": []
    },
    {
      "cell_type": "code",
      "metadata": {
        "id": "hPaHON90U4WH"
      },
      "source": [
        ""
      ],
      "execution_count": null,
      "outputs": []
    },
    {
      "cell_type": "code",
      "metadata": {
        "id": "qfWJNCqiU4bD"
      },
      "source": [
        ""
      ],
      "execution_count": null,
      "outputs": []
    },
    {
      "cell_type": "code",
      "metadata": {
        "id": "2MUIhhhXU4eD"
      },
      "source": [
        ""
      ],
      "execution_count": null,
      "outputs": []
    },
    {
      "cell_type": "code",
      "metadata": {
        "id": "10V7xCegU4gs"
      },
      "source": [
        ""
      ],
      "execution_count": null,
      "outputs": []
    },
    {
      "cell_type": "code",
      "metadata": {
        "id": "naxVRz2aU4jG"
      },
      "source": [
        ""
      ],
      "execution_count": null,
      "outputs": []
    },
    {
      "cell_type": "code",
      "metadata": {
        "id": "Q9ntjxZnU4ly"
      },
      "source": [
        ""
      ],
      "execution_count": null,
      "outputs": []
    },
    {
      "cell_type": "code",
      "metadata": {
        "id": "MzE-AUHiU4r6"
      },
      "source": [
        ""
      ],
      "execution_count": null,
      "outputs": []
    },
    {
      "cell_type": "markdown",
      "metadata": {
        "id": "IHEIz2H_yow7"
      },
      "source": [
        "Packed padded sequences"
      ]
    },
    {
      "cell_type": "code",
      "metadata": {
        "id": "l9zwxi8IyraI"
      },
      "source": [
        "import torch\r\n",
        "import torch.nn as nn\r\n",
        "import torch.optim as optim\r\n",
        "import torch. nn.functional as F\r\n",
        "\r\n",
        "from torchtext.datasets import Multi30k\r\n",
        "from torchtext.data import Field, BucketIterator\r\n",
        "\r\n",
        "import matplotlib.pyplot as plt\r\n",
        "import matplotlib.ticker as ticker\r\n",
        "\r\n",
        "import spacy\r\n",
        "import numpy as np\r\n",
        "\r\n",
        "import random\r\n",
        "import math\r\n",
        "import time"
      ],
      "execution_count": null,
      "outputs": []
    },
    {
      "cell_type": "code",
      "metadata": {
        "id": "sgKDPOZ7iw_e"
      },
      "source": [
        "SEED = 1234\r\n",
        "\r\n",
        "random.seed(SEED)\r\n",
        "np.random.seed(SEED)\r\n",
        "torch.manual_seed(SEED)\r\n",
        "torch.cuda.manual_seed(SEED)\r\n",
        "torch.backends.cudnn.deterministic = True"
      ],
      "execution_count": null,
      "outputs": []
    },
    {
      "cell_type": "code",
      "metadata": {
        "id": "yDrNSLzeiz_4"
      },
      "source": [
        "spacy_de = spacy.load('de')\r\n",
        "spacy_en = spacy.load('en')"
      ],
      "execution_count": null,
      "outputs": []
    },
    {
      "cell_type": "code",
      "metadata": {
        "id": "QNF0ozBSi2W5"
      },
      "source": [
        "def tokenize_de(text):\r\n",
        "    \"\"\"\r\n",
        "    Tokenizes German text from a string into a list of strings\r\n",
        "    \"\"\"\r\n",
        "    return [tok.text for tok in spacy_de.tokenizer(text)]\r\n",
        "\r\n",
        "def tokenize_en(text):\r\n",
        "    \"\"\"\r\n",
        "    Tokenizes English text from a string into a list of strings\r\n",
        "    \"\"\"\r\n",
        "    return [tok.text for tok in spacy_en.tokenizer(text)]"
      ],
      "execution_count": null,
      "outputs": []
    },
    {
      "cell_type": "code",
      "metadata": {
        "id": "DxNb1KjEi76f"
      },
      "source": [
        "SRC = Field(tokenize=tokenize_de, \r\n",
        "            init_token='<sos>', \r\n",
        "            eos_token='<eos>', \r\n",
        "            lower=True, \r\n",
        "            include_lengths= True)\r\n",
        "\r\n",
        "TRG = Field(tokenize = tokenize_en, \r\n",
        "            init_token='<sos>', \r\n",
        "            eos_token='<eos>', \r\n",
        "            lower=True)"
      ],
      "execution_count": null,
      "outputs": []
    },
    {
      "cell_type": "code",
      "metadata": {
        "id": "qQnS_ApjpIIH"
      },
      "source": [
        "train_data, valid_data, test_data = Multi30k.splits(exts = ('.de', '.en'), \r\n",
        "                                                    fields = (SRC, TRG))"
      ],
      "execution_count": null,
      "outputs": []
    },
    {
      "cell_type": "code",
      "metadata": {
        "id": "i6Di5rLQpPaD"
      },
      "source": [
        "SRC.build_vocab(train_data, min_freq = 2)\r\n",
        "TRG.build_vocab(train_data, min_freq = 2)"
      ],
      "execution_count": null,
      "outputs": []
    },
    {
      "cell_type": "code",
      "metadata": {
        "id": "3X77Q5MIpXhP"
      },
      "source": [
        "device = torch.device('cuda' if torch.cuda.is_available() else 'cpu')\r\n",
        "\r\n",
        "BATCH_SIZE = 128\r\n",
        "\r\n",
        "train_iterator, valid_iterator, test_iterator = BucketIterator.splits(\r\n",
        "    (train_data, valid_data, test_data), \r\n",
        "    batch_size = BATCH_SIZE, \r\n",
        "    sort_within_batch =True,\r\n",
        "    sort_key =lambda x : len(x.src),\r\n",
        "    device = device)\r\n",
        "\r\n",
        "\r\n",
        "    "
      ],
      "execution_count": null,
      "outputs": []
    },
    {
      "cell_type": "code",
      "metadata": {
        "id": "aTzFxIworypg"
      },
      "source": [
        "# with open('source.pkl', 'wb') as src_tokens: \r\n",
        "#   pickle.dump(SRC.vocab.stoi, src_tokens)\r\n",
        "# with open('target_stoi.pkl','wb') as trg_tokens:\r\n",
        "#   pickle.dump(TRG.vocab.stoi,trg_tokens)\r\n",
        "\r\n",
        "# with open('target_itos.pkl','wb') as trg_tokens:\r\n",
        "#   pickle.dump(TRG.vocab.itos,trg_tokens)"
      ],
      "execution_count": null,
      "outputs": []
    },
    {
      "cell_type": "code",
      "metadata": {
        "id": "3lsNMdQgqanr"
      },
      "source": [
        "class Encoder(nn.Module):\r\n",
        "    def __init__(self, input_dim, emb_dim, enc_hid_dim, dec_hid_dim, dropout ):\r\n",
        "        super().__init__()\r\n",
        "\r\n",
        "        self.hid_dim = enc_hid_dim\r\n",
        "        \r\n",
        "        self.embedding = nn.Embedding(input_dim, emb_dim) #no dropout as only one layer!\r\n",
        "        \r\n",
        "        self.rnn = nn.GRU(emb_dim, enc_hid_dim, bidirectional=True)\r\n",
        "        \r\n",
        "        self.fc =  nn.Linear (enc_hid_dim*2, dec_hid_dim)\r\n",
        "        \r\n",
        "        self.dropout = nn.Dropout(dropout)\r\n",
        "        \r\n",
        "    def forward(self, src):\r\n",
        "        \r\n",
        "        #src = [src len, batch size]\r\n",
        "        \r\n",
        "        embedding = self.dropout(self.embedding(src))\r\n",
        "        #embedded = [src len, batch size, emb dim]\r\n",
        "        packed_embedded = nn.utils.rnn.pack_padded_sequence(embedded,src_len)\r\n",
        "\r\n",
        "        packed_outputs, hidden = self.rnn(packed_embedded)\r\n",
        "        #packed_output is a packed sequence containing all hidden states\r\n",
        "        # hidden is now from the final non padded elementin the batch\r\n",
        "        outputs, _ = nn.utils.rnn.pack_padded_sequence(packed_outputs)\r\n",
        "        #output is non-padded sequence, all hidden states obtained \r\n",
        "        # when the input is a pad token are all zeroes\r\n",
        "\r\n",
        "        #outputs = [src len, batch size, hid dim * n directions]  n directions = 2- forward& backward\r\n",
        "        #hidden = [n layers * n directions, batch size, hid dim]\r\n",
        "\r\n",
        "        #outputs, hidden = self.rnn(embedded) #no cell state!\r\n",
        "        #outputs are always from the top hidden layer\r\n",
        "        hidden = torch.tanh(self.fc(torch.cat((hidden[-2,:,:], hidden[-1,:,:])), dim=1 )) #  #excess to backward and in rows\r\n",
        "        #outputs = [src len, batch size, hid dim * 2]\r\n",
        "        #hidden = [batch size, dec hid dim]\r\n",
        "        \r\n",
        "        return outputs, hidden"
      ],
      "execution_count": null,
      "outputs": []
    },
    {
      "cell_type": "code",
      "metadata": {
        "id": "NH718Q9PQi-O"
      },
      "source": [
        "class Attention(nn.Module):\r\n",
        "    def __init__(self, enc_hid_dim, dec_hid_dim):\r\n",
        "        super().__init__()\r\n",
        "        \r\n",
        "        self.attn = nn.Linear((enc_hid_dim * 2) + dec_hid_dim, dec_hid_dim)\r\n",
        "        self.v = nn.Linear(dec_hid_dim, 1, bias = False)\r\n",
        "\r\n",
        "    def forward(self,hidden, encoder_outputs, mask):\r\n",
        "      #hidden here is decoder st-1\r\n",
        "      src_len = encoder_outputs.shape[0]\r\n",
        "      #hidden = [batchsize, dec_hi_dim]\r\n",
        "      hidden = hidden.unsqueeze(1).repeat(1,src_len,1)\r\n",
        "      #encoder_outputs = [src len, batch size, enc hid dim * 2]\r\n",
        "      encoder_outputs = encoder_outputs.permute(1,0,2)\r\n",
        "\r\n",
        "      #hidden = [batchsize, src_len, dec_hi_dim]\r\n",
        "      #encoder_outputs = [batch size, src_len, enc hid dim * 2]\r\n",
        "\r\n",
        "      energy = torch.tanh(self.attn(torch.cat(hidden, ecoder_outputs), dim=2))\r\n",
        "      # energy = [batchsize, src_len, dec_hi_dim]\r\n",
        "      attention = self.v(energy).squeeze(2)\r\n",
        "      # hidden = [batchsize, src_len]\r\n",
        "      attention = attention.masked_fill(mask==0,-1e10)\r\n",
        "\r\n",
        "      return F.softmax(attention, dim=1)\r\n"
      ],
      "execution_count": null,
      "outputs": []
    },
    {
      "cell_type": "code",
      "metadata": {
        "id": "Ua5GaHmuRmZO"
      },
      "source": [
        "class Decoder(nn.Module):\r\n",
        "    def __init__(self, output_dim, emb_dim, enc_hid_dim, dec_hid_dim, dropout, attention):\r\n",
        "        super().__init__()\r\n",
        "\r\n",
        "        self.output_dim = output_dim\r\n",
        "        self.attention = attention\r\n",
        "        \r\n",
        "        self.embedding = nn.Embedding(output_dim, emb_dim)\r\n",
        "        \r\n",
        "        self.rnn = nn.GRU((enc_hid_dim * 2) + emb_dim, dec_hid_dim)\r\n",
        "        \r\n",
        "        self.fc_out = nn.Linear((enc_hid_dim * 2) + dec_hid_dim + emb_dim, output_dim)\r\n",
        "        \r\n",
        "        self.dropout = nn.Dropout(dropout)\r\n",
        "        \r\n",
        "    def forward(self, input, hidden, encoder_outputs,mask):\r\n",
        "             \r\n",
        "        #input = [batch size]\r\n",
        "        #hidden = [batch size, dec hid dim]\r\n",
        "        #encoder_outputs = [src len, batch size, enc hid dim * 2]\r\n",
        "        \r\n",
        "        input = input.unsqueeze(0)\r\n",
        "        \r\n",
        "        #input = [1, batch size]\r\n",
        "        \r\n",
        "        embedded = self.dropout(self.embedding(input))\r\n",
        "        \r\n",
        "        #embedded = [1, batch size, emb dim]\r\n",
        "        \r\n",
        "        a = self.attention(hidden, encoder_outputs,mask)\r\n",
        "                \r\n",
        "        #a = [batch size, src len]\r\n",
        "        \r\n",
        "        a = a.unsqueeze(1)\r\n",
        "        \r\n",
        "        #a = [batch size, 1, src len]\r\n",
        "        \r\n",
        "        encoder_outputs = encoder_outputs.permute(1, 0, 2)\r\n",
        "        \r\n",
        "        #encoder_outputs = [batch size, src len, enc hid dim * 2]\r\n",
        "        \r\n",
        "        weighted = torch.bmm(a, encoder_outputs)\r\n",
        "        \r\n",
        "        #weighted = [batch size, 1, enc hid dim * 2]\r\n",
        "        \r\n",
        "        weighted = weighted.permute(1, 0, 2)\r\n",
        "        \r\n",
        "        #weighted = [1, batch size, enc hid dim * 2]\r\n",
        "        \r\n",
        "        rnn_input = torch.cat((embedded, weighted), dim = 2)\r\n",
        "        \r\n",
        "        #rnn_input = [1, batch size, (enc hid dim * 2) + emb dim]\r\n",
        "            \r\n",
        "        output, hidden = self.rnn(rnn_input, hidden.unsqueeze(0))\r\n",
        "        \r\n",
        "        #output = [seq len, batch size, dec hid dim * n directions]\r\n",
        "        #hidden = [n layers * n directions, batch size, dec hid dim]\r\n",
        "        \r\n",
        "        #seq len, n layers and n directions will always be 1 in this decoder, therefore:\r\n",
        "        #output = [1, batch size, dec hid dim]\r\n",
        "        #hidden = [1, batch size, dec hid dim]\r\n",
        "        #this also means that output == hidden\r\n",
        "        assert (output == hidden).all()\r\n",
        "        \r\n",
        "        embedded = embedded.squeeze(0)\r\n",
        "        output = output.squeeze(0)\r\n",
        "        weighted = weighted.squeeze(0)\r\n",
        "        \r\n",
        "        prediction = self.fc_out(torch.cat((output, weighted, embedded), dim = 1))\r\n",
        "        \r\n",
        "        #prediction = [batch size, output dim]\r\n",
        "        \r\n",
        "        return prediction, hidden.squeeze(0), a.squeeze(1)\r\n",
        "        "
      ],
      "execution_count": null,
      "outputs": []
    },
    {
      "cell_type": "code",
      "metadata": {
        "id": "dXi4U5H7ZprQ"
      },
      "source": [
        "class Seq2Seq(nn.Module):\r\n",
        "    def __init__(self, encoder, decoder, device,src_pad_idx):\r\n",
        "        super().__init__()\r\n",
        "        \r\n",
        "        self.encoder = encoder\r\n",
        "        self.decoder = decoder\r\n",
        "        self.device = device\r\n",
        "        self.src_pad_idx = src_pad_idx\r\n",
        "\r\n",
        "    def create_mask(self,src):\r\n",
        "        mask = (src != self.src_pad_idx).permute(1,0)\r\n",
        "        return mask\r\n",
        "\r\n",
        "    def forward(self, src, src_len, trg, teacher_forcing_ratio = 0.5):\r\n",
        "        \r\n",
        "        #src = [src len, batch size]\r\n",
        "        #trg = [trg len, batch size]\r\n",
        "        #teacher_forcing_ratio is probability to use teacher forcing\r\n",
        "        #e.g. if teacher_forcing_ratio is 0.75 we use teacher forcing 75% of the time\r\n",
        "        \r\n",
        "        batch_size = src.shape[1]\r\n",
        "        trg_len = trg.shape[0]\r\n",
        "        trg_vocab_size = self.decoder.output_dim\r\n",
        "        \r\n",
        "        #tensor to store decoder outputs\r\n",
        "        outputs = torch.zeros(trg_len, batch_size, trg_vocab_size).to(self.device)\r\n",
        "        \r\n",
        "        #encoder_outputs is all hidden states of the input sequence, back and forwards\r\n",
        "        #hidden is the final forward and backward hidden states, passed through a linear layer\r\n",
        "        encoder_outputs, hidden = self.encoder(src,src_len)\r\n",
        "                \r\n",
        "        #first input to the decoder is the <sos> tokens\r\n",
        "        input = trg[0,:]\r\n",
        "        \r\n",
        "        mask = self.create_mask(src)\r\n",
        "        # mask: [batch_size,src_len]\r\n",
        "        for t in range(1, trg_len):\r\n",
        "            \r\n",
        "            #insert input token embedding, previous hidden state and all encoder hidden states\r\n",
        "            #receive output tensor (predictions) and new hidden state\r\n",
        "            output, hidden, _ = self.decoder(input, hidden, encoder_outputs,mask)\r\n",
        "            \r\n",
        "            #place predictions in a tensor holding predictions for each token\r\n",
        "            outputs[t] = output\r\n",
        "            \r\n",
        "            #decide if we are going to use teacher forcing or not\r\n",
        "            teacher_force = random.random() < teacher_forcing_ratio\r\n",
        "            \r\n",
        "            #get the highest predicted token from our predictions\r\n",
        "            top1 = output.argmax(1) \r\n",
        "            \r\n",
        "            #if teacher forcing, use actual next token as next input\r\n",
        "            #if not, use predicted token\r\n",
        "            input = trg[t] if teacher_force else top1\r\n",
        "\r\n",
        "        return outputs"
      ],
      "execution_count": null,
      "outputs": []
    },
    {
      "cell_type": "code",
      "metadata": {
        "id": "o5xC-zpbaeEa"
      },
      "source": [
        "INPUT_DIM = len(SRC.vocab)\r\n",
        "OUTPUT_DIM = len(TRG.vocab)\r\n",
        "ENC_EMB_DIM = 256\r\n",
        "DEC_EMB_DIM = 256\r\n",
        "ENC_HID_DIM = 512\r\n",
        "DEC_HID_DIM = 512\r\n",
        "ENC_DROPOUT = 0.5\r\n",
        "DEC_DROPOUT = 0.5\r\n",
        "src_pad_idx = SRC.vocab.stoi[SRC.pad_token]\r\n",
        "\r\n",
        "attn = Attention(ENC_HID_DIM, DEC_HID_DIM)\r\n",
        "enc = Encoder(INPUT_DIM, ENC_EMB_DIM, ENC_HID_DIM, DEC_HID_DIM, ENC_DROPOUT)\r\n",
        "dec = Decoder(OUTPUT_DIM, DEC_EMB_DIM, ENC_HID_DIM, DEC_HID_DIM, DEC_DROPOUT, attn)\r\n",
        "\r\n",
        "model = Seq2Seq(enc, dec, device,src_pad_idx).to(device)"
      ],
      "execution_count": null,
      "outputs": []
    },
    {
      "cell_type": "code",
      "metadata": {
        "id": "DLF32TCRahl2"
      },
      "source": [
        "def init_weights(m):\r\n",
        "  for name,param in m.named_parameters():\r\n",
        "    if 'weight' in name:\r\n",
        "      nn.init.normal_(param.data,mean=0,std=0.01)\r\n",
        "    else:\r\n",
        "      nn.init.constant_(param.data,0)\r\n",
        "\r\n",
        "model.apply(init_weights)"
      ],
      "execution_count": null,
      "outputs": []
    },
    {
      "cell_type": "code",
      "metadata": {
        "id": "8pE2K95DaiXM"
      },
      "source": [
        "pad_idx = TRG.vocab.stoi[TRG.pad_token]\r\n",
        "\r\n",
        "criterion = nn.CrossEntropyLoss(ignore_index=pad_idx)"
      ],
      "execution_count": null,
      "outputs": []
    },
    {
      "cell_type": "code",
      "metadata": {
        "id": "yZTSR7rtalC1"
      },
      "source": [
        "optimizer = optim.Adam(model.parameters())"
      ],
      "execution_count": null,
      "outputs": []
    },
    {
      "cell_type": "code",
      "metadata": {
        "id": "5IbbBPf8aorH",
        "colab": {
          "base_uri": "https://localhost:8080/"
        },
        "outputId": "527a0ed2-b80c-488b-8656-60726045ff51"
      },
      "source": [
        "def count_parameters(model):\r\n",
        "  return sum(p.numel() for p in model.parameters() if p.requires_grad)\r\n",
        "\r\n",
        "print('Total number of trainable params in the model = {}'.format(count_parameters(model)))"
      ],
      "execution_count": null,
      "outputs": [
        {
          "output_type": "stream",
          "text": [
            "Total number of trainable params in the model = 20518917\n"
          ],
          "name": "stdout"
        }
      ]
    },
    {
      "cell_type": "code",
      "metadata": {
        "id": "Ya7Bdd5ZarKx",
        "colab": {
          "base_uri": "https://localhost:8080/",
          "height": 516
        },
        "outputId": "7bd8c5f6-b95b-465c-b07d-1c7929792577"
      },
      "source": [
        "import torchtext\r\n",
        "from torchtext.data.metrics import bleu_score\r\n",
        "\r\n",
        "def get_blue_score(translated,translation,itos_location=\"target_itos.pkl\"):\r\n",
        "  # translated : [trg_len,batch_size,output_dim]\r\n",
        "  # translation : [trg_len,batch_size]\r\n",
        "\r\n",
        "  # Load trg.itos\r\n",
        "  trg_token_file = open(itos_location,'rb')\r\n",
        "  trg_itos = pickle.load(trg_token_file)\r\n",
        "\r\n",
        "  translated = torch.argmax(translated[1:],-1).T # translated : [batch_size,trg_len-1]\r\n",
        "  translation = translation[1:].T # translation : [batch_size,trg_len-1]\r\n",
        "\r\n",
        "  pred_ = []\r\n",
        "  trg_ = []\r\n",
        "  for i,j in zip(translated,translation):\r\n",
        "    pred_.append([trg_itos[k.item()] for k in i if trg_itos[k.item()] not in ('<eos>','<pad>')]) # trim pad and eos tokens\r\n",
        "    trg_.append([[trg_itos[k.item()] for k in j if trg_itos[k.item()] not in ('<eos>','<pad>')]])\r\n",
        "\r\n",
        "  try:\r\n",
        "    score = bleu_score(pred_,trg_)\r\n",
        "    return score\r\n",
        "  except IndexError:\r\n",
        "    # My guess is that while doing split with split(\" \"), we are getting ngram len greater than 4\r\n",
        "    # Find blue_score for each translated and translation sepearately\r\n",
        "    \r\n",
        "    # for i,j in zip(translated,translation):\r\n",
        "    #   try:\r\n",
        "    #     bleu_score([[trg_itos[k.item()] for k in i]],[[[trg_itos[k.item()] for k in j]]])\r\n",
        "    #   except IndexError:\r\n",
        "    #     print(f' Translated result {[trg_itos[k.item()] for k in i]}')\r\n",
        "    #     print(f' Target Result {[trg_itos[k.item()] for k in j]}')\r\n",
        "\r\n",
        "    '''\r\n",
        "    The speculation was right. When the translated sentence has a ' ' in it. Then the length of ngram increases to 5 after splitting it string.split(\" \")\r\n",
        "    For now simply passing 0 score if this error is encountered.\r\n",
        "    '''\r\n",
        "    return 0"
      ],
      "execution_count": null,
      "outputs": [
        {
          "output_type": "error",
          "ename": "ImportError",
          "evalue": "ignored",
          "traceback": [
            "\u001b[0;31m---------------------------------------------------------------------------\u001b[0m",
            "\u001b[0;31mImportError\u001b[0m                               Traceback (most recent call last)",
            "\u001b[0;32m<ipython-input-112-c5ed5f3fc26d>\u001b[0m in \u001b[0;36m<module>\u001b[0;34m()\u001b[0m\n\u001b[1;32m      1\u001b[0m \u001b[0;32mimport\u001b[0m \u001b[0mtorchtext\u001b[0m\u001b[0;34m\u001b[0m\u001b[0;34m\u001b[0m\u001b[0m\n\u001b[0;32m----> 2\u001b[0;31m \u001b[0;32mfrom\u001b[0m \u001b[0mtorchtext\u001b[0m\u001b[0;34m.\u001b[0m\u001b[0mdata\u001b[0m\u001b[0;34m.\u001b[0m\u001b[0mmetrics\u001b[0m \u001b[0;32mimport\u001b[0m \u001b[0mbleu_score\u001b[0m\u001b[0;34m\u001b[0m\u001b[0;34m\u001b[0m\u001b[0m\n\u001b[0m\u001b[1;32m      3\u001b[0m \u001b[0;34m\u001b[0m\u001b[0m\n\u001b[1;32m      4\u001b[0m \u001b[0;32mdef\u001b[0m \u001b[0mget_blue_score\u001b[0m\u001b[0;34m(\u001b[0m\u001b[0mtranslated\u001b[0m\u001b[0;34m,\u001b[0m\u001b[0mtranslation\u001b[0m\u001b[0;34m,\u001b[0m\u001b[0mitos_location\u001b[0m\u001b[0;34m=\u001b[0m\u001b[0;34m\"target_itos.pkl\"\u001b[0m\u001b[0;34m)\u001b[0m\u001b[0;34m:\u001b[0m\u001b[0;34m\u001b[0m\u001b[0;34m\u001b[0m\u001b[0m\n\u001b[1;32m      5\u001b[0m   \u001b[0;31m# translated : [trg_len,batch_size,output_dim]\u001b[0m\u001b[0;34m\u001b[0m\u001b[0;34m\u001b[0m\u001b[0;34m\u001b[0m\u001b[0m\n",
            "\u001b[0;32m/usr/local/lib/python3.6/dist-packages/torchtext/data/metrics.py\u001b[0m in \u001b[0;36m<module>\u001b[0;34m()\u001b[0m\n\u001b[1;32m      2\u001b[0m \u001b[0;32mimport\u001b[0m \u001b[0mcollections\u001b[0m\u001b[0;34m\u001b[0m\u001b[0;34m\u001b[0m\u001b[0m\n\u001b[1;32m      3\u001b[0m \u001b[0;32mimport\u001b[0m \u001b[0mtorch\u001b[0m\u001b[0;34m\u001b[0m\u001b[0;34m\u001b[0m\u001b[0m\n\u001b[0;32m----> 4\u001b[0;31m \u001b[0;32mfrom\u001b[0m \u001b[0mtorchtext\u001b[0m\u001b[0;34m.\u001b[0m\u001b[0mdata\u001b[0m\u001b[0;34m.\u001b[0m\u001b[0mutils\u001b[0m \u001b[0;32mimport\u001b[0m \u001b[0mngrams_iterator\u001b[0m\u001b[0;34m\u001b[0m\u001b[0;34m\u001b[0m\u001b[0m\n\u001b[0m\u001b[1;32m      5\u001b[0m \u001b[0;34m\u001b[0m\u001b[0m\n\u001b[1;32m      6\u001b[0m \u001b[0;34m\u001b[0m\u001b[0m\n",
            "\u001b[0;31mImportError\u001b[0m: cannot import name 'ngrams_iterator'",
            "",
            "\u001b[0;31m---------------------------------------------------------------------------\u001b[0;32m\nNOTE: If your import is failing due to a missing package, you can\nmanually install dependencies using either !pip or !apt.\n\nTo view examples of installing some common dependencies, click the\n\"Open Examples\" button below.\n\u001b[0;31m---------------------------------------------------------------------------\u001b[0m\n"
          ]
        }
      ]
    },
    {
      "cell_type": "code",
      "metadata": {
        "id": "Ec4nwj5qauQ_"
      },
      "source": [
        "def train(model,iterator,optimizer,criterion,clip):\r\n",
        "  model.train()\r\n",
        "\r\n",
        "  epoch_loss = 0\r\n",
        "  bleu_score = 0\r\n",
        "  for i,batch in enumerate(iterator):\r\n",
        "\r\n",
        "    src,src_len = batch.src\r\n",
        "    trg = batch.trg\r\n",
        "\r\n",
        "    optimizer.zero_grad()\r\n",
        "\r\n",
        "    outputs = model(src,src_len,trg)\r\n",
        "\r\n",
        "    #outputs : [trg_len,batch,output_dim]\r\n",
        "    # trg :[trg_len,batch]\r\n",
        "\r\n",
        "    output_dim = outputs.shape[-1]\r\n",
        "\r\n",
        "    batch_bleu_score = get_blue_score(outputs,trg)\r\n",
        "    bleu_score += batch_bleu_score\r\n",
        "\r\n",
        "    outputs = outputs[1:].view(-1,output_dim)\r\n",
        "    trg = trg[1:].view(-1)\r\n",
        "\r\n",
        "    loss = criterion(outputs,trg)\r\n",
        "\r\n",
        "    loss.backward()\r\n",
        "\r\n",
        "    torch.nn.utils.clip_grad_norm(model.parameters(),clip)\r\n",
        "\r\n",
        "    optimizer.step()\r\n",
        "\r\n",
        "    epoch_loss += loss.item()\r\n",
        "  \r\n",
        "  return epoch_loss/len(iterator) , bleu_score/len(iterator)"
      ],
      "execution_count": null,
      "outputs": []
    },
    {
      "cell_type": "code",
      "metadata": {
        "id": "YWXIFm_vaxh3"
      },
      "source": [
        "def evaluate(model,criterion,iterator):\r\n",
        "  model.eval()\r\n",
        "\r\n",
        "  epoch_loss = 0\r\n",
        "  bleu_score = 0\r\n",
        "  for i,batch in enumerate(iterator):\r\n",
        "\r\n",
        "    src,src_len = batch.src\r\n",
        "    trg = batch.trg\r\n",
        "\r\n",
        "    outputs = model(src,src_len,trg)\r\n",
        "\r\n",
        "    output_dim = outputs.shape[-1]\r\n",
        "\r\n",
        "    batch_bleu_score = get_blue_score(outputs,trg)\r\n",
        "    bleu_score += batch_bleu_score\r\n",
        "\r\n",
        "    outputs = outputs[1:].view(-1,output_dim)\r\n",
        "    trg = trg[1:].view(-1)\r\n",
        "\r\n",
        "    loss = criterion(outputs,trg)\r\n",
        "\r\n",
        "    epoch_loss += loss.item()\r\n",
        "\r\n",
        "  return epoch_loss/len(iterator) ,bleu_score/len(iterator)"
      ],
      "execution_count": null,
      "outputs": []
    },
    {
      "cell_type": "code",
      "metadata": {
        "id": "iaQA-Eogaymg"
      },
      "source": [
        "def epoch_time(start_time,end_time):\r\n",
        "  elapsed_time = end_time - start_time\r\n",
        "  elapsed_mins = int(elapsed_time/60)\r\n",
        "  elapsed_secs = int(elapsed_time - elapsed_mins*60)\r\n",
        "  return elapsed_mins, elapsed_secs"
      ],
      "execution_count": null,
      "outputs": []
    },
    {
      "cell_type": "code",
      "metadata": {
        "id": "c-seb9Q8a2uL"
      },
      "source": [
        "import torch.nn.functional as F\r\n",
        "epochs = 20\r\n",
        "clip = 1.\r\n",
        "\r\n",
        "best_valid_loss = float('inf')\r\n",
        "\r\n",
        "for epoch in range(epochs):\r\n",
        "\r\n",
        "  start_time = time.time()\r\n",
        "\r\n",
        "  train_loss,train_bleu = train(model,train_iterator,optimizer,criterion,clip)\r\n",
        "  val_loss,val_bleu = evaluate(model,criterion,valid_iterator)\r\n",
        "\r\n",
        "  end_time = time.time()\r\n",
        "\r\n",
        "  if best_valid_loss > val_loss:\r\n",
        "    best_valid_loss = val_loss\r\n",
        "    torch.save(model.state_dict(),'english-german-seq2seq.pt')\r\n",
        "  \r\n",
        "  epoch_mins,epoch_secs = epoch_time(start_time,end_time)\r\n",
        "\r\n",
        "  print(f'Epoch : {epoch+1:02} | Time: {epoch_mins:.3f} minutes ,{epoch_secs} seconds')\r\n",
        "  print(f'\\t Train Loss : {train_loss:.3f} | Train BLEU : {train_bleu:.4f} | Train PPL: {math.exp(train_loss):7.3f} ')\r\n",
        "  print(f'\\t Val loss : {val_loss:.3f} | Val BLEU: {val_bleu:.4f} |Val PPL: {math.exp(val_loss):7.3f}')"
      ],
      "execution_count": null,
      "outputs": []
    },
    {
      "cell_type": "code",
      "metadata": {
        "id": "jz4BLfPpbMby"
      },
      "source": [
        "# Testing the model\r\n",
        "import spacy\r\n",
        "nlp = spacy.load('en')\r\n",
        "\r\n",
        "best_model_at = 'english-german-seq2seq.pt'\r\n",
        "model.load_state_dict(torch.load(best_model_at))\r\n",
        "model.eval()\r\n",
        "\r\n",
        "# src stoi vocab\r\n",
        "src_token_file = open(\"source.pkl\",'rb')\r\n",
        "src_vocab = pickle.load(src_token_file)\r\n",
        "\r\n",
        "\r\n",
        "# target stoi vocab\r\n",
        "trg_tokens_file = open('target_stoi.pkl','rb')\r\n",
        "trg_stoi = pickle.load(trg_tokens_file)\r\n",
        "\r\n",
        "# target itos vocab\r\n",
        "trg_token_file = open(\"target_itos.pkl\",'rb')\r\n",
        "trg_itos = pickle.load(trg_token_file)\r\n",
        "\r\n",
        "\r\n",
        "# Creating src tensor\r\n",
        "custom_src_ = \"A boy was swimming in the river.\"\r\n",
        "tokenized_custom_src = [i.text.lower() for i in nlp.tokenizer(custom_src_)]\r\n",
        "print(tokenized_custom_src)\r\n",
        "tokenized_custom_src = ['<sos>'] + tokenized_custom_src +['<eos>']\r\n",
        "custom_src = [src_vocab[i] for i in tokenized_custom_src]\r\n",
        "custom_src = torch.LongTensor(custom_src).to(device).unsqueeze(1)\r\n",
        "custom_src_len = torch.LongTensor([len(custom_src)]).to(device)\r\n",
        "\r\n",
        "# Creating trg tensor\r\n",
        "eval_trg_len = 15\r\n",
        "trg_seq = [trg_stoi['<sos>']]\r\n",
        "# There are two option to proceed. Pass src and trg to model.forward() or step by step model.encoder() and model.decoder(). With the second\r\n",
        "# you can visualize attention\r\n",
        "\r\n",
        "with torch.no_grad():\r\n",
        "  encoder_outputs, hidden = model.encoder(custom_src,custom_src_len)\r\n",
        "\r\n",
        "mask = model.create_mask(custom_src)\r\n",
        "\r\n",
        "attentions = []\r\n",
        "outputs = []\r\n",
        "\r\n",
        "for i in range(eval_trg_len): # Could have used range(eval_trg_len)\r\n",
        "  with torch.no_grad():\r\n",
        "    trg_tensor = torch.LongTensor([trg_seq[-1]]).to(device)\r\n",
        "    output, hidden,attention = model.decoder(trg_tensor,hidden,encoder_outputs,mask)\r\n",
        "  attentions.append(attention)\r\n",
        "  pred_token = output.argmax(1).item()\r\n",
        "  trg_seq.append(pred_token)\r\n",
        "\r\n",
        "  if pred_token == trg_stoi['<eos>']:\r\n",
        "    break\r\n",
        "\r\n",
        "attentions = torch.cat(attentions).to(device)\r\n",
        "translation = [trg_itos[i] for i in trg_seq]\r\n",
        "translation_joined = \" \".join(trg_itos[i] for i in trg_seq[1:-1][::-1])\r\n",
        "print(f\" German translation : {translation_joined}\")"
      ],
      "execution_count": null,
      "outputs": []
    },
    {
      "cell_type": "code",
      "metadata": {
        "id": "a88LOIGQbQ9S"
      },
      "source": [
        "# Printing Attention vector\r\n",
        "import matplotlib.pyplot as plt \r\n",
        "import matplotlib.ticker as ticker\r\n",
        "def display_attention(sentence,translation,attention):\r\n",
        "  fig = plt.figure(figsize=(10,10))\r\n",
        "  ax = fig.add_subplot(111)\r\n",
        "\r\n",
        "  attention = attention.squeeze(1).cpu().detach().numpy()\r\n",
        "\r\n",
        "  cax = ax.matshow(attention, cmap='bone')\r\n",
        "\r\n",
        "  ax.tick_params(labelsize=15)\r\n",
        "  ax.set_xticklabels(['']+[t for t in tokenized_custom_src],rotation=45)\r\n",
        "  ax.set_yticklabels(['']+ [t for t in translation])\r\n",
        "\r\n",
        "  ax.xaxis.set_major_locator(ticker.MultipleLocator(1))\r\n",
        "  ax.yaxis.set_major_locator(ticker.MultipleLocator(1))\r\n",
        "\r\n",
        "  plt.show()\r\n",
        "  plt.close()\r\n",
        "\r\n",
        "display_attention(custom_src_,translation,attentions)"
      ],
      "execution_count": null,
      "outputs": []
    }
  ]
}